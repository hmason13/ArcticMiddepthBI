{
 "cells": [
  {
   "cell_type": "code",
   "execution_count": 1,
   "metadata": {},
   "outputs": [],
   "source": [
    "import matplotlib.pyplot as plt\n",
    "import numpy as np\n",
    "import netCDF4 as nc"
   ]
  },
  {
   "cell_type": "code",
   "execution_count": 2,
   "metadata": {},
   "outputs": [],
   "source": [
    "# params\n",
    "secondsPerDay = 86400\n",
    "\n",
    "# io params\n",
    "conc = [\"0\", \"20\", \"40\", \"60\", \"80\", \"100\"]\n",
    "loc = \"/scratch/hcm7920/amb\""
   ]
  },
  {
   "cell_type": "code",
   "execution_count": 3,
   "metadata": {},
   "outputs": [],
   "source": [
    "# grid\n",
    "gridData = nc.Dataset(loc+conc[0]+\"/data/grid.nc\")\n",
    "levs = gridData[\"Z\"][:]\n",
    "levFaces = gridData[\"Zu\"][:]\n",
    "del gridData"
   ]
  },
  {
   "cell_type": "code",
   "execution_count": 4,
   "metadata": {},
   "outputs": [],
   "source": [
    "# data\n",
    "dynamicsData = nc.Dataset(loc+conc[0]+\"/data/diagsDynamics.nc\")\n",
    "ke = dynamicsData[\"momKE\"]\n",
    "keLevMean = np.zeros(shape=(ke.shape[0],ke.shape[1],len(conc)))\n",
    "keLevMax  = np.zeros(shape=(ke.shape[0],ke.shape[1],len(conc)))\n",
    "time = dynamicsData[\"T\"][:]/secondsPerDay\n",
    "del dynamicsData\n"
   ]
  },
  {
   "cell_type": "code",
   "execution_count": null,
   "metadata": {},
   "outputs": [],
   "source": [
    "\n"
   ]
  },
  {
   "cell_type": "code",
   "execution_count": 5,
   "metadata": {},
   "outputs": [],
   "source": [
    "np.save(\"/scratch/hcm7920/ambData/grid/gridLevs.npy\",levs.data)\n",
    "np.save(\"/scratch/hcm7920/ambData/grid/gridLevFaces.npy\",levFaces.data)\n",
    "np.save(\"/scratch/hcm7920/ambData/grid/gridTime.npy\",time.data)"
   ]
  },
  {
   "cell_type": "code",
   "execution_count": 6,
   "metadata": {},
   "outputs": [],
   "source": [
    "# averaging & maxing loop for other runs\n",
    "for i in range(len(conc)):\n",
    "    dynamicsData = nc.Dataset(loc+conc[i]+\"/data/diagsDynamics.nc\")\n",
    "    ke = dynamicsData[\"momKE\"]\n",
    "    \n",
    "    keLevMean[:,:,i] = ke[:,:,125:-125,:].mean((2,3))\n",
    "    keLevMax[:,:,i] = ke[:,:,125:-125,:].max((2,3))"
   ]
  },
  {
   "cell_type": "code",
   "execution_count": null,
   "metadata": {},
   "outputs": [],
   "source": [
    "\n"
   ]
  },
  {
   "cell_type": "code",
   "execution_count": 7,
   "metadata": {},
   "outputs": [],
   "source": [
    "# save data\n",
    "\n",
    "np.save(\"/scratch/hcm7920/ambData/levelMean/levelMeanKE.npy\",keLevMean)\n",
    "np.save(\"/scratch/hcm7920/ambData/levelMean/levelMaxKE.npy\",keLevMax)\n",
    "\n",
    "np.save(\"/scratch/hcm7920/ambData/grid/gridLevs.npy\",levs.data)\n",
    "np.save(\"/scratch/hcm7920/ambData/grid/gridLevFaces.npy\",levFaces.data)\n",
    "np.save(\"/scratch/hcm7920/ambData/grid/gridTimeDiags.npy\",time.data)\n"
   ]
  },
  {
   "cell_type": "code",
   "execution_count": null,
   "metadata": {},
   "outputs": [],
   "source": []
  },
  {
   "cell_type": "code",
   "execution_count": null,
   "metadata": {},
   "outputs": [],
   "source": [
    " "
   ]
  },
  {
   "cell_type": "code",
   "execution_count": null,
   "metadata": {},
   "outputs": [],
   "source": []
  },
  {
   "cell_type": "code",
   "execution_count": null,
   "metadata": {},
   "outputs": [],
   "source": []
  },
  {
   "cell_type": "code",
   "execution_count": null,
   "metadata": {},
   "outputs": [],
   "source": []
  }
 ],
 "metadata": {
  "kernelspec": {
   "display_name": "cartSing",
   "language": "python",
   "name": "cartsing"
  },
  "language_info": {
   "codemirror_mode": {
    "name": "ipython",
    "version": 3
   },
   "file_extension": ".py",
   "mimetype": "text/x-python",
   "name": "python",
   "nbconvert_exporter": "python",
   "pygments_lexer": "ipython3",
   "version": "3.11.4"
  }
 },
 "nbformat": 4,
 "nbformat_minor": 4
}
