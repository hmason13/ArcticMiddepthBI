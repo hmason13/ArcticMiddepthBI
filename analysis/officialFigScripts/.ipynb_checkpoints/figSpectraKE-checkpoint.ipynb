{
 "cells": [
  {
   "cell_type": "code",
   "execution_count": 93,
   "metadata": {},
   "outputs": [],
   "source": [
    "\n",
    "import netCDF4 as nc\n",
    "import matplotlib.pyplot as plt\n",
    "import numpy as np\n",
    "import cmocean\n",
    "import matplotlib.ticker as tkr\n",
    "from matplotlib.lines import Line2D\n",
    "%matplotlib inline\n",
    "plt.rcParams[\"font.size\"] = 12\n",
    "plt.rcParams['text.usetex'] = False\n",
    "plt.rcParams['mathtext.fontset'] = 'dejavuserif'\n",
    "plt.rcParams['font.family'] = 'Dejavu Serif'"
   ]
  },
  {
   "cell_type": "code",
   "execution_count": 94,
   "metadata": {},
   "outputs": [],
   "source": [
    "# params\n",
    "nx = 500\n",
    "ny = 500\n",
    "nz = 50\n",
    "dx = 2000\n",
    "dy = 2000\n",
    "\n",
    "loc = \"/scratch/hcm7920/amb\"\n",
    "loc1 = \"/home/hcm7920/experiments/arcticMiddepthBI/plots/officialFigs/\"\n",
    "conc = [0,60,100]\n",
    "\n",
    "levs = [0,10,20]\n",
    "ts   = np.array(range(0,148,15))\n",
    "nSnapshots = len(ts)\n",
    "nLevs = len(levs)"
   ]
  },
  {
   "cell_type": "code",
   "execution_count": null,
   "metadata": {},
   "outputs": [],
   "source": []
  },
  {
   "cell_type": "code",
   "execution_count": 95,
   "metadata": {},
   "outputs": [],
   "source": [
    "# initialize arrays\n",
    "ctrV = np.zeros(shape=(len(conc),nSnapshots,nLevs,ny-2,nx-2))\n",
    "ctrU = np.zeros(shape=(len(conc),nSnapshots,nLevs,ny-2,nx-2))"
   ]
  },
  {
   "cell_type": "code",
   "execution_count": null,
   "metadata": {},
   "outputs": [],
   "source": [
    "# load and process data\n",
    "for ic in range(len(conc)):\n",
    "    data = nc.Dataset(loc+str(conc[ic])+\"/data/state.nc\")\n",
    "    u = data[\"U\"]\n",
    "    v = data[\"V\"]\n",
    "    depth = data[\"Z\"]\n",
    "    data = nc.Dataset(loc+str(conc[ic])+\"/data/diagsState.nc\")\n",
    "    meanU = data[\"UVEL\"][:,:,:,:].mean((0,))\n",
    "    meanV = data[\"VVEL\"][:,:,:,:].mean((0,))\n",
    "    \n",
    "#     dvdx = (v[ts,levs,2:-2,2:-1]-v[ts,levs,2:-2,1:-2])/(dx)\n",
    "#     dudy = (u[ts,levs,2:-1,2:-2]-u[ts,levs,1:-2,2:-2])/(dy)\n",
    "#     vortSnapshots[ic,0,:,:,:] = (dvdx-dudy)\n",
    "    \n",
    "    u = u[ts,levs,:,:] - meanU[None,levs,:,:]\n",
    "    v = v[ts,levs,:,:] - meanV[None,levs,:,:]\n",
    "    ctrU[ic,:,:,:,:] = (u[:,:,1:-1,2:-1]+u[:,:,1:-1,1:-2])/2\n",
    "    ctrV[ic,:,:,:,:] = (v[:,:,1:-2,1:-1]+v[:,:,2:-1,1:-1])/2"
   ]
  },
  {
   "cell_type": "code",
   "execution_count": null,
   "metadata": {},
   "outputs": [],
   "source": [
    "# show some window functions\n",
    "windowHanning = np.hanning(ny-2)[np.newaxis,np.newaxis,np.newaxis,:,np.newaxis]\n",
    "plt.plot(np.hanning(ny-2))\n",
    "plt.plot(np.kaiser(ny-2,5))\n",
    "plt.plot(np.bartlett(ny-2))\n",
    "plt.plot(np.blackman(ny-2))\n",
    "plt.title(\"Window function options\")"
   ]
  },
  {
   "cell_type": "code",
   "execution_count": null,
   "metadata": {},
   "outputs": [],
   "source": [
    "# apply window function on u,v\n",
    "ctrU *= windowHanning\n",
    "ctrV *= windowHanning"
   ]
  },
  {
   "cell_type": "code",
   "execution_count": null,
   "metadata": {},
   "outputs": [],
   "source": [
    "# show new KE field\n",
    "newKE = ctrU**2 + ctrV**2\n",
    "plt.imshow(newKE[0,0,0,:,:], vmax=0.1*newKE.max())"
   ]
  },
  {
   "cell_type": "code",
   "execution_count": null,
   "metadata": {},
   "outputs": [],
   "source": [
    "# perform 2D fft, get wavenumbers\n",
    "spectralV = np.fft.fftn(ctrV, axes=(-1,-2))\n",
    "spectralU = np.fft.fftn(ctrU, axes=(-1,-2))\n",
    "waveNum1D = np.fft.fftfreq(ny-2, d=2) # 2 km between samples\n",
    "waveNum2D = np.abs(np.meshgrid(waveNum1D, waveNum1D))**2\n",
    "waveNum2D = np.sqrt(waveNum2D.sum((0,)))"
   ]
  },
  {
   "cell_type": "code",
   "execution_count": null,
   "metadata": {},
   "outputs": [],
   "source": []
  },
  {
   "cell_type": "code",
   "execution_count": null,
   "metadata": {},
   "outputs": [],
   "source": [
    "# calculate spectral KE\n",
    "sKE = 0.5*(spectralV**2 + spectralU**2)\n",
    "sKE = np.abs(sKE)\n",
    "\n",
    "# get histogram bins\n",
    "binEdges = np.arange(0., (ny-2)//2+1, 2.)/2000 # spaced 2km apart apart\n",
    "binCenters = (binEdges[:-1]+binEdges[1:])/2"
   ]
  },
  {
   "cell_type": "code",
   "execution_count": null,
   "metadata": {},
   "outputs": [],
   "source": [
    "# initialize save array\n",
    "sKEbinned = np.zeros(shape=(len(conc),nSnapshots,nLevs,len(binEdges)-1))\n",
    "numVals  = np.zeros(shape=(len(conc),nSnapshots,nLevs,len(binEdges)-1))"
   ]
  },
  {
   "cell_type": "code",
   "execution_count": null,
   "metadata": {},
   "outputs": [],
   "source": [
    "# we will use histogram functionality for summing & binning\n",
    "\n",
    "for ic in range(len(conc)):\n",
    "    for it in range(nSnapshots):\n",
    "        for iz in range(nLevs):\n",
    "            sKEbinned[ic,it,iz,:],edgeOut = np.histogram(waveNum2D,\n",
    "                                                         bins=binEdges,\n",
    "                                                         weights=sKE[ic,it,iz,:,:])\n",
    "            numVals[ic,it,iz,:], edgeOut = np.histogram(waveNum2D,\n",
    "                                                        bins=binEdges)\n",
    "            \n",
    "\n",
    "# Note that the max wavenumber with good stats:\n",
    "# = 0.5 * smallest grid dim / length in that dim\n",
    "# = 0.5 * 500 / 1000km = 0.25 1/km\n"
   ]
  },
  {
   "cell_type": "code",
   "execution_count": null,
   "metadata": {},
   "outputs": [],
   "source": [
    "# do averaging to see if it makes a difference\n",
    "\n",
    "# average value in a bin\n",
    "powerSpectrum = sKEbinned/numVals\n",
    "\n",
    "# multiply by integration area for a bin\n",
    "powerSpectrum *= 0.5*np.pi*binCenters"
   ]
  },
  {
   "cell_type": "code",
   "execution_count": null,
   "metadata": {},
   "outputs": [],
   "source": []
  },
  {
   "cell_type": "code",
   "execution_count": null,
   "metadata": {},
   "outputs": [],
   "source": []
  },
  {
   "cell_type": "code",
   "execution_count": null,
   "metadata": {},
   "outputs": [],
   "source": [
    "fig, axs = plt.subplots(1,2,sharex=False,figsize=(10,5),layout='constrained')\n",
    "\n",
    "# plot spectra for ice free\n",
    "plt.sca(axs[0])\n",
    "colors = plt.cm.magma_r(np.linspace(0.2,0.95,nLevs))\n",
    "for iz in range(nLevs):\n",
    "    plt.loglog(binCenters*2*np.pi,powerSpectrum[0,:,iz,:].mean((0,)), \n",
    "               label=f\"{-depth[levs[iz]].round(0).astype(int)} m\", \n",
    "               color=colors[iz])\n",
    "\n",
    "plt.legend()\n",
    "plt.title(\"0% SIC\")\n",
    "plt.xlabel(\"Wavenumber ($\\mathrm{km}^{-1}$)\")\n",
    "plt.ylabel(\"$\\mathrm{m}^2\\,\\mathrm{s}^{-2}\\,\\mathrm{km}$\")\n",
    "plt.grid(visible=True)\n",
    "\n",
    "# plot spectra for ice covered\n",
    "plt.sca(axs[1])\n",
    "colors = plt.cm.magma_r(np.linspace(0.2,0.95,nLevs))\n",
    "for iz in range(nLevs):\n",
    "    plt.loglog(binCenters*2*np.pi,powerSpectrum[-1,:,iz,:].mean((0,)), \n",
    "               label=f\"{-depth[levs[iz]].round(0).astype(int)} m\", \n",
    "               color=colors[iz])\n",
    "plt.legend()\n",
    "plt.title(\"100% SIC\")\n",
    "plt.xlabel(\"Wavenumber ($\\mathrm{km}^{-1}$)\")\n",
    "plt.tick_params(which='both',left=False,right=True,labelleft=False,labelright=True)\n",
    "plt.grid(visible=True)\n",
    "\n",
    "plt.savefig(loc1+\"figKeSpectra.pdf\",bbox_inches='tight')"
   ]
  },
  {
   "cell_type": "code",
   "execution_count": null,
   "metadata": {},
   "outputs": [],
   "source": [
    "# same except they're both on the same subplot\n",
    "myAlphas = [1,0.8,0.6]\n",
    "myStyles = ['solid','dashed','dotted']\n",
    "color1 = 'darkblue'\n",
    "color2 = 'orangered'\n",
    "\n",
    "fig, axs = plt.subplots(1,1,figsize=(8,6),layout='constrained')\n",
    "\n",
    "# plot spectra for ice free\n",
    "plt.sca(axs)\n",
    "colors = plt.cm.magma_r(np.linspace(0.2,0.95,nLevs))\n",
    "for iz in range(nLevs):\n",
    "    plt.loglog(binCenters*2*np.pi,powerSpectrum[0,:,iz,:].mean((0,)), \n",
    "               label=f\"{-depth[levs[iz]].round(0).astype(int)} m\", \n",
    "               color=color1,linestyle=myStyles[iz],alpha=1)\n",
    "\n",
    "# plot spectra for ice covered\n",
    "plt.sca(axs)\n",
    "colors = plt.cm.magma_r(np.linspace(0.2,0.95,nLevs))\n",
    "for iz in range(nLevs):\n",
    "    plt.loglog(binCenters*2*np.pi,powerSpectrum[-1,:,iz,:].mean((0,)), \n",
    "               label=f\"{-depth[levs[iz]].round(0).astype(int)} m\", \n",
    "               color=color2,linestyle=myStyles[iz],alpha=1)\n",
    "\n",
    "# plot vlines\n",
    "plt.vlines([1/60,1/20],2e-2,2e4,colors='black',alpha=0.6,zorder=-5)\n",
    "plt.annotate(\"(60 km)$^{-1}$\",(1/60,1.3e-2),horizontalalignment='center')\n",
    "plt.annotate(\"(20 km)$^{-1}$\",(1/20,1.3e-2),horizontalalignment='center')\n",
    "\n",
    "legend_elements= []\n",
    "legend_elements.append(Line2D([0],[0],color=color1,\n",
    "                              label=\"Ice free\",linewidth=2))\n",
    "legend_elements.append(Line2D([0],[0],color=color2,\n",
    "                              label=\"Ice covered\",linewidth=2))\n",
    "legend_elements.append(Line2D([0],[0],color=\"white\",label=\"\"))\n",
    "for iz in range(nLevs):\n",
    "  holder = Line2D([0],[0],color='gray',linestyle=myStyles[iz],\n",
    "                  label=f\"{-depth[levs[iz]].round(0).astype(int)} m\",\n",
    "                  linewidth=2)\n",
    "  legend_elements.append(holder)\n",
    "plt.legend(handles=legend_elements)\n",
    "\n",
    "plt.xlabel(\"Wavenumber ($\\mathrm{km}^{-1}$)\")\n",
    "plt.ylabel(\"$\\mathrm{m}^2\\,\\mathrm{s}^{-2}\\,\\mathrm{km}$\")\n",
    "plt.grid(visible=False)\n",
    "plt.ylim([0.6e-2,2e4])\n",
    "plt.savefig(loc1+\"figKeSpectraCombined.pdf\",bbox_inches='tight')"
   ]
  },
  {
   "cell_type": "markdown",
   "metadata": {},
   "source": [
    "##### plot spectra for 60% ice\n",
    "colors = plt.cm.magma_r(np.linspace(0.2,0.95,nLevs))\n",
    "for iz in range(nLevs):\n",
    "    plt.loglog(binCenters*2*np.pi,powerSpectrum[1,:,iz,:].mean((0,)), \n",
    "               label=f\"{-depth[levs[iz]].round(0).astype(int)} m depth\", \n",
    "               color=colors[iz])\n",
    "\n",
    "plt.vlines([1/40],1e0,1e4,color=\"grey\",linewidths=0.5)\n",
    "plt.legend()\n",
    "plt.title(\"Ice covered KE spectra by depth level\")\n",
    "plt.xlabel(\"Wavenumber ($\\mathrm{km}^{-1}$)\")"
   ]
  },
  {
   "cell_type": "code",
   "execution_count": null,
   "metadata": {},
   "outputs": [],
   "source": [
    "\n",
    "# slope fitting\n",
    "# coef = np.polyfit(np.log10(binCenters[10:90]),\n",
    "#                   np.log10(powerSpectrum[0,:,2,10:90].mean((0,))),\n",
    "#                   1)\n",
    "# fitLine = np.poly1d(coef)\n",
    "# fitFunc = lambda x: 10**(fitLine(np.log10(x)))\n",
    "\n",
    "\n",
    "# fitLine2 = np.poly1d((-3,coef[1]))\n",
    "# fitFunc2 = lambda x: 10**(fitLine2(np.log10(x)))\n",
    "\n",
    "# fitLine3 = np.poly1d((-4,coef[1]-3))\n",
    "# fitFunc3 = lambda x: 10**(fitLine3(np.log10(x)))\n",
    "\n"
   ]
  },
  {
   "cell_type": "code",
   "execution_count": null,
   "metadata": {},
   "outputs": [],
   "source": [
    "# coef"
   ]
  },
  {
   "cell_type": "code",
   "execution_count": null,
   "metadata": {},
   "outputs": [],
   "source": [
    "# plot spectra comparing ice free and ice covered\n",
    "# colors = plt.cm.viridis(np.linspace(0,0.95,nLevs))\n",
    "# plt.loglog(binCenters,powerSpectrum[0,:,0,:].mean((0,)), \n",
    "#            label=\"Ice free\")\n",
    "# plt.loglog(binCenters,powerSpectrum[1,:,0,:].mean((0,)), \n",
    "#            label=\"Ice covered\")\n",
    "# plt.legend()\n",
    "# plt.xlabel(\"Wavenumber ($\\mathrm{km}^{-1}$)\")\n",
    "# plt.title(\"Surface KE spectra\")\n",
    "\n",
    "# # plot fit line\n",
    "# plt.plot((binCenters[10:90]),\n",
    "#          fitFunc(binCenters[10:90]), \n",
    "#          linestyle=\"dashed\", color=\"grey\")\n"
   ]
  },
  {
   "cell_type": "code",
   "execution_count": null,
   "metadata": {},
   "outputs": [],
   "source": [
    "# plot spectra comparing ice free and ice covered\n",
    "# colors = plt.cm.viridis(np.linspace(0,0.95,nLevs))\n",
    "# plt.loglog(binCenters,powerSpectrum[0,:,1,:].mean((0,)), \n",
    "#            label=\"Ice free\")\n",
    "# plt.loglog(binCenters,powerSpectrum[1,:,1,:].mean((0,)), \n",
    "#            label=\"Ice covered\")\n",
    "# plt.legend()\n",
    "# plt.xlabel(\"Wavenumber ($\\mathrm{km}^{-1}$)\")\n",
    "# plt.title(f\"Depth {-depth[levs[1]].round(0).astype(int)}m KE spectra\")\n",
    "\n",
    "# # plot fit line\n",
    "# plt.plot((binCenters[10:90]),\n",
    "#          fitFunc(binCenters[10:90]), \n",
    "#          linestyle=\"dashed\", color=\"grey\")\n",
    "\n",
    "# # plot fit line\n",
    "# plt.plot((binCenters[10:90]),\n",
    "#          fitFunc2(binCenters[10:90]), \n",
    "#          linestyle=\"dashed\", color=\"black\")\n",
    "\n",
    "# # plot fit line\n",
    "# plt.plot((binCenters[10:90]),\n",
    "#          fitFunc3(binCenters[10:90]), \n",
    "#          linestyle=\"dashed\", color=\"green\")"
   ]
  },
  {
   "cell_type": "code",
   "execution_count": null,
   "metadata": {},
   "outputs": [],
   "source": [
    "# plot spectra comparing ice free and ice covered\n",
    "# colors = plt.cm.viridis(np.linspace(0,0.95,nLevs))\n",
    "# plt.loglog(binCenters,powerSpectrum[0,:,2,:].mean((0,)), \n",
    "#            label=\"Ice free\")\n",
    "# plt.loglog(binCenters,powerSpectrum[1,:,2,:].mean((0,)), \n",
    "#            label=\"Ice covered\")\n",
    "# plt.legend()\n",
    "# plt.xlabel(\"Wavenumber ($\\mathrm{km}^{-1}$)\")\n",
    "# plt.title(f\"Depth {-depth[levs[2]].round(0).astype(int)}m KE spectra\")\n",
    "\n",
    "# # slope fitting\n",
    "# coef = np.polyfit(np.log10(binCenters[10:90]),\n",
    "#                   np.log10(powerSpectrum[0,:,2,10:90].mean((0,))),\n",
    "#                   1)\n",
    "# fitLine = np.poly1d(coef)\n",
    "# fitFunc = lambda x: 10**(fitLine(np.log10(x)))\n",
    "\n",
    "# # plot fit line\n",
    "# plt.plot((binCenters[10:90]),\n",
    "#          fitFunc(binCenters[10:90]), \n",
    "#          linestyle=\"dashed\", color=\"grey\")"
   ]
  },
  {
   "cell_type": "code",
   "execution_count": null,
   "metadata": {},
   "outputs": [],
   "source": [
    "# coef"
   ]
  },
  {
   "cell_type": "code",
   "execution_count": null,
   "metadata": {},
   "outputs": [],
   "source": [
    "# plot spectra comparing ice free and ice covered\n",
    "# colors = plt.cm.viridis(np.linspace(0,0.95,nLevs))\n",
    "# plt.loglog(binCenters,powerSpectrum[0,:,3,:].mean((0,)), \n",
    "#            label=\"Ice free\")\n",
    "# plt.loglog(binCenters,powerSpectrum[1,:,3,:].mean((0,)), \n",
    "#            label=\"Ice covered\")\n",
    "# plt.legend()\n",
    "# plt.xlabel(\"Wavenumber ($\\mathrm{km}^{-1}$)\")\n",
    "# plt.title(f\"Depth {-depth[levs[3]].round(0).astype(int)}m KE spectra\")\n",
    "\n",
    "# # plot fit line\n",
    "# plt.plot((binCenters[10:90]),\n",
    "#          fitFunc(binCenters[10:90]), \n",
    "#          linestyle=\"dashed\", color=\"grey\")"
   ]
  },
  {
   "cell_type": "code",
   "execution_count": null,
   "metadata": {},
   "outputs": [],
   "source": []
  },
  {
   "cell_type": "code",
   "execution_count": null,
   "metadata": {},
   "outputs": [],
   "source": []
  },
  {
   "cell_type": "code",
   "execution_count": null,
   "metadata": {},
   "outputs": [],
   "source": []
  },
  {
   "cell_type": "code",
   "execution_count": null,
   "metadata": {},
   "outputs": [],
   "source": []
  },
  {
   "cell_type": "code",
   "execution_count": null,
   "metadata": {},
   "outputs": [],
   "source": []
  }
 ],
 "metadata": {
  "kernelspec": {
   "display_name": "cartSing",
   "language": "python",
   "name": "cartsing"
  },
  "language_info": {
   "codemirror_mode": {
    "name": "ipython",
    "version": 3
   },
   "file_extension": ".py",
   "mimetype": "text/x-python",
   "name": "python",
   "nbconvert_exporter": "python",
   "pygments_lexer": "ipython3",
   "version": "3.11.4"
  }
 },
 "nbformat": 4,
 "nbformat_minor": 4
}
