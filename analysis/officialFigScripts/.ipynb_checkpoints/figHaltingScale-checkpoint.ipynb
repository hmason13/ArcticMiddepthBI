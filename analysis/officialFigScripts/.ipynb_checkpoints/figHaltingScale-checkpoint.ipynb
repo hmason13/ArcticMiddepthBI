{
 "cells": [
  {
   "cell_type": "code",
   "execution_count": 3,
   "metadata": {},
   "outputs": [],
   "source": [
    "import numpy as np\n",
    "import netCDF4 as nc\n",
    "import matplotlib.pyplot as plt"
   ]
  },
  {
   "cell_type": "code",
   "execution_count": 4,
   "metadata": {},
   "outputs": [],
   "source": [
    "# params\n",
    "\n",
    "nx = 500\n",
    "ny = 500\n",
    "nz = 50\n",
    "dx = 2000\n",
    "dy = 2000\n",
    "\n",
    "loc0 = \"/scratch/hcm7920/amb\"\n",
    "conc = [\"0\",\"100\"]\n",
    "dI   = 30\n",
    "tSkip  = 4\n",
    "myLevs = [0,5,10,15,20,25]"
   ]
  },
  {
   "cell_type": "code",
   "execution_count": 5,
   "metadata": {},
   "outputs": [],
   "source": [
    "eddyScale = np.zeros(shape=(len(conc),len(myLevs),ny-2,nx-2))"
   ]
  },
  {
   "cell_type": "code",
   "execution_count": null,
   "metadata": {},
   "outputs": [],
   "source": [
    "\n",
    "for ic in range(len(conc)):\n",
    "    \n",
    "    phiHyd = nc.Dataset(loc0+conc[ic]+f\"/data/phiHyd.nc\")[\"phiHyd\"]\n",
    "    levsP   = nc.Dataset(loc0+conc[ic]+f\"/data/phiHyd.nc\")[\"Z\"]\n",
    "    timeP   = nc.Dataset(loc0+conc[ic]+f\"/data/phiHyd.nc\")[\"T\"]\n",
    "    \n",
    "    for il in range(len(myLevs)):\n",
    "    \n",
    "        phiHyd2  = phiHyd[3::tSkip,il,:,:]**2\n",
    "        phiHydDX = (phiHyd[3::tSkip,il,1:-1,2:]-phiHyd[3::tSkip,il,1:-1,:-2])/(2*dx)\n",
    "        phiHydDY = (phiHyd[3::tSkip,il,2:,1:-1]-phiHyd[3::tSkip,il,:-2,1:-1])/(2*dy)\n",
    "        phiHydG2 = phiHydDX**2 + phiHydDY**2\n",
    "\n",
    "        phiHyd2  = phiHyd2.mean((0,))\n",
    "        phiHydG2 = phiHydG2.mean((0,))\n",
    "\n",
    "        eddyScale[ic,il,:,:] = np.sqrt(phiHyd2[1:-1,1:-1]/phiHydG2)\n",
    "        \n",
    "        print(f\"Done w lev {il}\")\n",
    "\n"
   ]
  },
  {
   "cell_type": "code",
   "execution_count": null,
   "metadata": {},
   "outputs": [],
   "source": [
    "fig,ax = plt.subplots(len(myLevs),2,figsize=(10,16),layout='constrained',\n",
    "                      sharey=True)\n",
    "for ic in range(len(conc)):\n",
    "    for il in range(len(myLevs)):\n",
    "        im = ax[il,ic].contourf(eddyScale[ic,il,125:-125,:]/1000,50)\n",
    "        plt.colorbar(im,location=\"bottom\",shrink=1)\n",
    "        ax[il,ic].tick_params(axis='x', which='both',    \n",
    "                       bottom=False, top=False,         \n",
    "                       labelbottom=False)\n",
    "        if ic==0:\n",
    "            ax[il,ic].set_ylabel(f\"{levsP[myLevs[il]].round(0)} meters\")\n"
   ]
  },
  {
   "cell_type": "code",
   "execution_count": null,
   "metadata": {},
   "outputs": [],
   "source": []
  },
  {
   "cell_type": "code",
   "execution_count": null,
   "metadata": {},
   "outputs": [],
   "source": []
  },
  {
   "cell_type": "code",
   "execution_count": null,
   "metadata": {},
   "outputs": [],
   "source": []
  },
  {
   "cell_type": "code",
   "execution_count": null,
   "metadata": {},
   "outputs": [],
   "source": []
  },
  {
   "cell_type": "code",
   "execution_count": null,
   "metadata": {},
   "outputs": [],
   "source": []
  },
  {
   "cell_type": "code",
   "execution_count": null,
   "metadata": {},
   "outputs": [],
   "source": []
  },
  {
   "cell_type": "code",
   "execution_count": null,
   "metadata": {},
   "outputs": [],
   "source": []
  },
  {
   "cell_type": "code",
   "execution_count": null,
   "metadata": {},
   "outputs": [],
   "source": []
  },
  {
   "cell_type": "code",
   "execution_count": null,
   "metadata": {},
   "outputs": [],
   "source": []
  },
  {
   "cell_type": "code",
   "execution_count": null,
   "metadata": {},
   "outputs": [],
   "source": []
  },
  {
   "cell_type": "code",
   "execution_count": null,
   "metadata": {},
   "outputs": [],
   "source": []
  }
 ],
 "metadata": {
  "kernelspec": {
   "display_name": "cartSing",
   "language": "python",
   "name": "cartsing"
  },
  "language_info": {
   "codemirror_mode": {
    "name": "ipython",
    "version": 3
   },
   "file_extension": ".py",
   "mimetype": "text/x-python",
   "name": "python",
   "nbconvert_exporter": "python",
   "pygments_lexer": "ipython3",
   "version": "3.11.4"
  }
 },
 "nbformat": 4,
 "nbformat_minor": 4
}
