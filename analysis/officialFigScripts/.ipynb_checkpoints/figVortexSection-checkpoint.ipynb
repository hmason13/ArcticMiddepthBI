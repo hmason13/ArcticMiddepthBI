{
 "cells": [
  {
   "cell_type": "code",
   "execution_count": 1,
   "id": "2cfab305-8f87-4b18-bc3c-75235b5e42f9",
   "metadata": {},
   "outputs": [],
   "source": [
    "import matplotlib as mpl\n",
    "import matplotlib.pyplot as plt\n",
    "import cmasher\n",
    "from matplotlib.lines import Line2D\n",
    "import numpy as np\n",
    "import netCDF4 as nc\n",
    "%matplotlib inline\n",
    "plt.rcParams['text.usetex'] = False\n",
    "plt.rcParams['mathtext.fontset'] = 'dejavuserif'\n",
    "plt.rcParams['font.family'] = 'Dejavu Serif'\n",
    "plt.rcParams['font.size'] = 12"
   ]
  },
  {
   "cell_type": "code",
   "execution_count": 2,
   "id": "63b171bb-ce88-42d0-a732-b2e646c69178",
   "metadata": {},
   "outputs": [],
   "source": [
    "# constants\n",
    "secondsPerDay = 86400\n",
    "nx = 500\n",
    "ny = 500\n",
    "f0 = 1.4e-4\n",
    "\n",
    "# plotting params\n",
    "deepIndex = 30\n",
    "timestep = [34,0,127,0]\n",
    "xIndex = [248,0,251,0]\n",
    "yMin = [150,0,285,0]\n",
    "yMax = [350,0,330,0]\n",
    "myCmap = cmasher.cm.waterlily\n",
    "\n",
    "# io params\n",
    "loc0 = f\"/scratch/hcm7920/amb0/data/\"\n",
    "loc100 = f\"/scratch/hcm7920/amb100/data/\"\n",
    "conc = [\"0\", \"20\", \"40\", \"60\", \"80\", \"100\"]\n",
    "saveloc = \"/home/hcm7920/experiments/arcticMiddepthBI/plots/\"  "
   ]
  },
  {
   "cell_type": "code",
   "execution_count": 3,
   "id": "912d411e-9efa-4789-94c6-7c96c4183382",
   "metadata": {},
   "outputs": [
    {
     "ename": "IndexError",
     "evalue": "index exceeds dimension bounds",
     "output_type": "error",
     "traceback": [
      "\u001b[0;31m---------------------------------------------------------------------------\u001b[0m",
      "\u001b[0;31mIndexError\u001b[0m                                Traceback (most recent call last)",
      "Cell \u001b[0;32mIn[3], line 14\u001b[0m\n\u001b[1;32m     12\u001b[0m state \u001b[38;5;241m=\u001b[39m nc\u001b[38;5;241m.\u001b[39mDataset(loc100\u001b[38;5;241m+\u001b[39m\u001b[38;5;124m\"\u001b[39m\u001b[38;5;124mstate.nc\u001b[39m\u001b[38;5;124m\"\u001b[39m)\n\u001b[1;32m     13\u001b[0m salt \u001b[38;5;241m=\u001b[39m state[\u001b[38;5;124m\"\u001b[39m\u001b[38;5;124mS\u001b[39m\u001b[38;5;124m\"\u001b[39m]\n\u001b[0;32m---> 14\u001b[0m saltSection2 \u001b[38;5;241m=\u001b[39m salt[timestep[\u001b[38;5;241m1\u001b[39m],:deepIndex,yRange,xIndex[\u001b[38;5;241m1\u001b[39m]]\n\u001b[1;32m     15\u001b[0m state \u001b[38;5;241m=\u001b[39m nc\u001b[38;5;241m.\u001b[39mDataset(loc100\u001b[38;5;241m+\u001b[39m\u001b[38;5;124m\"\u001b[39m\u001b[38;5;124mdiagsSnapshots.nc\u001b[39m\u001b[38;5;124m\"\u001b[39m)\n\u001b[1;32m     16\u001b[0m vortSection2 \u001b[38;5;241m=\u001b[39m state[\u001b[38;5;124m\"\u001b[39m\u001b[38;5;124mmomVort3\u001b[39m\u001b[38;5;124m\"\u001b[39m][timestep[\u001b[38;5;241m1\u001b[39m]\u001b[38;5;241m-\u001b[39m\u001b[38;5;241m1\u001b[39m,:deepIndex,yRange,xIndex[\u001b[38;5;241m1\u001b[39m]]\u001b[38;5;241m/\u001b[39mf0\n",
      "File \u001b[0;32msrc/netCDF4/_netCDF4.pyx:4973\u001b[0m, in \u001b[0;36mnetCDF4._netCDF4.Variable.__getitem__\u001b[0;34m()\u001b[0m\n",
      "File \u001b[0;32msrc/netCDF4/_netCDF4.pyx:5928\u001b[0m, in \u001b[0;36mnetCDF4._netCDF4.Variable._get\u001b[0;34m()\u001b[0m\n",
      "\u001b[0;31mIndexError\u001b[0m: index exceeds dimension bounds"
     ]
    }
   ],
   "source": [
    "# load data\n",
    "\n",
    "yRange = [y for y in range(yMin[0],yMax[0])]\n",
    "state = nc.Dataset(loc100+\"state.nc\")\n",
    "depth = state[\"Z\"][:deepIndex]\n",
    "salt = state[\"S\"]\n",
    "saltSection1 = salt[timestep[0],:deepIndex,yRange,xIndex[0]]\n",
    "state = nc.Dataset(loc100+\"diagsSnapshots.nc\")\n",
    "vortSection1 = state[\"momVort3\"][timestep[0]-1,:deepIndex,yRange,xIndex[0]]/f0\n",
    "\n",
    "yRange = [y for y in range(yMin[2],yMax[2])]\n",
    "state = nc.Dataset(loc100+\"state.nc\")\n",
    "salt = state[\"S\"]\n",
    "saltSection3 = salt[timestep[2],:deepIndex,yRange,xIndex[2]]\n",
    "state = nc.Dataset(loc100+\"diagsSnapshots.nc\")\n",
    "vortSection3 = state[\"momVort3\"][timestep[2]-1,:deepIndex,yRange,xIndex[2]]/f0\n"
   ]
  },
  {
   "cell_type": "code",
   "execution_count": null,
   "id": "af09693c-52bb-4972-935b-828ccf0672f1",
   "metadata": {},
   "outputs": [],
   "source": []
  },
  {
   "cell_type": "code",
   "execution_count": null,
   "id": "31fa80b0-a3a1-4372-9228-ebbce45cdb05",
   "metadata": {},
   "outputs": [],
   "source": []
  },
  {
   "cell_type": "code",
   "execution_count": null,
   "id": "3bacb879-cf21-422b-aa14-aa8679d3d89c",
   "metadata": {},
   "outputs": [],
   "source": []
  },
  {
   "cell_type": "code",
   "execution_count": null,
   "id": "6692725f-08d3-4524-b308-f5cab595d4c2",
   "metadata": {},
   "outputs": [],
   "source": []
  },
  {
   "cell_type": "code",
   "execution_count": null,
   "id": "3a903cd9-cba6-4421-b040-5cd5df703381",
   "metadata": {},
   "outputs": [],
   "source": []
  },
  {
   "cell_type": "code",
   "execution_count": null,
   "id": "caa14995-fb0b-42d9-b4a6-76f936cf8fa7",
   "metadata": {},
   "outputs": [],
   "source": [
    "# plot salt section 3\n",
    "\n",
    "myMax = saltSection3.max().round(0)\n",
    "myMin = saltSection3.min().round(0)\n",
    "myLevs = np.linspace(myMin,myMax,2*6+1)\n",
    "\n",
    "myMax = abs(vortSection3).max()\n",
    "myLevs1 = np.linspace(-myMax,myMax,100)*1.2\n",
    "\n",
    "plt.figure(layout=\"constrained\",figsize=(12,8))\n",
    "\n",
    "horizDistanceKm = np.linspace(yMin[2],yMax[2],saltSection3.shape[1])*2 - 500\n",
    "im1 = plt.contour(horizDistanceKm,depth,saltSection3,myLevs,\n",
    "                  colors=\"grey\", linewidths=1.5)\n",
    "plt.contourf(horizDistanceKm,depth,vortSection3,myLevs1,cmap=myCmap,extend=\"both\")\n",
    "plt.clabel(im1)\n",
    "cbar = plt.colorbar(pad=0.005,shrink=0.8,ticks=[-0.25,0,0.25])\n",
    "cbar.ax.set_title(\"$\\zeta/f_0$\")\n",
    "plt.ylabel(\"Depth (m)\")\n",
    "plt.xlabel(\"Across channel distance (km)\")\n",
    "# plt.title(f\"@ xIndex={xIndex[2]}, tStep={timestep[2]}\")\n",
    "\n",
    "plt.savefig(saveloc+\"officialFigs/figVortexSection.pdf\",\n",
    "           bbox_inches=\"tight\")"
   ]
  },
  {
   "cell_type": "code",
   "execution_count": null,
   "id": "7b28e523-b997-4d5d-b6e9-2186d79dcf3b",
   "metadata": {},
   "outputs": [],
   "source": [
    "# plot salt section 1\n",
    "\n",
    "myMax = saltSection1.max().round(0)\n",
    "myMin = saltSection1.min().round(0)\n",
    "myLevs = np.linspace(myMin,myMax,2*6+1)\n",
    "\n",
    "myMax = abs(vortSection1).max()\n",
    "myLevs1 = np.linspace(-myMax,myMax,100)*1.2\n",
    "\n",
    "plt.figure(layout=\"constrained\",figsize=(12,8))\n",
    "\n",
    "horizDistanceKm = np.linspace(yMin[0],yMax[0],saltSection1.shape[1])*2 - 500\n",
    "im1 = plt.contour(horizDistanceKm,depth,saltSection1,myLevs,\n",
    "                  colors=\"grey\", linewidths=1.5)\n",
    "plt.contourf(horizDistanceKm,depth,vortSection1,myLevs1,cmap=myCmap,extend=\"both\")\n",
    "plt.clabel(im1)\n",
    "cbar = plt.colorbar(pad=0.005,shrink=0.8,ticks=[-0.25,0,0.25])\n",
    "cbar.ax.set_title(\"$\\zeta/f_0$\")\n",
    "plt.ylabel(\"Depth (m)\")\n",
    "plt.xlabel(\"Across channel distance (km)\")\n",
    "# plt.title(f\"@ xIndex={xIndex[2]}, tStep={timestep[2]}\")\n",
    "\n",
    "plt.savefig(saveloc+\"officialFigs/figVortexSectionBackup.pdf\",\n",
    "           bbox_inches=\"tight\")"
   ]
  },
  {
   "cell_type": "code",
   "execution_count": null,
   "id": "85defd57-ee3b-454b-9b71-64038482200e",
   "metadata": {},
   "outputs": [],
   "source": []
  }
 ],
 "metadata": {
  "kernelspec": {
   "display_name": "cartSing",
   "language": "python",
   "name": "cartsing"
  },
  "language_info": {
   "codemirror_mode": {
    "name": "ipython",
    "version": 3
   },
   "file_extension": ".py",
   "mimetype": "text/x-python",
   "name": "python",
   "nbconvert_exporter": "python",
   "pygments_lexer": "ipython3",
   "version": "3.11.4"
  }
 },
 "nbformat": 4,
 "nbformat_minor": 5
}
