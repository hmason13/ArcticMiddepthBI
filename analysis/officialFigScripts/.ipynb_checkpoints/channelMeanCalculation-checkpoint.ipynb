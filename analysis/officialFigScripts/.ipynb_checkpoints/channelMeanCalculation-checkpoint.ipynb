{
 "cells": [
  {
   "cell_type": "code",
   "execution_count": 1,
   "metadata": {},
   "outputs": [],
   "source": [
    "import numpy as np\n",
    "import matplotlib.pyplot as plt\n",
    "import netCDF4 as nc"
   ]
  },
  {
   "cell_type": "code",
   "execution_count": 2,
   "metadata": {},
   "outputs": [],
   "source": [
    "# params\n",
    "secondsPerDay = 86400\n",
    "nx = 500\n",
    "ny = 500\n",
    "nz = 50\n",
    "\n",
    "rhoConst = 1000\n",
    "g = 9.81\n",
    "\n",
    "\n",
    "# io params\n",
    "conc = [\"0\", \"20\", \"40\", \"60\", \"80\", \"100\"]\n",
    "loc = \"/scratch/hcm7920/amb\"\n",
    "saveloc = \"/scratch/hcm7920/ambData/channelMean/\"\n",
    "saveloc2 = \"/home/hcm7920/experiments/arcticMiddepthBI/analysis/figData/\"\n"
   ]
  },
  {
   "cell_type": "code",
   "execution_count": 3,
   "metadata": {},
   "outputs": [],
   "source": [
    "channelMeanRho  = np.zeros(shape=(nz,ny,len(conc)))\n",
    "channelMeanN2   = np.zeros(shape=(nz,ny,len(conc)))\n",
    "channelMeanSalt = np.zeros(shape=(nz,ny,len(conc)))\n",
    "channelMeanU    = np.zeros(shape=(nz,ny,len(conc)))\n",
    "channelMeanV    = np.zeros(shape=(nz,ny+1,len(conc)))\n",
    "channelMeanW    = np.zeros(shape=(nz,ny,len(conc)))\n",
    "\n",
    "channelMeanWS   = np.zeros(shape=(nz,ny,len(conc)))\n",
    "channelMeanVS   = np.zeros(shape=(nz,ny+1,len(conc)))\n",
    "channelMeanWR   = np.zeros(shape=(nz,ny,len(conc)))\n",
    "channelMeanVR   = np.zeros(shape=(nz,ny+1,len(conc)))\n",
    "\n",
    "channelMeanKE   = np.zeros(shape=(nz,ny,len(conc)))\n",
    "\n",
    "channelMeanUmomForcing = np.zeros(shape=(nz,ny,len(conc)))\n",
    "channelMeanVmomForcing = np.zeros(shape=(nz,ny,len(conc)))\n",
    "channelMeanSaltForcing = np.zeros(shape=(nz,ny,len(conc)))\n",
    "channelMeanSaltTend    = np.zeros(shape=(nz,ny,len(conc)))\n",
    "\n",
    "channelMeanDiffSaltI = np.zeros(shape=(nz,ny,len(conc)))\n",
    "channelMeanNonLocal  = np.zeros(shape=(nz,ny,len(conc)))\n",
    "channelMeanAdvX = np.zeros(shape=(nz,ny,len(conc)))\n",
    "channelMeanAdvY = np.zeros(shape=(nz,ny+1,len(conc)))\n",
    "channelMeanAdvZ = np.zeros(shape=(nz,ny,len(conc)))\n"
   ]
  },
  {
   "cell_type": "code",
   "execution_count": 4,
   "metadata": {},
   "outputs": [
    {
     "name": "stdout",
     "output_type": "stream",
     "text": [
      "0 1 2 3 4 5 6 7 8 9 10 11 12 13 14 15 16 17 18 19 20 21 22 23 24 25 26 27 28 29 30 31 32 33 34 35 36 37 38 39 40 41 42 43 44 45 46 47 48 49 Done w 0\n",
      "\n",
      "0 1 2 3 4 5 6 7 8 9 10 11 12 13 14 15 16 17 18 19 20 21 22 23 24 25 26 27 28 29 30 31 32 33 34 35 36 37 38 39 40 41 42 43 44 45 46 47 48 49 Done w 20\n",
      "\n",
      "0 1 2 3 4 5 6 7 8 9 10 11 12 13 14 15 16 17 18 19 20 21 22 23 24 25 26 27 28 29 30 31 32 33 34 35 36 37 38 39 40 41 42 43 44 45 46 47 48 49 Done w 40\n",
      "\n",
      "0 1 2 3 4 5 6 7 8 9 10 11 12 13 14 15 16 17 18 19 20 21 22 23 24 25 26 27 28 29 30 31 32 33 34 35 36 37 38 39 40 41 42 43 44 45 46 47 48 49 Done w 60\n",
      "\n",
      "0 1 2 3 4 5 6 7 8 9 10 11 12 13 14 15 16 17 18 19 20 21 22 23 24 25 26 27 28 29 30 31 32 33 34 35 36 37 38 39 40 41 42 43 44 45 46 47 48 49 Done w 80\n",
      "\n",
      "0 1 2 3 4 5 6 7 8 9 10 11 12 13 14 15 16 17 18 19 20 21 22 23 24 25 26 27 28 29 30 31 32 33 34 35 36 37 38 39 40 41 42 43 44 45 46 47 48 49 Done w 100\n",
      "\n"
     ]
    }
   ],
   "source": [
    "for i in range(len(conc)):\n",
    "  stateData = nc.Dataset(loc+conc[i]+\"/data/diagsDynamics.nc\")\n",
    "  var = stateData[\"momKE\"]\n",
    "  \n",
    "  for level in range(nz):\n",
    "    for yDex in range(ny):\n",
    "      channelMeanKE[level,yDex,i] = var[:,level,yDex,:].mean((0,1))\n",
    "    print(f\"{level}\", end=\" \")\n",
    "  print(f\"Done w {conc[i]}\", end=\"\\n\\n\")\n",
    "np.save(saveloc+\"channelMeanKE.npy\",channelMeanKE)"
   ]
  },
  {
   "cell_type": "code",
   "execution_count": 5,
   "metadata": {},
   "outputs": [
    {
     "name": "stdout",
     "output_type": "stream",
     "text": [
      "0 1 2 3 4 5 6 7 8 9 10 11 12 13 14 15 16 17 18 19 20 21 22 23 24 25 26 27 28 29 30 31 32 33 34 35 36 37 38 39 40 41 42 43 44 45 46 47 48 49 Done w 0\n",
      "\n",
      "0 1 2 3 4 5 6 7 8 9 10 11 12 13 14 15 16 17 18 19 20 21 22 23 24 25 26 27 28 29 30 31 32 33 34 35 36 37 38 39 40 41 42 43 44 45 46 47 48 49 Done w 20\n",
      "\n",
      "0 1 2 3 4 5 6 7 8 9 10 11 12 13 14 15 16 17 18 19 20 21 22 23 24 25 26 27 28 29 30 31 32 33 34 35 36 37 38 39 40 41 42 43 44 45 46 47 48 49 Done w 40\n",
      "\n",
      "0 1 2 3 4 5 6 7 8 9 10 11 12 13 14 15 16 17 18 19 20 21 22 23 24 25 26 27 28 29 30 31 32 33 34 35 36 37 38 39 40 41 42 43 44 45 46 47 48 49 Done w 60\n",
      "\n",
      "0 1 2 3 4 5 6 7 8 9 10 11 12 13 14 15 16 17 18 19 20 21 22 23 24 25 26 27 28 29 30 31 32 33 34 35 36 37 38 39 40 41 42 43 44 45 46 47 48 49 Done w 80\n",
      "\n",
      "0 1 2 3 4 5 6 7 8 9 10 11 12 13 14 15 16 17 18 19 20 21 22 23 24 25 26 27 28 29 30 31 32 33 34 35 36 37 38 39 40 41 42 43 44 45 46 47 48 49 Done w 100\n",
      "\n"
     ]
    }
   ],
   "source": [
    "for i in range(len(conc)):\n",
    "  stateData = nc.Dataset(loc+conc[i]+\"/data/diagsDynamics.nc\")\n",
    "  var = stateData[\"Um_Ext\"]\n",
    "  \n",
    "  for level in range(nz):\n",
    "    for yDex in range(ny):\n",
    "      channelMeanUmomForcing[level,yDex,i] = var[:,level,yDex,:].mean((0,1))\n",
    "    print(f\"{level}\", end=\" \")\n",
    "  print(f\"Done w {conc[i]}\", end=\"\\n\\n\")\n",
    "np.save(saveloc+\"channelMeanUmomForcing.npy\",channelMeanUmomForcing)"
   ]
  },
  {
   "cell_type": "code",
   "execution_count": 6,
   "metadata": {},
   "outputs": [
    {
     "name": "stdout",
     "output_type": "stream",
     "text": [
      "0 1 2 3 4 5 6 7 8 9 10 11 12 13 14 15 16 17 18 19 20 21 22 23 24 25 26 27 28 29 30 31 32 33 34 35 36 37 38 39 40 41 42 43 44 45 46 47 48 49 Done w 0\n",
      "\n",
      "0 1 2 3 4 5 6 7 8 9 10 11 12 13 14 15 16 17 18 19 20 21 22 23 24 25 26 27 28 29 30 31 32 33 34 35 36 37 38 39 40 41 42 43 44 45 46 47 48 49 Done w 20\n",
      "\n",
      "0 1 2 3 4 5 6 7 8 9 10 11 12 13 14 15 16 17 18 19 20 21 22 23 24 25 26 27 28 29 30 31 32 33 34 35 36 37 38 39 40 41 42 43 44 45 46 47 48 49 Done w 40\n",
      "\n",
      "0 1 2 3 4 5 6 7 8 9 10 11 12 13 14 15 16 17 18 19 20 21 22 23 24 25 26 27 28 29 30 31 32 33 34 35 36 37 38 39 40 41 42 43 44 45 46 47 48 49 Done w 60\n",
      "\n",
      "0 1 2 3 4 5 6 7 8 9 10 11 12 13 14 15 16 17 18 19 20 21 22 23 24 25 26 27 28 29 30 31 32 33 34 35 36 37 38 39 40 41 42 43 44 45 46 47 48 49 Done w 80\n",
      "\n",
      "0 1 2 3 4 5 6 7 8 9 10 11 12 13 14 15 16 17 18 19 20 21 22 23 24 25 26 27 28 29 30 31 32 33 34 35 36 37 38 39 40 41 42 43 44 45 46 47 48 49 Done w 100\n",
      "\n"
     ]
    }
   ],
   "source": [
    "for i in range(len(conc)):\n",
    "  stateData = nc.Dataset(loc+conc[i]+\"/data/diagsDynamics.nc\")\n",
    "  var = stateData[\"Vm_Ext\"]\n",
    "  \n",
    "  for level in range(nz):\n",
    "    for yDex in range(ny):\n",
    "      channelMeanVmomForcing[level,yDex,i] = var[:,level,yDex,:].mean((0,1))\n",
    "    print(f\"{level}\", end=\" \")\n",
    "  print(f\"Done w {conc[i]}\", end=\"\\n\\n\")\n",
    "np.save(saveloc+\"channelMeanVmomForcing.npy\",channelMeanVmomForcing)"
   ]
  },
  {
   "cell_type": "code",
   "execution_count": 7,
   "metadata": {},
   "outputs": [
    {
     "name": "stdout",
     "output_type": "stream",
     "text": [
      "0 1 2 3 4 5 6 7 8 9 10 11 12 13 14 15 16 17 18 19 20 21 22 23 24 25 26 27 28 29 30 31 32 33 34 35 36 37 38 39 40 41 42 43 44 45 46 47 48 49 Done w 0\n",
      "\n",
      "0 1 2 3 4 5 6 7 8 9 10 11 12 13 14 15 16 17 18 19 20 21 22 23 24 25 26 27 28 29 30 31 32 33 34 35 36 37 38 39 40 41 42 43 44 45 46 47 48 49 Done w 20\n",
      "\n",
      "0 1 2 3 4 5 6 7 8 9 10 11 12 13 14 15 16 17 18 19 20 21 22 23 24 25 26 27 28 29 30 31 32 33 34 35 36 37 38 39 40 41 42 43 44 45 46 47 48 49 Done w 40\n",
      "\n",
      "0 1 2 3 4 5 6 7 8 9 10 11 12 13 14 15 16 17 18 19 20 21 22 23 24 25 26 27 28 29 30 31 32 33 34 35 36 37 38 39 40 41 42 43 44 45 46 47 48 49 Done w 60\n",
      "\n",
      "0 1 2 3 4 5 6 7 8 9 10 11 12 13 14 15 16 17 18 19 20 21 22 23 24 25 26 27 28 29 30 31 32 33 34 35 36 37 38 39 40 41 42 43 44 45 46 47 48 49 Done w 80\n",
      "\n",
      "0 1 2 3 4 5 6 7 8 9 10 11 12 13 14 15 16 17 18 19 20 21 22 23 24 25 26 27 28 29 30 31 32 33 34 35 36 37 38 39 40 41 42 43 44 45 46 47 48 49 Done w 100\n",
      "\n"
     ]
    }
   ],
   "source": [
    "for i in range(len(conc)):\n",
    "  stateData = nc.Dataset(loc+conc[i]+\"/data/diagsDynamics.nc\")\n",
    "  var = stateData[\"gS_Forc\"]\n",
    "  \n",
    "  for level in range(nz):\n",
    "    for yDex in range(ny):\n",
    "      channelMeanSaltForcing[level,yDex,i] = var[:,level,yDex,:].mean((0,1))\n",
    "    print(f\"{level}\", end=\" \")\n",
    "  print(f\"Done w {conc[i]}\", end=\"\\n\\n\")\n",
    "np.save(saveloc+\"channelMeanSaltForcing.npy\",channelMeanSaltForcing)"
   ]
  },
  {
   "cell_type": "code",
   "execution_count": 8,
   "metadata": {},
   "outputs": [
    {
     "name": "stdout",
     "output_type": "stream",
     "text": [
      "Done w level 0 Done w level 1 Done w level 2 Done w level 3 Done w level 4 Done w level 5 Done w level 6 Done w level 7 Done w level 8 Done w level 9 Done w level 10 Done w level 11 Done w level 12 Done w level 13 Done w level 14 Done w level 15 Done w level 16 Done w level 17 Done w level 18 Done w level 19 Done w level 20 Done w level 21 Done w level 22 Done w level 23 Done w level 24 Done w level 25 Done w level 26 Done w level 27 Done w level 28 Done w level 29 Done w level 30 Done w level 31 Done w level 32 Done w level 33 Done w level 34 Done w level 35 Done w level 36 Done w level 37 Done w level 38 Done w level 39 Done w level 40 Done w level 41 Done w level 42 Done w level 43 Done w level 44 Done w level 45 Done w level 46 Done w level 47 Done w level 48 Done w level 49 Done w 0\n",
      "\n",
      "Done w level 0 Done w level 1 Done w level 2 Done w level 3 Done w level 4 Done w level 5 Done w level 6 Done w level 7 Done w level 8 Done w level 9 Done w level 10 Done w level 11 Done w level 12 Done w level 13 Done w level 14 Done w level 15 Done w level 16 Done w level 17 Done w level 18 Done w level 19 Done w level 20 Done w level 21 Done w level 22 Done w level 23 Done w level 24 Done w level 25 Done w level 26 Done w level 27 Done w level 28 Done w level 29 Done w level 30 Done w level 31 Done w level 32 Done w level 33 Done w level 34 Done w level 35 Done w level 36 Done w level 37 Done w level 38 Done w level 39 Done w level 40 Done w level 41 Done w level 42 Done w level 43 Done w level 44 Done w level 45 Done w level 46 Done w level 47 Done w level 48 Done w level 49 Done w 20\n",
      "\n",
      "Done w level 0 Done w level 1 Done w level 2 Done w level 3 Done w level 4 Done w level 5 Done w level 6 Done w level 7 Done w level 8 Done w level 9 Done w level 10 Done w level 11 Done w level 12 Done w level 13 Done w level 14 Done w level 15 Done w level 16 Done w level 17 Done w level 18 Done w level 19 Done w level 20 Done w level 21 Done w level 22 Done w level 23 Done w level 24 Done w level 25 Done w level 26 Done w level 27 Done w level 28 Done w level 29 Done w level 30 Done w level 31 Done w level 32 Done w level 33 Done w level 34 Done w level 35 Done w level 36 Done w level 37 Done w level 38 Done w level 39 Done w level 40 Done w level 41 Done w level 42 Done w level 43 Done w level 44 Done w level 45 Done w level 46 Done w level 47 Done w level 48 Done w level 49 Done w 40\n",
      "\n",
      "Done w level 0 Done w level 1 Done w level 2 Done w level 3 Done w level 4 Done w level 5 Done w level 6 Done w level 7 Done w level 8 Done w level 9 Done w level 10 Done w level 11 Done w level 12 Done w level 13 Done w level 14 Done w level 15 Done w level 16 Done w level 17 Done w level 18 Done w level 19 Done w level 20 Done w level 21 Done w level 22 Done w level 23 Done w level 24 Done w level 25 Done w level 26 Done w level 27 Done w level 28 Done w level 29 Done w level 30 Done w level 31 Done w level 32 Done w level 33 Done w level 34 Done w level 35 Done w level 36 Done w level 37 Done w level 38 Done w level 39 Done w level 40 Done w level 41 Done w level 42 Done w level 43 Done w level 44 Done w level 45 Done w level 46 Done w level 47 Done w level 48 Done w level 49 Done w 60\n",
      "\n",
      "Done w level 0 Done w level 1 Done w level 2 Done w level 3 Done w level 4 Done w level 5 Done w level 6 Done w level 7 Done w level 8 Done w level 9 Done w level 10 Done w level 11 Done w level 12 Done w level 13 Done w level 14 Done w level 15 Done w level 16 Done w level 17 Done w level 18 Done w level 19 Done w level 20 Done w level 21 Done w level 22 Done w level 23 Done w level 24 Done w level 25 Done w level 26 Done w level 27 Done w level 28 Done w level 29 Done w level 30 Done w level 31 Done w level 32 Done w level 33 Done w level 34 Done w level 35 Done w level 36 Done w level 37 Done w level 38 Done w level 39 Done w level 40 Done w level 41 Done w level 42 Done w level 43 Done w level 44 Done w level 45 Done w level 46 Done w level 47 Done w level 48 Done w level 49 Done w 80\n",
      "\n",
      "Done w level 0 Done w level 1 Done w level 2 Done w level 3 Done w level 4 Done w level 5 Done w level 6 Done w level 7 Done w level 8 Done w level 9 Done w level 10 Done w level 11 Done w level 12 Done w level 13 Done w level 14 Done w level 15 Done w level 16 Done w level 17 Done w level 18 Done w level 19 Done w level 20 Done w level 21 Done w level 22 Done w level 23 Done w level 24 Done w level 25 Done w level 26 Done w level 27 Done w level 28 Done w level 29 Done w level 30 Done w level 31 Done w level 32 Done w level 33 Done w level 34 Done w level 35 Done w level 36 Done w level 37 Done w level 38 Done w level 39 Done w level 40 Done w level 41 Done w level 42 Done w level 43 Done w level 44 Done w level 45 Done w level 46 Done w level 47 Done w level 48 Done w level 49 Done w 100\n",
      "\n"
     ]
    }
   ],
   "source": [
    "for i in range(len(conc)):\n",
    "    stateData = nc.Dataset(loc+conc[i]+\"/data/diagsState.nc\")\n",
    "    var = stateData[\"SALT\"]\n",
    "    \n",
    "    for level in range(nz):\n",
    "        for yDex in range(ny):\n",
    "            channelMeanSalt[level,yDex,i] = var[:,level,yDex,:].mean((0,1)) # t,z,y,x\n",
    "        print(f\"Done w level {level}\", end=\" \")\n",
    "    print(f\"Done w {conc[i]}\", end=\"\\n\\n\")\n",
    "\n",
    "np.save(saveloc+\"channelMeanSalt.npy\",channelMeanSalt)\n",
    "np.save(saveloc2+\"channelMeanSalt.npy\",channelMeanSalt)"
   ]
  },
  {
   "cell_type": "code",
   "execution_count": 9,
   "metadata": {},
   "outputs": [
    {
     "name": "stdout",
     "output_type": "stream",
     "text": [
      "Done w level 0 Done w level 1 Done w level 2 Done w level 3 Done w level 4 Done w level 5 Done w level 6 Done w level 7 Done w level 8 Done w level 9 Done w level 10 Done w level 11 Done w level 12 Done w level 13 Done w level 14 Done w level 15 Done w level 16 Done w level 17 Done w level 18 Done w level 19 Done w level 20 Done w level 21 Done w level 22 Done w level 23 Done w level 24 Done w level 25 Done w level 26 Done w level 27 Done w level 28 Done w level 29 Done w level 30 Done w level 31 Done w level 32 Done w level 33 Done w level 34 Done w level 35 Done w level 36 Done w level 37 Done w level 38 Done w level 39 Done w level 40 Done w level 41 Done w level 42 Done w level 43 Done w level 44 Done w level 45 Done w level 46 Done w level 47 Done w level 48 Done w level 49 Done w 0\n",
      "\n",
      "Done w level 0 Done w level 1 Done w level 2 Done w level 3 Done w level 4 Done w level 5 Done w level 6 Done w level 7 Done w level 8 Done w level 9 Done w level 10 Done w level 11 Done w level 12 Done w level 13 Done w level 14 Done w level 15 Done w level 16 Done w level 17 Done w level 18 Done w level 19 Done w level 20 Done w level 21 Done w level 22 Done w level 23 Done w level 24 Done w level 25 Done w level 26 Done w level 27 Done w level 28 Done w level 29 Done w level 30 Done w level 31 Done w level 32 Done w level 33 Done w level 34 Done w level 35 Done w level 36 Done w level 37 Done w level 38 Done w level 39 Done w level 40 Done w level 41 Done w level 42 Done w level 43 Done w level 44 Done w level 45 Done w level 46 Done w level 47 Done w level 48 Done w level 49 Done w 20\n",
      "\n",
      "Done w level 0 Done w level 1 Done w level 2 Done w level 3 Done w level 4 Done w level 5 Done w level 6 Done w level 7 Done w level 8 Done w level 9 Done w level 10 Done w level 11 Done w level 12 Done w level 13 Done w level 14 Done w level 15 Done w level 16 Done w level 17 Done w level 18 Done w level 19 Done w level 20 Done w level 21 Done w level 22 Done w level 23 Done w level 24 Done w level 25 Done w level 26 Done w level 27 Done w level 28 Done w level 29 Done w level 30 Done w level 31 Done w level 32 Done w level 33 Done w level 34 Done w level 35 Done w level 36 Done w level 37 Done w level 38 Done w level 39 Done w level 40 Done w level 41 Done w level 42 Done w level 43 Done w level 44 Done w level 45 Done w level 46 Done w level 47 Done w level 48 Done w level 49 Done w 40\n",
      "\n",
      "Done w level 0 Done w level 1 Done w level 2 Done w level 3 Done w level 4 Done w level 5 Done w level 6 Done w level 7 Done w level 8 Done w level 9 Done w level 10 Done w level 11 Done w level 12 Done w level 13 Done w level 14 Done w level 15 Done w level 16 Done w level 17 Done w level 18 Done w level 19 Done w level 20 Done w level 21 Done w level 22 Done w level 23 Done w level 24 Done w level 25 Done w level 26 Done w level 27 Done w level 28 Done w level 29 Done w level 30 Done w level 31 Done w level 32 Done w level 33 Done w level 34 Done w level 35 Done w level 36 Done w level 37 Done w level 38 Done w level 39 Done w level 40 Done w level 41 Done w level 42 Done w level 43 Done w level 44 Done w level 45 Done w level 46 Done w level 47 Done w level 48 Done w level 49 Done w 60\n",
      "\n",
      "Done w level 0 Done w level 1 Done w level 2 Done w level 3 Done w level 4 Done w level 5 Done w level 6 Done w level 7 Done w level 8 Done w level 9 Done w level 10 Done w level 11 Done w level 12 Done w level 13 Done w level 14 Done w level 15 Done w level 16 Done w level 17 Done w level 18 Done w level 19 Done w level 20 Done w level 21 Done w level 22 Done w level 23 Done w level 24 Done w level 25 Done w level 26 Done w level 27 Done w level 28 Done w level 29 Done w level 30 Done w level 31 Done w level 32 Done w level 33 Done w level 34 Done w level 35 Done w level 36 Done w level 37 Done w level 38 Done w level 39 Done w level 40 Done w level 41 Done w level 42 Done w level 43 Done w level 44 Done w level 45 Done w level 46 Done w level 47 Done w level 48 Done w level 49 Done w 80\n",
      "\n",
      "Done w level 0 Done w level 1 Done w level 2 Done w level 3 Done w level 4 Done w level 5 Done w level 6 Done w level 7 Done w level 8 Done w level 9 Done w level 10 Done w level 11 Done w level 12 Done w level 13 Done w level 14 Done w level 15 Done w level 16 Done w level 17 Done w level 18 Done w level 19 Done w level 20 Done w level 21 Done w level 22 Done w level 23 Done w level 24 Done w level 25 Done w level 26 Done w level 27 Done w level 28 Done w level 29 Done w level 30 Done w level 31 Done w level 32 Done w level 33 Done w level 34 Done w level 35 Done w level 36 Done w level 37 Done w level 38 Done w level 39 Done w level 40 Done w level 41 Done w level 42 Done w level 43 Done w level 44 Done w level 45 Done w level 46 Done w level 47 Done w level 48 Done w level 49 Done w 100\n",
      "\n"
     ]
    }
   ],
   "source": [
    "\n",
    "for i in range(len(conc)):\n",
    "    stateData = nc.Dataset(loc+conc[i]+\"/data/diagsState.nc\")\n",
    "    var = stateData[\"UVEL\"]\n",
    "    \n",
    "    for level in range(nz):\n",
    "        for yDex in range(ny):\n",
    "            channelMeanU[level,yDex,i] = var[:,level,yDex,:].mean((0,1)) # t,z,y,x\n",
    "        print(f\"Done w level {level}\", end=\" \")\n",
    "    print(f\"Done w {conc[i]}\", end=\"\\n\\n\")\n",
    "\n",
    "np.save(saveloc+\"channelMeanU.npy\",channelMeanU)\n",
    "np.save(saveloc2+\"channelMeanU.npy\",channelMeanU)"
   ]
  },
  {
   "cell_type": "code",
   "execution_count": 10,
   "metadata": {},
   "outputs": [
    {
     "name": "stdout",
     "output_type": "stream",
     "text": [
      "Done w level 0 Done w level 1 Done w level 2 Done w level 3 Done w level 4 Done w level 5 Done w level 6 Done w level 7 Done w level 8 Done w level 9 Done w level 10 Done w level 11 Done w level 12 Done w level 13 Done w level 14 Done w level 15 Done w level 16 Done w level 17 Done w level 18 Done w level 19 Done w level 20 Done w level 21 Done w level 22 Done w level 23 Done w level 24 Done w level 25 Done w level 26 Done w level 27 Done w level 28 Done w level 29 Done w level 30 Done w level 31 Done w level 32 Done w level 33 Done w level 34 Done w level 35 Done w level 36 Done w level 37 Done w level 38 Done w level 39 Done w level 40 Done w level 41 Done w level 42 Done w level 43 Done w level 44 Done w level 45 Done w level 46 Done w level 47 Done w level 48 Done w level 49 Done w 0\n",
      "\n",
      "Done w level 0 Done w level 1 Done w level 2 Done w level 3 Done w level 4 Done w level 5 Done w level 6 Done w level 7 Done w level 8 Done w level 9 Done w level 10 Done w level 11 Done w level 12 Done w level 13 Done w level 14 Done w level 15 Done w level 16 Done w level 17 Done w level 18 Done w level 19 Done w level 20 Done w level 21 Done w level 22 Done w level 23 Done w level 24 Done w level 25 Done w level 26 Done w level 27 Done w level 28 Done w level 29 Done w level 30 Done w level 31 Done w level 32 Done w level 33 Done w level 34 Done w level 35 Done w level 36 Done w level 37 Done w level 38 Done w level 39 Done w level 40 Done w level 41 Done w level 42 Done w level 43 Done w level 44 Done w level 45 Done w level 46 Done w level 47 Done w level 48 Done w level 49 Done w 20\n",
      "\n",
      "Done w level 0 Done w level 1 Done w level 2 Done w level 3 Done w level 4 Done w level 5 Done w level 6 Done w level 7 Done w level 8 Done w level 9 Done w level 10 Done w level 11 Done w level 12 Done w level 13 Done w level 14 Done w level 15 Done w level 16 Done w level 17 Done w level 18 Done w level 19 Done w level 20 Done w level 21 Done w level 22 Done w level 23 Done w level 24 Done w level 25 Done w level 26 Done w level 27 Done w level 28 Done w level 29 Done w level 30 Done w level 31 Done w level 32 Done w level 33 Done w level 34 Done w level 35 Done w level 36 Done w level 37 Done w level 38 Done w level 39 Done w level 40 Done w level 41 Done w level 42 Done w level 43 Done w level 44 Done w level 45 Done w level 46 Done w level 47 Done w level 48 Done w level 49 Done w 40\n",
      "\n",
      "Done w level 0 Done w level 1 Done w level 2 Done w level 3 Done w level 4 Done w level 5 Done w level 6 Done w level 7 Done w level 8 Done w level 9 Done w level 10 Done w level 11 Done w level 12 Done w level 13 Done w level 14 Done w level 15 Done w level 16 Done w level 17 Done w level 18 Done w level 19 Done w level 20 Done w level 21 Done w level 22 Done w level 23 Done w level 24 Done w level 25 Done w level 26 Done w level 27 Done w level 28 Done w level 29 Done w level 30 Done w level 31 Done w level 32 Done w level 33 Done w level 34 Done w level 35 Done w level 36 Done w level 37 Done w level 38 Done w level 39 Done w level 40 Done w level 41 Done w level 42 Done w level 43 Done w level 44 Done w level 45 Done w level 46 Done w level 47 Done w level 48 Done w level 49 Done w 60\n",
      "\n",
      "Done w level 0 Done w level 1 Done w level 2 Done w level 3 Done w level 4 Done w level 5 Done w level 6 Done w level 7 Done w level 8 Done w level 9 Done w level 10 Done w level 11 Done w level 12 Done w level 13 Done w level 14 Done w level 15 Done w level 16 Done w level 17 Done w level 18 Done w level 19 Done w level 20 Done w level 21 Done w level 22 Done w level 23 Done w level 24 Done w level 25 Done w level 26 Done w level 27 Done w level 28 Done w level 29 Done w level 30 Done w level 31 Done w level 32 Done w level 33 Done w level 34 Done w level 35 Done w level 36 Done w level 37 Done w level 38 Done w level 39 Done w level 40 Done w level 41 Done w level 42 Done w level 43 Done w level 44 Done w level 45 Done w level 46 Done w level 47 Done w level 48 Done w level 49 Done w 80\n",
      "\n",
      "Done w level 0 Done w level 1 Done w level 2 Done w level 3 Done w level 4 Done w level 5 Done w level 6 Done w level 7 Done w level 8 Done w level 9 Done w level 10 Done w level 11 Done w level 12 Done w level 13 Done w level 14 Done w level 15 Done w level 16 Done w level 17 Done w level 18 Done w level 19 Done w level 20 Done w level 21 Done w level 22 Done w level 23 Done w level 24 Done w level 25 Done w level 26 Done w level 27 Done w level 28 Done w level 29 Done w level 30 Done w level 31 Done w level 32 Done w level 33 Done w level 34 Done w level 35 Done w level 36 Done w level 37 Done w level 38 Done w level 39 Done w level 40 Done w level 41 Done w level 42 Done w level 43 Done w level 44 Done w level 45 Done w level 46 Done w level 47 Done w level 48 Done w level 49 Done w 100\n",
      "\n"
     ]
    }
   ],
   "source": [
    "for i in range(len(conc)):\n",
    "    stateData = nc.Dataset(loc+conc[i]+\"/data/diagsState.nc\")\n",
    "    var = stateData[\"VVEL\"]\n",
    "    \n",
    "    for level in range(nz):\n",
    "        for yDex in range(ny+1):\n",
    "            channelMeanV[level,yDex,i] = var[:,level,yDex,:].mean((0,1)) # t,z,y,x\n",
    "        print(f\"Done w level {level}\", end=\" \")\n",
    "    print(f\"Done w {conc[i]}\", end=\"\\n\\n\")\n",
    "\n",
    "np.save(saveloc+\"channelMeanV.npy\",channelMeanV)\n",
    "np.save(saveloc2+\"channelMeanV.npy\",channelMeanV)"
   ]
  },
  {
   "cell_type": "code",
   "execution_count": 11,
   "metadata": {},
   "outputs": [
    {
     "name": "stdout",
     "output_type": "stream",
     "text": [
      "Done w level 0 Done w level 1 Done w level 2 Done w level 3 Done w level 4 Done w level 5 Done w level 6 Done w level 7 Done w level 8 Done w level 9 Done w level 10 Done w level 11 Done w level 12 Done w level 13 Done w level 14 Done w level 15 Done w level 16 Done w level 17 Done w level 18 Done w level 19 Done w level 20 Done w level 21 Done w level 22 Done w level 23 Done w level 24 Done w level 25 Done w level 26 Done w level 27 Done w level 28 Done w level 29 Done w level 30 Done w level 31 Done w level 32 Done w level 33 Done w level 34 Done w level 35 Done w level 36 Done w level 37 Done w level 38 Done w level 39 Done w level 40 Done w level 41 Done w level 42 Done w level 43 Done w level 44 Done w level 45 Done w level 46 Done w level 47 Done w level 48 Done w level 49 Done w 0\n",
      "\n",
      "Done w level 0 Done w level 1 Done w level 2 Done w level 3 Done w level 4 Done w level 5 Done w level 6 Done w level 7 Done w level 8 Done w level 9 Done w level 10 Done w level 11 Done w level 12 Done w level 13 Done w level 14 Done w level 15 Done w level 16 Done w level 17 Done w level 18 Done w level 19 Done w level 20 Done w level 21 Done w level 22 Done w level 23 Done w level 24 Done w level 25 Done w level 26 Done w level 27 Done w level 28 Done w level 29 Done w level 30 Done w level 31 Done w level 32 Done w level 33 Done w level 34 Done w level 35 Done w level 36 Done w level 37 Done w level 38 Done w level 39 Done w level 40 Done w level 41 Done w level 42 Done w level 43 Done w level 44 Done w level 45 Done w level 46 Done w level 47 Done w level 48 Done w level 49 Done w 20\n",
      "\n",
      "Done w level 0 Done w level 1 Done w level 2 Done w level 3 Done w level 4 Done w level 5 Done w level 6 Done w level 7 Done w level 8 Done w level 9 Done w level 10 Done w level 11 Done w level 12 Done w level 13 Done w level 14 Done w level 15 Done w level 16 Done w level 17 Done w level 18 Done w level 19 Done w level 20 Done w level 21 Done w level 22 Done w level 23 Done w level 24 Done w level 25 Done w level 26 Done w level 27 Done w level 28 Done w level 29 Done w level 30 Done w level 31 Done w level 32 Done w level 33 Done w level 34 Done w level 35 Done w level 36 Done w level 37 Done w level 38 Done w level 39 Done w level 40 Done w level 41 Done w level 42 Done w level 43 Done w level 44 Done w level 45 Done w level 46 Done w level 47 Done w level 48 Done w level 49 Done w 40\n",
      "\n",
      "Done w level 0 Done w level 1 Done w level 2 Done w level 3 Done w level 4 Done w level 5 Done w level 6 Done w level 7 Done w level 8 Done w level 9 Done w level 10 Done w level 11 Done w level 12 Done w level 13 Done w level 14 Done w level 15 Done w level 16 Done w level 17 Done w level 18 Done w level 19 Done w level 20 Done w level 21 Done w level 22 Done w level 23 Done w level 24 Done w level 25 Done w level 26 Done w level 27 Done w level 28 Done w level 29 Done w level 30 Done w level 31 Done w level 32 Done w level 33 Done w level 34 Done w level 35 Done w level 36 Done w level 37 Done w level 38 Done w level 39 Done w level 40 Done w level 41 Done w level 42 Done w level 43 Done w level 44 Done w level 45 Done w level 46 Done w level 47 Done w level 48 Done w level 49 Done w 60\n",
      "\n",
      "Done w level 0 Done w level 1 Done w level 2 Done w level 3 Done w level 4 Done w level 5 Done w level 6 Done w level 7 Done w level 8 Done w level 9 Done w level 10 Done w level 11 Done w level 12 Done w level 13 Done w level 14 Done w level 15 Done w level 16 Done w level 17 Done w level 18 Done w level 19 Done w level 20 Done w level 21 Done w level 22 Done w level 23 Done w level 24 Done w level 25 Done w level 26 Done w level 27 Done w level 28 Done w level 29 Done w level 30 Done w level 31 Done w level 32 Done w level 33 Done w level 34 Done w level 35 Done w level 36 Done w level 37 Done w level 38 Done w level 39 Done w level 40 Done w level 41 Done w level 42 Done w level 43 Done w level 44 Done w level 45 Done w level 46 Done w level 47 Done w level 48 Done w level 49 Done w 80\n",
      "\n",
      "Done w level 0 Done w level 1 Done w level 2 Done w level 3 Done w level 4 Done w level 5 Done w level 6 Done w level 7 Done w level 8 Done w level 9 Done w level 10 Done w level 11 Done w level 12 Done w level 13 Done w level 14 Done w level 15 Done w level 16 Done w level 17 Done w level 18 Done w level 19 Done w level 20 Done w level 21 Done w level 22 Done w level 23 Done w level 24 Done w level 25 Done w level 26 Done w level 27 Done w level 28 Done w level 29 Done w level 30 Done w level 31 Done w level 32 Done w level 33 Done w level 34 Done w level 35 Done w level 36 Done w level 37 Done w level 38 Done w level 39 Done w level 40 Done w level 41 Done w level 42 Done w level 43 Done w level 44 Done w level 45 Done w level 46 Done w level 47 Done w level 48 Done w level 49 Done w 100\n",
      "\n"
     ]
    }
   ],
   "source": [
    "for i in range(len(conc)):\n",
    "    stateData = nc.Dataset(loc+conc[i]+\"/data/diagsState.nc\")\n",
    "    var = stateData[\"WVEL\"]\n",
    "    \n",
    "    for level in range(nz):\n",
    "        for yDex in range(ny):\n",
    "            channelMeanW[level,yDex,i] = var[:,level,yDex,:].mean((0,1)) # t,z,y,x\n",
    "        print(f\"Done w level {level}\", end=\" \")\n",
    "    print(f\"Done w {conc[i]}\", end=\"\\n\\n\")\n",
    "\n",
    "np.save(saveloc+\"channelMeanW.npy\",channelMeanW)\n",
    "np.save(saveloc2+\"channelMeanW.npy\",channelMeanW)"
   ]
  },
  {
   "cell_type": "code",
   "execution_count": 12,
   "metadata": {},
   "outputs": [
    {
     "name": "stdout",
     "output_type": "stream",
     "text": [
      "Done w level 0 Done w level 1 Done w level 2 Done w level 3 Done w level 4 Done w level 5 Done w level 6 Done w level 7 Done w level 8 Done w level 9 Done w level 10 Done w level 11 Done w level 12 Done w level 13 Done w level 14 Done w level 15 Done w level 16 Done w level 17 Done w level 18 Done w level 19 Done w level 20 Done w level 21 Done w level 22 Done w level 23 Done w level 24 Done w level 25 Done w level 26 Done w level 27 Done w level 28 Done w level 29 Done w level 30 Done w level 31 Done w level 32 Done w level 33 Done w level 34 Done w level 35 Done w level 36 Done w level 37 Done w level 38 Done w level 39 Done w level 40 Done w level 41 Done w level 42 Done w level 43 Done w level 44 Done w level 45 Done w level 46 Done w level 47 Done w level 48 Done w level 49 Done w 0\n",
      "\n",
      "Done w level 0 Done w level 1 Done w level 2 Done w level 3 Done w level 4 Done w level 5 Done w level 6 Done w level 7 Done w level 8 Done w level 9 Done w level 10 Done w level 11 Done w level 12 Done w level 13 Done w level 14 Done w level 15 Done w level 16 Done w level 17 Done w level 18 Done w level 19 Done w level 20 Done w level 21 Done w level 22 Done w level 23 Done w level 24 Done w level 25 Done w level 26 Done w level 27 Done w level 28 Done w level 29 Done w level 30 Done w level 31 Done w level 32 Done w level 33 Done w level 34 Done w level 35 Done w level 36 Done w level 37 Done w level 38 Done w level 39 Done w level 40 Done w level 41 Done w level 42 Done w level 43 Done w level 44 Done w level 45 Done w level 46 Done w level 47 Done w level 48 Done w level 49 Done w 20\n",
      "\n",
      "Done w level 0 Done w level 1 Done w level 2 Done w level 3 Done w level 4 Done w level 5 Done w level 6 Done w level 7 Done w level 8 Done w level 9 Done w level 10 Done w level 11 Done w level 12 Done w level 13 Done w level 14 Done w level 15 Done w level 16 Done w level 17 Done w level 18 Done w level 19 Done w level 20 Done w level 21 Done w level 22 Done w level 23 Done w level 24 Done w level 25 Done w level 26 Done w level 27 Done w level 28 Done w level 29 Done w level 30 Done w level 31 Done w level 32 Done w level 33 Done w level 34 Done w level 35 Done w level 36 Done w level 37 Done w level 38 Done w level 39 Done w level 40 Done w level 41 Done w level 42 Done w level 43 Done w level 44 Done w level 45 Done w level 46 Done w level 47 Done w level 48 Done w level 49 Done w 40\n",
      "\n",
      "Done w level 0 Done w level 1 Done w level 2 Done w level 3 Done w level 4 Done w level 5 Done w level 6 Done w level 7 Done w level 8 Done w level 9 Done w level 10 Done w level 11 Done w level 12 Done w level 13 Done w level 14 Done w level 15 Done w level 16 Done w level 17 Done w level 18 Done w level 19 Done w level 20 Done w level 21 Done w level 22 Done w level 23 Done w level 24 Done w level 25 Done w level 26 Done w level 27 Done w level 28 Done w level 29 Done w level 30 Done w level 31 Done w level 32 Done w level 33 Done w level 34 Done w level 35 Done w level 36 Done w level 37 Done w level 38 Done w level 39 Done w level 40 Done w level 41 Done w level 42 Done w level 43 Done w level 44 Done w level 45 Done w level 46 Done w level 47 Done w level 48 Done w level 49 Done w 60\n",
      "\n",
      "Done w level 0 Done w level 1 Done w level 2 Done w level 3 Done w level 4 Done w level 5 Done w level 6 Done w level 7 Done w level 8 Done w level 9 Done w level 10 Done w level 11 Done w level 12 Done w level 13 Done w level 14 Done w level 15 Done w level 16 Done w level 17 Done w level 18 Done w level 19 Done w level 20 Done w level 21 Done w level 22 Done w level 23 Done w level 24 Done w level 25 Done w level 26 Done w level 27 Done w level 28 Done w level 29 Done w level 30 Done w level 31 Done w level 32 Done w level 33 Done w level 34 Done w level 35 Done w level 36 Done w level 37 Done w level 38 Done w level 39 Done w level 40 Done w level 41 Done w level 42 Done w level 43 Done w level 44 Done w level 45 Done w level 46 Done w level 47 Done w level 48 Done w level 49 Done w 80\n",
      "\n",
      "Done w level 0 Done w level 1 Done w level 2 Done w level 3 Done w level 4 Done w level 5 Done w level 6 Done w level 7 Done w level 8 Done w level 9 Done w level 10 Done w level 11 Done w level 12 Done w level 13 Done w level 14 Done w level 15 Done w level 16 Done w level 17 Done w level 18 Done w level 19 Done w level 20 Done w level 21 Done w level 22 Done w level 23 Done w level 24 Done w level 25 Done w level 26 Done w level 27 Done w level 28 Done w level 29 Done w level 30 Done w level 31 Done w level 32 Done w level 33 Done w level 34 Done w level 35 Done w level 36 Done w level 37 Done w level 38 Done w level 39 Done w level 40 Done w level 41 Done w level 42 Done w level 43 Done w level 44 Done w level 45 Done w level 46 Done w level 47 Done w level 48 Done w level 49 Done w 100\n",
      "\n"
     ]
    }
   ],
   "source": [
    "for i in range(len(conc)):\n",
    "    stateData = nc.Dataset(loc+conc[i]+\"/data/diagsState.nc\")\n",
    "    var = stateData[\"RHOAnoma\"]\n",
    "    \n",
    "    for level in range(nz):\n",
    "        for yDex in range(ny):\n",
    "            channelMeanRho[level,yDex,i] = var[:,level,yDex,:].mean((0,1)) # t,z,y,x\n",
    "        print(f\"Done w level {level}\", end=\" \")\n",
    "    print(f\"Done w {conc[i]}\", end=\"\\n\\n\")\n",
    "\n",
    "np.save(saveloc+\"channelMeanRho.npy\",channelMeanRho)\n",
    "np.save(saveloc2+\"channelMeanRho.npy\",channelMeanRho)\n",
    "\n"
   ]
  },
  {
   "cell_type": "code",
   "execution_count": 13,
   "metadata": {},
   "outputs": [
    {
     "name": "stdout",
     "output_type": "stream",
     "text": [
      "Done w level 0 Done w level 1 Done w level 2 Done w level 3 Done w level 4 Done w level 5 Done w level 6 Done w level 7 Done w level 8 Done w level 9 Done w level 10 Done w level 11 Done w level 12 Done w level 13 Done w level 14 Done w level 15 Done w level 16 Done w level 17 Done w level 18 Done w level 19 Done w level 20 Done w level 21 Done w level 22 Done w level 23 Done w level 24 Done w level 25 Done w level 26 Done w level 27 Done w level 28 Done w level 29 Done w level 30 Done w level 31 Done w level 32 Done w level 33 Done w level 34 Done w level 35 Done w level 36 Done w level 37 Done w level 38 Done w level 39 Done w level 40 Done w level 41 Done w level 42 Done w level 43 Done w level 44 Done w level 45 Done w level 46 Done w level 47 Done w level 48 Done w level 49 Done w 0\n",
      "\n",
      "Done w level 0 Done w level 1 Done w level 2 Done w level 3 Done w level 4 Done w level 5 Done w level 6 Done w level 7 Done w level 8 Done w level 9 Done w level 10 Done w level 11 Done w level 12 Done w level 13 Done w level 14 Done w level 15 Done w level 16 Done w level 17 Done w level 18 Done w level 19 Done w level 20 Done w level 21 Done w level 22 Done w level 23 Done w level 24 Done w level 25 Done w level 26 Done w level 27 Done w level 28 Done w level 29 Done w level 30 Done w level 31 Done w level 32 Done w level 33 Done w level 34 Done w level 35 Done w level 36 Done w level 37 Done w level 38 Done w level 39 Done w level 40 Done w level 41 Done w level 42 Done w level 43 Done w level 44 Done w level 45 Done w level 46 Done w level 47 Done w level 48 Done w level 49 Done w 20\n",
      "\n",
      "Done w level 0 Done w level 1 Done w level 2 Done w level 3 Done w level 4 Done w level 5 Done w level 6 Done w level 7 Done w level 8 Done w level 9 Done w level 10 Done w level 11 Done w level 12 Done w level 13 Done w level 14 Done w level 15 Done w level 16 Done w level 17 Done w level 18 Done w level 19 Done w level 20 Done w level 21 Done w level 22 Done w level 23 Done w level 24 Done w level 25 Done w level 26 Done w level 27 Done w level 28 Done w level 29 Done w level 30 Done w level 31 Done w level 32 Done w level 33 Done w level 34 Done w level 35 Done w level 36 Done w level 37 Done w level 38 Done w level 39 Done w level 40 Done w level 41 Done w level 42 Done w level 43 Done w level 44 Done w level 45 Done w level 46 Done w level 47 Done w level 48 Done w level 49 Done w 40\n",
      "\n",
      "Done w level 0 Done w level 1 Done w level 2 Done w level 3 Done w level 4 Done w level 5 Done w level 6 Done w level 7 Done w level 8 Done w level 9 Done w level 10 Done w level 11 Done w level 12 Done w level 13 Done w level 14 Done w level 15 Done w level 16 Done w level 17 Done w level 18 Done w level 19 Done w level 20 Done w level 21 Done w level 22 Done w level 23 Done w level 24 Done w level 25 Done w level 26 Done w level 27 Done w level 28 Done w level 29 Done w level 30 Done w level 31 Done w level 32 Done w level 33 Done w level 34 Done w level 35 Done w level 36 Done w level 37 Done w level 38 Done w level 39 Done w level 40 Done w level 41 Done w level 42 Done w level 43 Done w level 44 Done w level 45 Done w level 46 Done w level 47 Done w level 48 Done w level 49 Done w 60\n",
      "\n",
      "Done w level 0 Done w level 1 Done w level 2 Done w level 3 Done w level 4 Done w level 5 Done w level 6 Done w level 7 Done w level 8 Done w level 9 Done w level 10 Done w level 11 Done w level 12 Done w level 13 Done w level 14 Done w level 15 Done w level 16 Done w level 17 Done w level 18 Done w level 19 Done w level 20 Done w level 21 Done w level 22 Done w level 23 Done w level 24 Done w level 25 Done w level 26 Done w level 27 Done w level 28 Done w level 29 Done w level 30 Done w level 31 Done w level 32 Done w level 33 Done w level 34 Done w level 35 Done w level 36 Done w level 37 Done w level 38 Done w level 39 Done w level 40 Done w level 41 Done w level 42 Done w level 43 Done w level 44 Done w level 45 Done w level 46 Done w level 47 Done w level 48 Done w level 49 Done w 80\n",
      "\n",
      "Done w level 0 Done w level 1 Done w level 2 Done w level 3 Done w level 4 Done w level 5 Done w level 6 Done w level 7 Done w level 8 Done w level 9 Done w level 10 Done w level 11 Done w level 12 Done w level 13 Done w level 14 Done w level 15 Done w level 16 Done w level 17 Done w level 18 Done w level 19 Done w level 20 Done w level 21 Done w level 22 Done w level 23 Done w level 24 Done w level 25 Done w level 26 Done w level 27 Done w level 28 Done w level 29 Done w level 30 Done w level 31 Done w level 32 Done w level 33 Done w level 34 Done w level 35 Done w level 36 Done w level 37 Done w level 38 Done w level 39 Done w level 40 Done w level 41 Done w level 42 Done w level 43 Done w level 44 Done w level 45 Done w level 46 Done w level 47 Done w level 48 Done w level 49 Done w 100\n",
      "\n"
     ]
    }
   ],
   "source": [
    "for i in range(len(conc)):\n",
    "    stateData = nc.Dataset(loc+conc[i]+\"/data/diagsState.nc\")\n",
    "    var = stateData[\"DRHODR\"]\n",
    "    \n",
    "    for level in range(nz):\n",
    "        for yDex in range(ny):\n",
    "            channelMeanN2[level,yDex,i] = var[:,level,yDex,:].mean((0,1)) # t,z,y,x\n",
    "        print(f\"Done w level {level}\", end=\" \")\n",
    "    print(f\"Done w {conc[i]}\", end=\"\\n\\n\")\n",
    "channelMeanN2 = channelMeanN2 * -g / rhoConst\n",
    "np.save(saveloc+\"channelMeanN2.npy\",channelMeanN2)\n",
    "np.save(saveloc2+\"channelMeanN2.npy\",channelMeanN2)"
   ]
  },
  {
   "cell_type": "code",
   "execution_count": null,
   "metadata": {
    "collapsed": true,
    "jupyter": {
     "outputs_hidden": true
    }
   },
   "outputs": [],
   "source": []
  },
  {
   "cell_type": "code",
   "execution_count": 14,
   "metadata": {},
   "outputs": [
    {
     "name": "stdout",
     "output_type": "stream",
     "text": [
      "Done w level 0 Done w level 1 Done w level 2 Done w level 3 Done w level 4 Done w level 5 Done w level 6 Done w level 7 Done w level 8 Done w level 9 Done w level 10 Done w level 11 Done w level 12 Done w level 13 Done w level 14 Done w level 15 Done w level 16 Done w level 17 Done w level 18 Done w level 19 Done w level 20 Done w level 21 Done w level 22 Done w level 23 Done w level 24 Done w level 25 Done w level 26 Done w level 27 Done w level 28 Done w level 29 Done w level 30 Done w level 31 Done w level 32 Done w level 33 Done w level 34 Done w level 35 Done w level 36 Done w level 37 Done w level 38 Done w level 39 Done w level 40 Done w level 41 Done w level 42 Done w level 43 Done w level 44 Done w level 45 Done w level 46 Done w level 47 Done w level 48 Done w level 49 Done w 0\n",
      "\n",
      "Done w level 0 Done w level 1 Done w level 2 Done w level 3 Done w level 4 Done w level 5 Done w level 6 Done w level 7 Done w level 8 Done w level 9 Done w level 10 Done w level 11 Done w level 12 Done w level 13 Done w level 14 Done w level 15 Done w level 16 Done w level 17 Done w level 18 Done w level 19 Done w level 20 Done w level 21 Done w level 22 Done w level 23 Done w level 24 Done w level 25 Done w level 26 Done w level 27 Done w level 28 Done w level 29 Done w level 30 Done w level 31 Done w level 32 Done w level 33 Done w level 34 Done w level 35 Done w level 36 Done w level 37 Done w level 38 Done w level 39 Done w level 40 Done w level 41 Done w level 42 Done w level 43 Done w level 44 Done w level 45 Done w level 46 Done w level 47 Done w level 48 Done w level 49 Done w 20\n",
      "\n",
      "Done w level 0 Done w level 1 Done w level 2 Done w level 3 Done w level 4 Done w level 5 Done w level 6 Done w level 7 Done w level 8 Done w level 9 Done w level 10 Done w level 11 Done w level 12 Done w level 13 Done w level 14 Done w level 15 Done w level 16 Done w level 17 Done w level 18 Done w level 19 Done w level 20 Done w level 21 Done w level 22 Done w level 23 Done w level 24 Done w level 25 Done w level 26 Done w level 27 Done w level 28 Done w level 29 Done w level 30 Done w level 31 Done w level 32 Done w level 33 Done w level 34 Done w level 35 Done w level 36 Done w level 37 Done w level 38 Done w level 39 Done w level 40 Done w level 41 Done w level 42 Done w level 43 Done w level 44 Done w level 45 Done w level 46 Done w level 47 Done w level 48 Done w level 49 Done w 40\n",
      "\n",
      "Done w level 0 Done w level 1 Done w level 2 Done w level 3 Done w level 4 Done w level 5 Done w level 6 Done w level 7 Done w level 8 Done w level 9 Done w level 10 Done w level 11 Done w level 12 Done w level 13 Done w level 14 Done w level 15 Done w level 16 Done w level 17 Done w level 18 Done w level 19 Done w level 20 Done w level 21 Done w level 22 Done w level 23 Done w level 24 Done w level 25 Done w level 26 Done w level 27 Done w level 28 Done w level 29 Done w level 30 Done w level 31 Done w level 32 Done w level 33 Done w level 34 Done w level 35 Done w level 36 Done w level 37 Done w level 38 Done w level 39 Done w level 40 Done w level 41 Done w level 42 Done w level 43 Done w level 44 Done w level 45 Done w level 46 Done w level 47 Done w level 48 Done w level 49 Done w 60\n",
      "\n",
      "Done w level 0 Done w level 1 Done w level 2 Done w level 3 Done w level 4 Done w level 5 Done w level 6 Done w level 7 Done w level 8 Done w level 9 Done w level 10 Done w level 11 Done w level 12 Done w level 13 Done w level 14 Done w level 15 Done w level 16 Done w level 17 Done w level 18 Done w level 19 Done w level 20 Done w level 21 Done w level 22 Done w level 23 Done w level 24 Done w level 25 Done w level 26 Done w level 27 Done w level 28 Done w level 29 Done w level 30 Done w level 31 Done w level 32 Done w level 33 Done w level 34 Done w level 35 Done w level 36 Done w level 37 Done w level 38 Done w level 39 Done w level 40 Done w level 41 Done w level 42 Done w level 43 Done w level 44 Done w level 45 Done w level 46 Done w level 47 Done w level 48 Done w level 49 Done w 80\n",
      "\n",
      "Done w level 0 Done w level 1 Done w level 2 Done w level 3 Done w level 4 Done w level 5 Done w level 6 Done w level 7 Done w level 8 Done w level 9 Done w level 10 Done w level 11 Done w level 12 Done w level 13 Done w level 14 Done w level 15 Done w level 16 Done w level 17 Done w level 18 Done w level 19 Done w level 20 Done w level 21 Done w level 22 Done w level 23 Done w level 24 Done w level 25 Done w level 26 Done w level 27 Done w level 28 Done w level 29 Done w level 30 Done w level 31 Done w level 32 Done w level 33 Done w level 34 Done w level 35 Done w level 36 Done w level 37 Done w level 38 Done w level 39 Done w level 40 Done w level 41 Done w level 42 Done w level 43 Done w level 44 Done w level 45 Done w level 46 Done w level 47 Done w level 48 Done w level 49 Done w 100\n",
      "\n"
     ]
    }
   ],
   "source": [
    "for i in range(len(conc)):\n",
    "    stateData = nc.Dataset(loc+conc[i]+\"/data/diagsFluxes.nc\")\n",
    "    var = stateData[\"WVELSLT\"]\n",
    "    \n",
    "    for level in range(nz):\n",
    "        for yDex in range(ny):\n",
    "            channelMeanWS[level,yDex,i] = var[:,level,yDex,:].mean((0,1)) # t,z,y,x\n",
    "        print(f\"Done w level {level}\", end=\" \")\n",
    "    print(f\"Done w {conc[i]}\", end=\"\\n\\n\")\n",
    "\n",
    "np.save(saveloc+\"/channelMeanWSbar.npy\",channelMeanWS)"
   ]
  },
  {
   "cell_type": "code",
   "execution_count": 15,
   "metadata": {},
   "outputs": [
    {
     "name": "stdout",
     "output_type": "stream",
     "text": [
      "Done w level 0 Done w level 1 Done w level 2 Done w level 3 Done w level 4 Done w level 5 Done w level 6 Done w level 7 Done w level 8 Done w level 9 Done w level 10 Done w level 11 Done w level 12 Done w level 13 Done w level 14 Done w level 15 Done w level 16 Done w level 17 Done w level 18 Done w level 19 Done w level 20 Done w level 21 Done w level 22 Done w level 23 Done w level 24 Done w level 25 Done w level 26 Done w level 27 Done w level 28 Done w level 29 Done w level 30 Done w level 31 Done w level 32 Done w level 33 Done w level 34 Done w level 35 Done w level 36 Done w level 37 Done w level 38 Done w level 39 Done w level 40 Done w level 41 Done w level 42 Done w level 43 Done w level 44 Done w level 45 Done w level 46 Done w level 47 Done w level 48 Done w level 49 Done w 0\n",
      "\n",
      "Done w level 0 Done w level 1 Done w level 2 Done w level 3 Done w level 4 Done w level 5 Done w level 6 Done w level 7 Done w level 8 Done w level 9 Done w level 10 Done w level 11 Done w level 12 Done w level 13 Done w level 14 Done w level 15 Done w level 16 Done w level 17 Done w level 18 Done w level 19 Done w level 20 Done w level 21 Done w level 22 Done w level 23 Done w level 24 Done w level 25 Done w level 26 Done w level 27 Done w level 28 Done w level 29 Done w level 30 Done w level 31 Done w level 32 Done w level 33 Done w level 34 Done w level 35 Done w level 36 Done w level 37 Done w level 38 Done w level 39 Done w level 40 Done w level 41 Done w level 42 Done w level 43 Done w level 44 Done w level 45 Done w level 46 Done w level 47 Done w level 48 Done w level 49 Done w 20\n",
      "\n",
      "Done w level 0 Done w level 1 Done w level 2 Done w level 3 Done w level 4 Done w level 5 Done w level 6 Done w level 7 Done w level 8 Done w level 9 Done w level 10 Done w level 11 Done w level 12 Done w level 13 Done w level 14 Done w level 15 Done w level 16 Done w level 17 Done w level 18 Done w level 19 Done w level 20 Done w level 21 Done w level 22 Done w level 23 Done w level 24 Done w level 25 Done w level 26 Done w level 27 Done w level 28 Done w level 29 Done w level 30 Done w level 31 Done w level 32 Done w level 33 Done w level 34 Done w level 35 Done w level 36 Done w level 37 Done w level 38 Done w level 39 Done w level 40 Done w level 41 Done w level 42 Done w level 43 Done w level 44 Done w level 45 Done w level 46 Done w level 47 Done w level 48 Done w level 49 Done w 40\n",
      "\n",
      "Done w level 0 Done w level 1 Done w level 2 Done w level 3 Done w level 4 Done w level 5 Done w level 6 Done w level 7 Done w level 8 Done w level 9 Done w level 10 Done w level 11 Done w level 12 Done w level 13 Done w level 14 Done w level 15 Done w level 16 Done w level 17 Done w level 18 Done w level 19 Done w level 20 Done w level 21 Done w level 22 Done w level 23 Done w level 24 Done w level 25 Done w level 26 Done w level 27 Done w level 28 Done w level 29 Done w level 30 Done w level 31 Done w level 32 Done w level 33 Done w level 34 Done w level 35 Done w level 36 Done w level 37 Done w level 38 Done w level 39 Done w level 40 Done w level 41 Done w level 42 Done w level 43 Done w level 44 Done w level 45 Done w level 46 Done w level 47 Done w level 48 Done w level 49 Done w 60\n",
      "\n",
      "Done w level 0 Done w level 1 Done w level 2 Done w level 3 Done w level 4 Done w level 5 Done w level 6 Done w level 7 Done w level 8 Done w level 9 Done w level 10 Done w level 11 Done w level 12 Done w level 13 Done w level 14 Done w level 15 Done w level 16 Done w level 17 Done w level 18 Done w level 19 Done w level 20 Done w level 21 Done w level 22 Done w level 23 Done w level 24 Done w level 25 Done w level 26 Done w level 27 Done w level 28 Done w level 29 Done w level 30 Done w level 31 Done w level 32 Done w level 33 Done w level 34 Done w level 35 Done w level 36 Done w level 37 Done w level 38 Done w level 39 Done w level 40 Done w level 41 Done w level 42 Done w level 43 Done w level 44 Done w level 45 Done w level 46 Done w level 47 Done w level 48 Done w level 49 Done w 80\n",
      "\n",
      "Done w level 0 Done w level 1 Done w level 2 Done w level 3 Done w level 4 Done w level 5 Done w level 6 Done w level 7 Done w level 8 Done w level 9 Done w level 10 Done w level 11 Done w level 12 Done w level 13 Done w level 14 Done w level 15 Done w level 16 Done w level 17 Done w level 18 Done w level 19 Done w level 20 Done w level 21 Done w level 22 Done w level 23 Done w level 24 Done w level 25 Done w level 26 Done w level 27 Done w level 28 Done w level 29 Done w level 30 Done w level 31 Done w level 32 Done w level 33 Done w level 34 Done w level 35 Done w level 36 Done w level 37 Done w level 38 Done w level 39 Done w level 40 Done w level 41 Done w level 42 Done w level 43 Done w level 44 Done w level 45 Done w level 46 Done w level 47 Done w level 48 Done w level 49 Done w 100\n",
      "\n"
     ]
    }
   ],
   "source": [
    "for i in range(len(conc)):\n",
    "    stateData = nc.Dataset(loc+conc[i]+\"/data/diagsFluxes.nc\")\n",
    "    var = stateData[\"VVELSLT\"]\n",
    "    \n",
    "    for level in range(nz):\n",
    "        for yDex in range(ny+1):\n",
    "            channelMeanVS[level,yDex,i] = var[:,level,yDex,:].mean((0,1)) # t,z,y,x\n",
    "        print(f\"Done w level {level}\", end=\" \")\n",
    "    print(f\"Done w {conc[i]}\", end=\"\\n\\n\")\n",
    "\n",
    "np.save(saveloc+\"/channelMeanVSbar.npy\",channelMeanVS)"
   ]
  },
  {
   "cell_type": "code",
   "execution_count": 16,
   "metadata": {},
   "outputs": [
    {
     "name": "stdout",
     "output_type": "stream",
     "text": [
      "Done w level 0 Done w level 1 Done w level 2 Done w level 3 Done w level 4 Done w level 5 Done w level 6 Done w level 7 Done w level 8 Done w level 9 Done w level 10 Done w level 11 Done w level 12 Done w level 13 Done w level 14 Done w level 15 Done w level 16 Done w level 17 Done w level 18 Done w level 19 Done w level 20 Done w level 21 Done w level 22 Done w level 23 Done w level 24 Done w level 25 Done w level 26 Done w level 27 Done w level 28 Done w level 29 Done w level 30 Done w level 31 Done w level 32 Done w level 33 Done w level 34 Done w level 35 Done w level 36 Done w level 37 Done w level 38 Done w level 39 Done w level 40 Done w level 41 Done w level 42 Done w level 43 Done w level 44 Done w level 45 Done w level 46 Done w level 47 Done w level 48 Done w level 49 Done w 0\n",
      "\n",
      "Done w level 0 Done w level 1 Done w level 2 Done w level 3 Done w level 4 Done w level 5 Done w level 6 Done w level 7 Done w level 8 Done w level 9 Done w level 10 Done w level 11 Done w level 12 Done w level 13 Done w level 14 Done w level 15 Done w level 16 Done w level 17 Done w level 18 Done w level 19 Done w level 20 Done w level 21 Done w level 22 Done w level 23 Done w level 24 Done w level 25 Done w level 26 Done w level 27 Done w level 28 Done w level 29 Done w level 30 Done w level 31 Done w level 32 Done w level 33 Done w level 34 Done w level 35 Done w level 36 Done w level 37 Done w level 38 Done w level 39 Done w level 40 Done w level 41 Done w level 42 Done w level 43 Done w level 44 Done w level 45 Done w level 46 Done w level 47 Done w level 48 Done w level 49 Done w 20\n",
      "\n",
      "Done w level 0 Done w level 1 Done w level 2 Done w level 3 Done w level 4 Done w level 5 Done w level 6 Done w level 7 Done w level 8 Done w level 9 Done w level 10 Done w level 11 Done w level 12 Done w level 13 Done w level 14 Done w level 15 Done w level 16 Done w level 17 Done w level 18 Done w level 19 Done w level 20 Done w level 21 Done w level 22 Done w level 23 Done w level 24 Done w level 25 Done w level 26 Done w level 27 Done w level 28 Done w level 29 Done w level 30 Done w level 31 Done w level 32 Done w level 33 Done w level 34 Done w level 35 Done w level 36 Done w level 37 Done w level 38 Done w level 39 Done w level 40 Done w level 41 Done w level 42 Done w level 43 Done w level 44 Done w level 45 Done w level 46 Done w level 47 Done w level 48 Done w level 49 Done w 40\n",
      "\n",
      "Done w level 0 Done w level 1 Done w level 2 Done w level 3 Done w level 4 Done w level 5 Done w level 6 Done w level 7 Done w level 8 Done w level 9 Done w level 10 Done w level 11 Done w level 12 Done w level 13 Done w level 14 Done w level 15 Done w level 16 Done w level 17 Done w level 18 Done w level 19 Done w level 20 Done w level 21 Done w level 22 Done w level 23 Done w level 24 Done w level 25 Done w level 26 Done w level 27 Done w level 28 Done w level 29 Done w level 30 Done w level 31 Done w level 32 Done w level 33 Done w level 34 Done w level 35 Done w level 36 Done w level 37 Done w level 38 Done w level 39 Done w level 40 Done w level 41 Done w level 42 Done w level 43 Done w level 44 Done w level 45 Done w level 46 Done w level 47 Done w level 48 Done w level 49 Done w 60\n",
      "\n",
      "Done w level 0 Done w level 1 Done w level 2 Done w level 3 Done w level 4 Done w level 5 Done w level 6 Done w level 7 Done w level 8 Done w level 9 Done w level 10 Done w level 11 Done w level 12 Done w level 13 Done w level 14 Done w level 15 Done w level 16 Done w level 17 Done w level 18 Done w level 19 Done w level 20 Done w level 21 Done w level 22 Done w level 23 Done w level 24 Done w level 25 Done w level 26 Done w level 27 Done w level 28 Done w level 29 Done w level 30 Done w level 31 Done w level 32 Done w level 33 Done w level 34 Done w level 35 Done w level 36 Done w level 37 Done w level 38 Done w level 39 Done w level 40 Done w level 41 Done w level 42 Done w level 43 Done w level 44 Done w level 45 Done w level 46 Done w level 47 Done w level 48 Done w level 49 Done w 80\n",
      "\n",
      "Done w level 0 Done w level 1 Done w level 2 Done w level 3 Done w level 4 Done w level 5 Done w level 6 Done w level 7 Done w level 8 Done w level 9 Done w level 10 Done w level 11 Done w level 12 Done w level 13 Done w level 14 Done w level 15 Done w level 16 Done w level 17 Done w level 18 Done w level 19 Done w level 20 Done w level 21 Done w level 22 Done w level 23 Done w level 24 Done w level 25 Done w level 26 Done w level 27 Done w level 28 Done w level 29 Done w level 30 Done w level 31 Done w level 32 Done w level 33 Done w level 34 Done w level 35 Done w level 36 Done w level 37 Done w level 38 Done w level 39 Done w level 40 Done w level 41 Done w level 42 Done w level 43 Done w level 44 Done w level 45 Done w level 46 Done w level 47 Done w level 48 Done w level 49 Done w 100\n",
      "\n"
     ]
    }
   ],
   "source": [
    "for i in range(len(conc)):\n",
    "    stateData = nc.Dataset(loc+conc[i]+\"/data/diagsFluxes.nc\")\n",
    "    var = stateData[\"VRHOMASS\"]\n",
    "    \n",
    "    for level in range(nz):\n",
    "        for yDex in range(ny+1):\n",
    "            channelMeanVR[level,yDex,i] = var[:,level,yDex,:].mean((0,1)) # t,z,y,x\n",
    "        print(f\"Done w level {level}\", end=\" \")\n",
    "    print(f\"Done w {conc[i]}\", end=\"\\n\\n\")\n",
    "\n",
    "np.save(saveloc+\"/channelMeanVRbar.npy\",channelMeanVR)"
   ]
  },
  {
   "cell_type": "code",
   "execution_count": 17,
   "metadata": {},
   "outputs": [
    {
     "name": "stdout",
     "output_type": "stream",
     "text": [
      "Done w level 0 Done w level 1 Done w level 2 Done w level 3 Done w level 4 Done w level 5 Done w level 6 Done w level 7 Done w level 8 Done w level 9 Done w level 10 Done w level 11 Done w level 12 Done w level 13 Done w level 14 Done w level 15 Done w level 16 Done w level 17 Done w level 18 Done w level 19 Done w level 20 Done w level 21 Done w level 22 Done w level 23 Done w level 24 Done w level 25 Done w level 26 Done w level 27 Done w level 28 Done w level 29 Done w level 30 Done w level 31 Done w level 32 Done w level 33 Done w level 34 Done w level 35 Done w level 36 Done w level 37 Done w level 38 Done w level 39 Done w level 40 Done w level 41 Done w level 42 Done w level 43 Done w level 44 Done w level 45 Done w level 46 Done w level 47 Done w level 48 Done w level 49 Done w 0\n",
      "\n",
      "Done w level 0 Done w level 1 Done w level 2 Done w level 3 Done w level 4 Done w level 5 Done w level 6 Done w level 7 Done w level 8 Done w level 9 Done w level 10 Done w level 11 Done w level 12 Done w level 13 Done w level 14 Done w level 15 Done w level 16 Done w level 17 Done w level 18 Done w level 19 Done w level 20 Done w level 21 Done w level 22 Done w level 23 Done w level 24 Done w level 25 Done w level 26 Done w level 27 Done w level 28 Done w level 29 Done w level 30 Done w level 31 Done w level 32 Done w level 33 Done w level 34 Done w level 35 Done w level 36 Done w level 37 Done w level 38 Done w level 39 Done w level 40 Done w level 41 Done w level 42 Done w level 43 Done w level 44 Done w level 45 Done w level 46 Done w level 47 Done w level 48 Done w level 49 Done w 20\n",
      "\n",
      "Done w level 0 Done w level 1 Done w level 2 Done w level 3 Done w level 4 Done w level 5 Done w level 6 Done w level 7 Done w level 8 Done w level 9 Done w level 10 Done w level 11 Done w level 12 Done w level 13 Done w level 14 Done w level 15 Done w level 16 Done w level 17 Done w level 18 Done w level 19 Done w level 20 Done w level 21 Done w level 22 Done w level 23 Done w level 24 Done w level 25 Done w level 26 Done w level 27 Done w level 28 Done w level 29 Done w level 30 Done w level 31 Done w level 32 Done w level 33 Done w level 34 Done w level 35 Done w level 36 Done w level 37 Done w level 38 Done w level 39 Done w level 40 Done w level 41 Done w level 42 Done w level 43 Done w level 44 Done w level 45 Done w level 46 Done w level 47 Done w level 48 Done w level 49 Done w 40\n",
      "\n",
      "Done w level 0 Done w level 1 Done w level 2 Done w level 3 Done w level 4 Done w level 5 Done w level 6 Done w level 7 Done w level 8 Done w level 9 Done w level 10 Done w level 11 Done w level 12 Done w level 13 Done w level 14 Done w level 15 Done w level 16 Done w level 17 Done w level 18 Done w level 19 Done w level 20 Done w level 21 Done w level 22 Done w level 23 Done w level 24 Done w level 25 Done w level 26 Done w level 27 Done w level 28 Done w level 29 Done w level 30 Done w level 31 Done w level 32 Done w level 33 Done w level 34 Done w level 35 Done w level 36 Done w level 37 Done w level 38 Done w level 39 Done w level 40 Done w level 41 Done w level 42 Done w level 43 Done w level 44 Done w level 45 Done w level 46 Done w level 47 Done w level 48 Done w level 49 Done w 60\n",
      "\n",
      "Done w level 0 Done w level 1 Done w level 2 Done w level 3 Done w level 4 Done w level 5 Done w level 6 Done w level 7 Done w level 8 Done w level 9 Done w level 10 Done w level 11 Done w level 12 Done w level 13 Done w level 14 Done w level 15 Done w level 16 Done w level 17 Done w level 18 Done w level 19 Done w level 20 Done w level 21 Done w level 22 Done w level 23 Done w level 24 Done w level 25 Done w level 26 Done w level 27 Done w level 28 Done w level 29 Done w level 30 Done w level 31 Done w level 32 Done w level 33 Done w level 34 Done w level 35 Done w level 36 Done w level 37 Done w level 38 Done w level 39 Done w level 40 Done w level 41 Done w level 42 Done w level 43 Done w level 44 Done w level 45 Done w level 46 Done w level 47 Done w level 48 Done w level 49 Done w 80\n",
      "\n",
      "Done w level 0 Done w level 1 Done w level 2 Done w level 3 Done w level 4 Done w level 5 Done w level 6 Done w level 7 Done w level 8 Done w level 9 Done w level 10 Done w level 11 Done w level 12 Done w level 13 Done w level 14 Done w level 15 Done w level 16 Done w level 17 Done w level 18 Done w level 19 Done w level 20 Done w level 21 Done w level 22 Done w level 23 Done w level 24 Done w level 25 Done w level 26 Done w level 27 Done w level 28 Done w level 29 Done w level 30 Done w level 31 Done w level 32 Done w level 33 Done w level 34 Done w level 35 Done w level 36 Done w level 37 Done w level 38 Done w level 39 Done w level 40 Done w level 41 Done w level 42 Done w level 43 Done w level 44 Done w level 45 Done w level 46 Done w level 47 Done w level 48 Done w level 49 Done w 100\n",
      "\n"
     ]
    }
   ],
   "source": [
    "for i in range(len(conc)):\n",
    "    stateData = nc.Dataset(loc+conc[i]+\"/data/diagsFluxes.nc\")\n",
    "    var = stateData[\"WRHOMASS\"]\n",
    "    \n",
    "    for level in range(nz):\n",
    "        for yDex in range(ny):\n",
    "            channelMeanWR[level,yDex,i] = var[:,level,yDex,:].mean((0,1)) # t,z,y,x\n",
    "        print(f\"Done w level {level}\", end=\" \")\n",
    "    print(f\"Done w {conc[i]}\", end=\"\\n\\n\")\n",
    "\n",
    "np.save(saveloc+\"/channelMeanWRbar.npy\",channelMeanWR)"
   ]
  },
  {
   "cell_type": "code",
   "execution_count": null,
   "metadata": {
    "collapsed": true,
    "jupyter": {
     "outputs_hidden": true
    }
   },
   "outputs": [],
   "source": []
  },
  {
   "cell_type": "code",
   "execution_count": 18,
   "metadata": {},
   "outputs": [
    {
     "name": "stdout",
     "output_type": "stream",
     "text": [
      "Done w level 0 Done w level 1 Done w level 2 Done w level 3 Done w level 4 Done w level 5 Done w level 6 Done w level 7 Done w level 8 Done w level 9 Done w level 10 Done w level 11 Done w level 12 Done w level 13 Done w level 14 Done w level 15 Done w level 16 Done w level 17 Done w level 18 Done w level 19 Done w level 20 Done w level 21 Done w level 22 Done w level 23 Done w level 24 Done w level 25 Done w level 26 Done w level 27 Done w level 28 Done w level 29 Done w level 30 Done w level 31 Done w level 32 Done w level 33 Done w level 34 Done w level 35 Done w level 36 Done w level 37 Done w level 38 Done w level 39 Done w level 40 Done w level 41 Done w level 42 Done w level 43 Done w level 44 Done w level 45 Done w level 46 Done w level 47 Done w level 48 Done w level 49 Done w 0\n",
      "\n",
      "Done w level 0 Done w level 1 Done w level 2 Done w level 3 Done w level 4 Done w level 5 Done w level 6 Done w level 7 Done w level 8 Done w level 9 Done w level 10 Done w level 11 Done w level 12 Done w level 13 Done w level 14 Done w level 15 Done w level 16 Done w level 17 Done w level 18 Done w level 19 Done w level 20 Done w level 21 Done w level 22 Done w level 23 Done w level 24 Done w level 25 Done w level 26 Done w level 27 Done w level 28 Done w level 29 Done w level 30 Done w level 31 Done w level 32 Done w level 33 Done w level 34 Done w level 35 Done w level 36 Done w level 37 Done w level 38 Done w level 39 Done w level 40 Done w level 41 Done w level 42 Done w level 43 Done w level 44 Done w level 45 Done w level 46 Done w level 47 Done w level 48 Done w level 49 Done w 100\n",
      "\n"
     ]
    }
   ],
   "source": [
    "for i in range(len(conc)):\n",
    "    try:\n",
    "        stateData = nc.Dataset(loc+conc[i]+\"/data/diagsTendency.nc\")\n",
    "        var = stateData[\"DFrI_SLT\"]\n",
    "    except:\n",
    "        continue\n",
    "    for level in range(nz):\n",
    "        for yDex in range(ny):\n",
    "            channelMeanDiffSaltI[level,yDex,i] = var[:,level,yDex,:].mean((0,1)) # t,z,y,x\n",
    "        print(f\"Done w level {level}\", end=\" \")\n",
    "    print(f\"Done w {conc[i]}\", end=\"\\n\\n\")\n",
    "\n",
    "np.save(saveloc+\"/channelMeanDiffSaltIbar.npy\",channelMeanDiffSaltI)"
   ]
  },
  {
   "cell_type": "code",
   "execution_count": 19,
   "metadata": {},
   "outputs": [
    {
     "name": "stdout",
     "output_type": "stream",
     "text": [
      "Done w level 0 Done w level 1 Done w level 2 Done w level 3 Done w level 4 Done w level 5 Done w level 6 Done w level 7 Done w level 8 Done w level 9 Done w level 10 Done w level 11 Done w level 12 Done w level 13 Done w level 14 Done w level 15 Done w level 16 Done w level 17 Done w level 18 Done w level 19 Done w level 20 Done w level 21 Done w level 22 Done w level 23 Done w level 24 Done w level 25 Done w level 26 Done w level 27 Done w level 28 Done w level 29 Done w level 30 Done w level 31 Done w level 32 Done w level 33 Done w level 34 Done w level 35 Done w level 36 Done w level 37 Done w level 38 Done w level 39 Done w level 40 Done w level 41 Done w level 42 Done w level 43 Done w level 44 Done w level 45 Done w level 46 Done w level 47 Done w level 48 Done w level 49 Done w 0\n",
      "\n",
      "Done w level 0 Done w level 1 Done w level 2 Done w level 3 Done w level 4 Done w level 5 Done w level 6 Done w level 7 Done w level 8 Done w level 9 Done w level 10 Done w level 11 Done w level 12 Done w level 13 Done w level 14 Done w level 15 Done w level 16 Done w level 17 Done w level 18 Done w level 19 Done w level 20 Done w level 21 Done w level 22 Done w level 23 Done w level 24 Done w level 25 Done w level 26 Done w level 27 Done w level 28 Done w level 29 Done w level 30 Done w level 31 Done w level 32 Done w level 33 Done w level 34 Done w level 35 Done w level 36 Done w level 37 Done w level 38 Done w level 39 Done w level 40 Done w level 41 Done w level 42 Done w level 43 Done w level 44 Done w level 45 Done w level 46 Done w level 47 Done w level 48 Done w level 49 Done w 100\n",
      "\n"
     ]
    }
   ],
   "source": [
    "for i in range(len(conc)):\n",
    "    try:\n",
    "        stateData = nc.Dataset(loc+conc[i]+\"/data/diagsTendency.nc\")\n",
    "        var = stateData[\"KPPg_SLT\"]\n",
    "    except:\n",
    "        continue\n",
    "    for level in range(nz):\n",
    "        for yDex in range(ny):\n",
    "            channelMeanNonLocal[level,yDex,i] = var[:,level,yDex,:].mean((0,1)) # t,z,y,x\n",
    "        print(f\"Done w level {level}\", end=\" \")\n",
    "    print(f\"Done w {conc[i]}\", end=\"\\n\\n\")\n",
    "\n",
    "np.save(saveloc+\"channelMeanNonLocal.npy\",channelMeanNonLocal)"
   ]
  },
  {
   "cell_type": "code",
   "execution_count": 20,
   "metadata": {},
   "outputs": [
    {
     "name": "stdout",
     "output_type": "stream",
     "text": [
      "Done w level 0 Done w level 1 Done w level 2 Done w level 3 Done w level 4 Done w level 5 Done w level 6 Done w level 7 Done w level 8 Done w level 9 Done w level 10 Done w level 11 Done w level 12 Done w level 13 Done w level 14 Done w level 15 Done w level 16 Done w level 17 Done w level 18 Done w level 19 Done w level 20 Done w level 21 Done w level 22 Done w level 23 Done w level 24 Done w level 25 Done w level 26 Done w level 27 Done w level 28 Done w level 29 Done w level 30 Done w level 31 Done w level 32 Done w level 33 Done w level 34 Done w level 35 Done w level 36 Done w level 37 Done w level 38 Done w level 39 Done w level 40 Done w level 41 Done w level 42 Done w level 43 Done w level 44 Done w level 45 Done w level 46 Done w level 47 Done w level 48 Done w level 49 Done w 0\n",
      "\n",
      "Done w level 0 Done w level 1 Done w level 2 Done w level 3 Done w level 4 Done w level 5 Done w level 6 Done w level 7 Done w level 8 Done w level 9 Done w level 10 Done w level 11 Done w level 12 Done w level 13 Done w level 14 Done w level 15 Done w level 16 Done w level 17 Done w level 18 Done w level 19 Done w level 20 Done w level 21 Done w level 22 Done w level 23 Done w level 24 Done w level 25 Done w level 26 Done w level 27 Done w level 28 Done w level 29 Done w level 30 Done w level 31 Done w level 32 Done w level 33 Done w level 34 Done w level 35 Done w level 36 Done w level 37 Done w level 38 Done w level 39 Done w level 40 Done w level 41 Done w level 42 Done w level 43 Done w level 44 Done w level 45 Done w level 46 Done w level 47 Done w level 48 Done w level 49 Done w 100\n",
      "\n"
     ]
    }
   ],
   "source": [
    "for i in range(len(conc)):\n",
    "    try:\n",
    "        stateData = nc.Dataset(loc+conc[i]+\"/data/diagsTendency.nc\")\n",
    "        var = stateData[\"ADVx_SLT\"]\n",
    "    except:\n",
    "        continue\n",
    "    for level in range(nz):\n",
    "        for yDex in range(ny):\n",
    "            channelMeanAdvX[level,yDex,i] = var[:,level,yDex,:].mean((0,1)) # t,z,y,x\n",
    "        print(f\"Done w level {level}\", end=\" \")\n",
    "    print(f\"Done w {conc[i]}\", end=\"\\n\\n\")\n",
    "\n",
    "np.save(saveloc+\"channelMeanAdvSltFlxX.npy\",channelMeanAdvX)"
   ]
  },
  {
   "cell_type": "code",
   "execution_count": 21,
   "metadata": {},
   "outputs": [
    {
     "name": "stdout",
     "output_type": "stream",
     "text": [
      "Done w level 0 Done w level 1 Done w level 2 Done w level 3 Done w level 4 Done w level 5 Done w level 6 Done w level 7 Done w level 8 Done w level 9 Done w level 10 Done w level 11 Done w level 12 Done w level 13 Done w level 14 Done w level 15 Done w level 16 Done w level 17 Done w level 18 Done w level 19 Done w level 20 Done w level 21 Done w level 22 Done w level 23 Done w level 24 Done w level 25 Done w level 26 Done w level 27 Done w level 28 Done w level 29 Done w level 30 Done w level 31 Done w level 32 Done w level 33 Done w level 34 Done w level 35 Done w level 36 Done w level 37 Done w level 38 Done w level 39 Done w level 40 Done w level 41 Done w level 42 Done w level 43 Done w level 44 Done w level 45 Done w level 46 Done w level 47 Done w level 48 Done w level 49 Done w 0\n",
      "\n",
      "Done w level 0 Done w level 1 Done w level 2 Done w level 3 Done w level 4 Done w level 5 Done w level 6 Done w level 7 Done w level 8 Done w level 9 Done w level 10 Done w level 11 Done w level 12 Done w level 13 Done w level 14 Done w level 15 Done w level 16 Done w level 17 Done w level 18 Done w level 19 Done w level 20 Done w level 21 Done w level 22 Done w level 23 Done w level 24 Done w level 25 Done w level 26 Done w level 27 Done w level 28 Done w level 29 Done w level 30 Done w level 31 Done w level 32 Done w level 33 Done w level 34 Done w level 35 Done w level 36 Done w level 37 Done w level 38 Done w level 39 Done w level 40 Done w level 41 Done w level 42 Done w level 43 Done w level 44 Done w level 45 Done w level 46 Done w level 47 Done w level 48 Done w level 49 Done w 100\n",
      "\n"
     ]
    }
   ],
   "source": [
    "for i in range(len(conc)):\n",
    "    try:\n",
    "        stateData = nc.Dataset(loc+conc[i]+\"/data/diagsTendency.nc\")\n",
    "        var = stateData[\"ADVy_SLT\"]\n",
    "    except:\n",
    "        continue\n",
    "    for level in range(nz):\n",
    "        for yDex in range(ny+1):\n",
    "            channelMeanAdvY[level,yDex,i] = var[:,level,yDex,:].mean((0,1)) # t,z,y,x\n",
    "        print(f\"Done w level {level}\", end=\" \")\n",
    "    print(f\"Done w {conc[i]}\", end=\"\\n\\n\")\n",
    "\n",
    "np.save(saveloc+\"channelMeanAdvSltFlxY.npy\",channelMeanAdvY)"
   ]
  },
  {
   "cell_type": "code",
   "execution_count": 22,
   "metadata": {},
   "outputs": [
    {
     "name": "stdout",
     "output_type": "stream",
     "text": [
      "Done w level 0 Done w level 1 Done w level 2 Done w level 3 Done w level 4 Done w level 5 Done w level 6 Done w level 7 Done w level 8 Done w level 9 Done w level 10 Done w level 11 Done w level 12 Done w level 13 Done w level 14 Done w level 15 Done w level 16 Done w level 17 Done w level 18 Done w level 19 Done w level 20 Done w level 21 Done w level 22 Done w level 23 Done w level 24 Done w level 25 Done w level 26 Done w level 27 Done w level 28 Done w level 29 Done w level 30 Done w level 31 Done w level 32 Done w level 33 Done w level 34 Done w level 35 Done w level 36 Done w level 37 Done w level 38 Done w level 39 Done w level 40 Done w level 41 Done w level 42 Done w level 43 Done w level 44 Done w level 45 Done w level 46 Done w level 47 Done w level 48 Done w level 49 Done w 0\n",
      "\n",
      "Done w level 0 Done w level 1 Done w level 2 Done w level 3 Done w level 4 Done w level 5 Done w level 6 Done w level 7 Done w level 8 Done w level 9 Done w level 10 Done w level 11 Done w level 12 Done w level 13 Done w level 14 Done w level 15 Done w level 16 Done w level 17 Done w level 18 Done w level 19 Done w level 20 Done w level 21 Done w level 22 Done w level 23 Done w level 24 Done w level 25 Done w level 26 Done w level 27 Done w level 28 Done w level 29 Done w level 30 Done w level 31 Done w level 32 Done w level 33 Done w level 34 Done w level 35 Done w level 36 Done w level 37 Done w level 38 Done w level 39 Done w level 40 Done w level 41 Done w level 42 Done w level 43 Done w level 44 Done w level 45 Done w level 46 Done w level 47 Done w level 48 Done w level 49 Done w 100\n",
      "\n"
     ]
    }
   ],
   "source": [
    "for i in range(len(conc)):\n",
    "    try:\n",
    "        stateData = nc.Dataset(loc+conc[i]+\"/data/diagsTendency.nc\")\n",
    "        var = stateData[\"ADVr_SLT\"]\n",
    "    except:\n",
    "        continue\n",
    "    for level in range(nz):\n",
    "        for yDex in range(ny):\n",
    "            channelMeanAdvZ[level,yDex,i] = var[:,level,yDex,:].mean((0,1)) # t,z,y,x\n",
    "        print(f\"Done w level {level}\", end=\" \")\n",
    "    print(f\"Done w {conc[i]}\", end=\"\\n\\n\")\n",
    "\n",
    "np.save(saveloc+\"channelMeanAdvSltFlxZ.npy\",channelMeanAdvZ)"
   ]
  },
  {
   "cell_type": "code",
   "execution_count": 23,
   "metadata": {},
   "outputs": [
    {
     "name": "stdout",
     "output_type": "stream",
     "text": [
      "Done w level 0 Done w level 1 Done w level 2 Done w level 3 Done w level 4 Done w level 5 Done w level 6 Done w level 7 Done w level 8 Done w level 9 Done w level 10 Done w level 11 Done w level 12 Done w level 13 Done w level 14 Done w level 15 Done w level 16 Done w level 17 Done w level 18 Done w level 19 Done w level 20 Done w level 21 Done w level 22 Done w level 23 Done w level 24 Done w level 25 Done w level 26 Done w level 27 Done w level 28 Done w level 29 Done w level 30 Done w level 31 Done w level 32 Done w level 33 Done w level 34 Done w level 35 Done w level 36 Done w level 37 Done w level 38 Done w level 39 Done w level 40 Done w level 41 Done w level 42 Done w level 43 Done w level 44 Done w level 45 Done w level 46 Done w level 47 Done w level 48 Done w level 49 Done w 0\n",
      "\n",
      "Done w level 0 Done w level 1 Done w level 2 Done w level 3 Done w level 4 Done w level 5 Done w level 6 Done w level 7 Done w level 8 Done w level 9 Done w level 10 Done w level 11 Done w level 12 Done w level 13 Done w level 14 Done w level 15 Done w level 16 Done w level 17 Done w level 18 Done w level 19 Done w level 20 Done w level 21 Done w level 22 Done w level 23 Done w level 24 Done w level 25 Done w level 26 Done w level 27 Done w level 28 Done w level 29 Done w level 30 Done w level 31 Done w level 32 Done w level 33 Done w level 34 Done w level 35 Done w level 36 Done w level 37 Done w level 38 Done w level 39 Done w level 40 Done w level 41 Done w level 42 Done w level 43 Done w level 44 Done w level 45 Done w level 46 Done w level 47 Done w level 48 Done w level 49 Done w 100\n",
      "\n"
     ]
    }
   ],
   "source": [
    "for i in range(len(conc)):\n",
    "    try:\n",
    "        stateData = nc.Dataset(loc+conc[i]+\"/data/diagsTendency.nc\")\n",
    "        var = stateData[\"TOTSTEND\"]\n",
    "    except:\n",
    "        continue\n",
    "    for level in range(nz):\n",
    "        for yDex in range(ny):\n",
    "            channelMeanSaltTend[level,yDex,i] = var[:,level,yDex,:].mean((0,1)) # t,z,y,x\n",
    "        print(f\"Done w level {level}\", end=\" \")\n",
    "    print(f\"Done w {conc[i]}\", end=\"\\n\\n\")\n",
    "\n",
    "np.save(saveloc+\"channelMeanSaltTendency.npy\",channelMeanSaltTend/86400)"
   ]
  },
  {
   "cell_type": "code",
   "execution_count": null,
   "metadata": {
    "collapsed": true,
    "jupyter": {
     "outputs_hidden": true
    }
   },
   "outputs": [],
   "source": []
  },
  {
   "cell_type": "code",
   "execution_count": null,
   "metadata": {
    "collapsed": true,
    "jupyter": {
     "outputs_hidden": true
    }
   },
   "outputs": [],
   "source": []
  },
  {
   "cell_type": "code",
   "execution_count": null,
   "metadata": {
    "collapsed": true,
    "jupyter": {
     "outputs_hidden": true
    }
   },
   "outputs": [],
   "source": []
  },
  {
   "cell_type": "code",
   "execution_count": null,
   "metadata": {
    "collapsed": true,
    "jupyter": {
     "outputs_hidden": true
    }
   },
   "outputs": [],
   "source": []
  },
  {
   "cell_type": "code",
   "execution_count": null,
   "metadata": {
    "collapsed": true,
    "jupyter": {
     "outputs_hidden": true
    }
   },
   "outputs": [],
   "source": []
  },
  {
   "cell_type": "code",
   "execution_count": null,
   "metadata": {
    "collapsed": true,
    "jupyter": {
     "outputs_hidden": true
    }
   },
   "outputs": [],
   "source": []
  },
  {
   "cell_type": "code",
   "execution_count": null,
   "metadata": {
    "collapsed": true,
    "jupyter": {
     "outputs_hidden": true
    }
   },
   "outputs": [],
   "source": []
  }
 ],
 "metadata": {
  "kernelspec": {
   "display_name": "cartSing",
   "language": "python",
   "name": "cartsing"
  },
  "language_info": {
   "codemirror_mode": {
    "name": "ipython",
    "version": 3
   },
   "file_extension": ".py",
   "mimetype": "text/x-python",
   "name": "python",
   "nbconvert_exporter": "python",
   "pygments_lexer": "ipython3",
   "version": "3.11.4"
  }
 },
 "nbformat": 4,
 "nbformat_minor": 4
}
