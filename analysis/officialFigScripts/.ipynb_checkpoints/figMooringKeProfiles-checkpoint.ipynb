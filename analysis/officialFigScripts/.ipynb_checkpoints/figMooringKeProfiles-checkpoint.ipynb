{
 "cells": [
  {
   "cell_type": "code",
   "execution_count": 2,
   "id": "5a07be0d-3cac-481b-bbbf-caac3c05f905",
   "metadata": {},
   "outputs": [],
   "source": [
    "import matplotlib as mpl\n",
    "import matplotlib.pyplot as plt\n",
    "from matplotlib.lines import Line2D\n",
    "import numpy as np\n",
    "import netCDF4 as nc\n",
    "%matplotlib inline\n",
    "plt.rcParams['text.usetex'] = False\n",
    "plt.rcParams['mathtext.fontset'] = 'dejavuserif'\n",
    "plt.rcParams['font.family'] = 'Dejavu Serif'"
   ]
  },
  {
   "cell_type": "code",
   "execution_count": 3,
   "id": "7959f9cb-be54-44a4-9d4e-acb40c88d587",
   "metadata": {},
   "outputs": [],
   "source": [
    "# constants\n",
    "xIndices = [250,350]\n",
    "yIndices = [250,350]\n",
    "\n",
    "# io params\n",
    "loc = \"/scratch/hcm7920/\"\n",
    "saveloc = \"/home/hcm7920/experiments/arcticMiddepthBI/plots/officialFigs/\"\n",
    "conc = [\"0\", \"20\", \"40\", \"60\", \"80\", \"100\"]"
   ]
  },
  {
   "cell_type": "code",
   "execution_count": null,
   "id": "91cb1b8a-5d13-4117-b4eb-d47eaf3a96b5",
   "metadata": {},
   "outputs": [],
   "source": [
    "# load data\n",
    "uVel = np.zeros(shape=(6,148,50,len(yIndices),len(xIndices)))\n",
    "vVel = np.zeros(shape=(6,148,50,len(yIndices),len(xIndices)))\n",
    "for ic in range(6):\n",
    "  stateData = nc.Dataset(loc+f\"amb{conc[ic]}/data/state.nc\")\n",
    "  uVel[ic,:,:,:,:] = stateData['U'][:,:,yIndices,xIndices]\n",
    "  vVel[ic,:,:,:,:] = stateData['V'][:,:,yIndices,xIndices]\n",
    "levs = stateData['Z'][:]\n"
   ]
  },
  {
   "cell_type": "code",
   "execution_count": null,
   "id": "a2949b9e-ff69-48ff-8994-71ad390f9b22",
   "metadata": {},
   "outputs": [],
   "source": [
    "# calculate time mean KE\n",
    "timeMeanKE = uVel.mean((1,))**2 + vVel.mean((1,))**2\n",
    "\n",
    "# calculate eddy KE (not yet averaged in time)\n",
    "eddyKE = (uVel-uVel.mean((1,))[:,None,:,:,:])**2\n",
    "eddyKE +=(vVel-vVel.mean((1,))[:,None,:,:,:])**2"
   ]
  },
  {
   "cell_type": "code",
   "execution_count": null,
   "id": "5b043528-4f57-4f23-b8bd-ddd5b296ad0d",
   "metadata": {},
   "outputs": [],
   "source": [
    "# average in time and calculate standard deviation\n",
    "timeMeanEddyKE = eddyKE.mean((1,))\n",
    "eddyKeStdDev = np.std(eddyKE,axis=1,ddof=1)"
   ]
  },
  {
   "cell_type": "code",
   "execution_count": null,
   "id": "a275bbde-63e0-471b-a199-ff18a98e35c7",
   "metadata": {},
   "outputs": [],
   "source": [
    "# add and subtract the standard dev\n",
    "plusStddevEddyKE = timeMeanEddyKE + eddyKeStdDev\n",
    "minusStddevEddyKE = timeMeanEddyKE - eddyKeStdDev"
   ]
  },
  {
   "cell_type": "code",
   "execution_count": null,
   "id": "7e2b733c-e534-42f3-933b-c9e07c0edead",
   "metadata": {},
   "outputs": [],
   "source": [
    "# plot a profile\n",
    "iceIndex = 0\n",
    "pairIndex = 0\n",
    "deepIndex = 40\n",
    "plt.plot(timeMeanEddyKE[iceIndex,:deepIndex,pairIndex,pairIndex],levs[:deepIndex])\n",
    "plt.plot(plusStddevEddyKE[iceIndex,:deepIndex,pairIndex,pairIndex],levs[:deepIndex])\n",
    "plt.plot(minusStddevEddyKE[iceIndex,:deepIndex,pairIndex,pairIndex],levs[:deepIndex])"
   ]
  },
  {
   "cell_type": "code",
   "execution_count": null,
   "id": "27251e81-3438-4a5f-a6bd-c85dfdfcb233",
   "metadata": {},
   "outputs": [],
   "source": [
    "# looks like i need to be more technical :/\n",
    "# maybe as simple as: assume log-normal --> calculate std dev of logged values\n",
    "\n",
    "# average in time, log the values, and calculate standard deviation\n",
    "timeMeanEddyKELog = np.log(eddyKE).mean((1,))\n",
    "eddyKeStdDevLog = np.std(np.log(eddyKE),axis=1,ddof=1)\n",
    "\n",
    "# add and subtract the standard dev\n",
    "plusStddevEddyKELog = timeMeanEddyKELog + eddyKeStdDevLog\n",
    "minusStddevEddyKELog = timeMeanEddyKELog - eddyKeStdDevLog\n",
    "\n",
    "# undo the log\n",
    "plusStddevEddyKE = np.e**plusStddevEddyKELog\n",
    "minusStddevEddyKE = np.e**minusStddevEddyKELog\n",
    "timeMeanEddyKE = np.e**timeMeanEddyKELog"
   ]
  },
  {
   "cell_type": "code",
   "execution_count": null,
   "id": "a22442a8-6cd5-4425-ae72-70af61e2dc27",
   "metadata": {},
   "outputs": [],
   "source": [
    "# plot a profile\n",
    "iceIndex = 0\n",
    "pairIndex = 0\n",
    "deepIndex = 40\n",
    "plt.plot(timeMeanEddyKE[iceIndex,:deepIndex,pairIndex,pairIndex],levs[:deepIndex])\n",
    "plt.plot(plusStddevEddyKE[iceIndex,:deepIndex,pairIndex,pairIndex],levs[:deepIndex])\n",
    "plt.plot(minusStddevEddyKE[iceIndex,:deepIndex,pairIndex,pairIndex],levs[:deepIndex])"
   ]
  }
 ],
 "metadata": {
  "kernelspec": {
   "display_name": "cartSing",
   "language": "python",
   "name": "cartsing"
  },
  "language_info": {
   "codemirror_mode": {
    "name": "ipython",
    "version": 3
   },
   "file_extension": ".py",
   "mimetype": "text/x-python",
   "name": "python",
   "nbconvert_exporter": "python",
   "pygments_lexer": "ipython3",
   "version": "3.11.4"
  }
 },
 "nbformat": 4,
 "nbformat_minor": 5
}
