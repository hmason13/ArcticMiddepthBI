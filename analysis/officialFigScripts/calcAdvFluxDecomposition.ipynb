{
 "cells": [
  {
   "cell_type": "code",
   "execution_count": 1,
   "id": "c6ea8823-1d11-4c96-89fa-c8cd096b3422",
   "metadata": {},
   "outputs": [],
   "source": [
    "import matplotlib as mpl\n",
    "import matplotlib.pyplot as plt\n",
    "import cmasher\n",
    "from matplotlib.lines import Line2D\n",
    "import numpy as np\n",
    "import netCDF4 as nc\n",
    "%matplotlib inline\n",
    "plt.rcParams['text.usetex'] = False\n",
    "plt.rcParams['mathtext.fontset'] = 'dejavuserif'\n",
    "plt.rcParams['font.family'] = 'Dejavu Serif'\n",
    "plt.rcParams['font.size'] = 14"
   ]
  },
  {
   "cell_type": "code",
   "execution_count": 2,
   "id": "87a23f77-83e3-4b57-b99e-374e8f412823",
   "metadata": {},
   "outputs": [],
   "source": [
    "# i/o params\n",
    "loc = \"/scratch/hcm7920/ambData/channelMean/\"\n",
    "loc2= \"/scratch/hcm7920/amb0/data/\"\n",
    "loc3 = \"/home/hcm7920/experiments/arcticMiddepthBI/plots/officialFigs/\"\n",
    "conc = [0,20,40,60,80,100]\n",
    "\n",
    "# grid params\n",
    "nx = 500\n",
    "ny = 500\n",
    "nz = 50\n",
    "dy = 2000\n",
    "dx = 2000\n",
    "\n",
    "# phys params\n",
    "g = 9.81\n",
    "rhoConst = 1000\n",
    "cellArea = (2e3)**2\n",
    "sFac = 7.4e-4 * rhoConst * -g / rhoConst # for clarity"
   ]
  },
  {
   "cell_type": "code",
   "execution_count": 3,
   "id": "40dfdb8f-9662-4120-9b72-531e6ba8fa0a",
   "metadata": {},
   "outputs": [],
   "source": [
    "# load\n",
    "rhoSteady = np.load(loc+\"channelMeanRho.npy\")\n",
    "n2Steady  = np.load(loc+\"channelMeanN2.npy\")\n",
    "saltSteady= np.load(loc+\"channelMeanSalt.npy\")\n",
    "uSteady   = np.load(loc+\"channelMeanU.npy\")\n",
    "vSteady   = np.load(loc+\"channelMeanV.npy\")\n",
    "wSteady   = np.load(loc+\"channelMeanW.npy\")\n",
    "\n",
    "vsBar     = np.load(loc+\"channelMeanVSbar.npy\")\n",
    "wsBar     = np.load(loc+\"channelMeanWSbar.npy\")\n",
    "vrBar     = np.load(loc+\"channelMeanVRbar.npy\")\n",
    "wrBar     = np.load(loc+\"channelMeanWRbar.npy\")\n",
    "\n",
    "wsBarFlx = np.load(loc+\"channelMeanAdvSltFlxZ.npy\")\n",
    "vsBarFlx = np.load(loc+\"channelMeanAdvSltFlxY.npy\")\n",
    "\n",
    "saltForcing = np.load(loc+\"channelMeanSaltForcing.npy\")\n",
    "UmomForcing = np.load(loc+\"channelMeanUmomForcing.npy\")\n",
    "VmomForcing = np.load(loc+\"channelMeanVmomForcing.npy\")\n",
    "saltTend    = np.load(loc+\"channelMeanSaltTendency.npy\")\n",
    "\n",
    "diffSalt = np.load(loc+\"channelMeanDiffSaltIbar.npy\")\n",
    "diffSalt /= cellArea\n",
    "\n",
    "ghatSalt = np.load(loc+\"channelMeanNonLocal.npy\")\n",
    "ghatSalt /= cellArea\n",
    "\n",
    "levs = nc.Dataset(loc2+\"grid.nc\")[\"Z\"][:]\n",
    "levFaces = nc.Dataset(loc2+\"grid.nc\")[\"Zp1\"][:]\n",
    "deltaFaces = nc.Dataset(loc2+\"grid.nc\")[\"drF\"][:]\n",
    "deltaCentr = nc.Dataset(loc2+\"grid.nc\")[\"drC\"][:]"
   ]
  },
  {
   "cell_type": "code",
   "execution_count": 4,
   "id": "dd453182-2d57-466e-9421-edaced0ef1e6",
   "metadata": {},
   "outputs": [],
   "source": [
    "# interpolate wsBarFlx to cell centers\n",
    "wsBarFlx = np.pad(wsBarFlx,((0,1),(0,0),(0,0)),mode='constant',constant_values=0)\n",
    "wsBarFlx = (wsBarFlx[:-1,:,:]+wsBarFlx[1:,:,:])/2"
   ]
  },
  {
   "cell_type": "code",
   "execution_count": 5,
   "id": "e1f52c39-4012-4864-8fe7-1e93eaf7e421",
   "metadata": {},
   "outputs": [],
   "source": [
    "# interpolate vsBarFlx to cell centers\n",
    "vsBarFlx = (vsBarFlx[:,1:,:]+vsBarFlx[:,:-1,:])/2\n",
    "\n",
    "# interpolate vSteady to cell centers\n",
    "vSteady = (vSteady[:,1:,:]+vSteady[:,:-1,:])/2"
   ]
  },
  {
   "cell_type": "code",
   "execution_count": null,
   "id": "2015c2bc-6aa6-4ade-b6c8-c37cc353a68f",
   "metadata": {},
   "outputs": [],
   "source": []
  },
  {
   "cell_type": "code",
   "execution_count": 6,
   "id": "a075858f-0a37-4c12-8ca5-bc1a85ddd82f",
   "metadata": {},
   "outputs": [],
   "source": [
    "# calculate correlation terms\n",
    "wsPrimeBar = wsBarFlx/cellArea - (wSteady*saltSteady)\n",
    "vsPrimeBar = vsBarFlx/(dx*deltaFaces[:,None,None]) - (vSteady*saltSteady)\n"
   ]
  },
  {
   "cell_type": "code",
   "execution_count": 7,
   "id": "e432d1dd-6d2a-48bb-a14f-a563095ebd19",
   "metadata": {},
   "outputs": [],
   "source": [
    "# calculate grad s, grid doesn't change here\n",
    "sDz = np.gradient(saltSteady,levs.data,axis=(0,),edge_order=2)\n",
    "sDy = np.gradient(saltSteady,dy,axis=(1,),edge_order=2)"
   ]
  },
  {
   "cell_type": "code",
   "execution_count": 8,
   "id": "b34d2907-901d-4e6e-b319-6abda258354c",
   "metadata": {},
   "outputs": [],
   "source": [
    "# project v's' onto grad b\n",
    "diabaticFlux = (vsPrimeBar*sDy) + (wsPrimeBar*sDz)\n",
    "normGradS = (sDy**2 + sDz**2)**(1/2)\n",
    "diabaticFlux = diabaticFlux / normGradS\n",
    "diabaticFluxY = diabaticFlux * sDy / normGradS\n",
    "diabaticFluxZ = diabaticFlux * sDz / normGradS\n",
    "\n",
    "# remove diabaticFlux from total and recast all as vectors\n",
    "adiaFlux = np.array((vsPrimeBar-diabaticFluxY,\n",
    "                     wsPrimeBar-diabaticFluxZ))\n",
    "diabaticFlux = np.array((diabaticFluxY,diabaticFluxZ))"
   ]
  },
  {
   "cell_type": "code",
   "execution_count": 9,
   "id": "fa413ec7-4f09-4b39-a56e-c46516790635",
   "metadata": {},
   "outputs": [],
   "source": [
    "# save arrays for use elsewhere\n",
    "np.save(loc+\"channelMeanAdiaAdvFlux.npy\",adiaFlux)\n",
    "np.save(loc+\"channelMeanDiabaticAdvFlux.npy\",diabaticFlux)\n"
   ]
  },
  {
   "cell_type": "code",
   "execution_count": 10,
   "id": "f487b9bb-34c2-4072-8d19-451aafc8b290",
   "metadata": {},
   "outputs": [
    {
     "data": {
      "text/plain": [
       "1.0399976405506706e-19"
      ]
     },
     "execution_count": 10,
     "metadata": {},
     "output_type": "execute_result"
    }
   ],
   "source": [
    "# simple test to see max error\n",
    "test1 = adiaFlux+diabaticFlux\n",
    "test2 = np.abs(np.array((vsPrimeBar,wsPrimeBar))-test1)\n",
    "test2.max()"
   ]
  },
  {
   "cell_type": "code",
   "execution_count": 11,
   "id": "054e5c3a-7197-45ac-83eb-cb72f95a9f5c",
   "metadata": {},
   "outputs": [
    {
     "data": {
      "text/plain": [
       "<matplotlib.image.AxesImage at 0x1541b6be17d0>"
      ]
     },
     "execution_count": 11,
     "metadata": {},
     "output_type": "execute_result"
    },
    {
     "data": {
      "image/png": "[encoded data removed]",
      "text/plain": [
       "<Figure size 640x480 with 1 Axes>"
      ]
     },
     "metadata": {},
     "output_type": "display_data"
    }
   ],
   "source": [
    "plt.imshow(vsBarFlx[:,::,3])"
   ]
  },
  {
   "cell_type": "code",
   "execution_count": null,
   "id": "5f00b70f-b340-4045-8f8d-82161a051c44",
   "metadata": {},
   "outputs": [],
   "source": []
  }
 ],
 "metadata": {
  "kernelspec": {
   "display_name": "cartSing",
   "language": "python",
   "name": "cartsing"
  },
  "language_info": {
   "codemirror_mode": {
    "name": "ipython",
    "version": 3
   },
   "file_extension": ".py",
   "mimetype": "text/x-python",
   "name": "python",
   "nbconvert_exporter": "python",
   "pygments_lexer": "ipython3",
   "version": "3.11.4"
  }
 },
 "nbformat": 4,
 "nbformat_minor": 5
}
