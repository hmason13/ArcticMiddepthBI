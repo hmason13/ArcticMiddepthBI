{
 "cells": [
  {
   "cell_type": "code",
   "execution_count": 2,
   "metadata": {},
   "outputs": [],
   "source": [
    "import numpy as np\n",
    "import matplotlib.pyplot as plt\n",
    "import netCDF4 as nc"
   ]
  },
  {
   "cell_type": "code",
   "execution_count": 4,
   "metadata": {},
   "outputs": [],
   "source": [
    "# params\n",
    "secondsPerDay = 86400\n",
    "nx = 250\n",
    "ny = 300\n",
    "nz = 50\n",
    "nt = 3600\n",
    "\n",
    "# io params\n",
    "conc = [\"0\", \"40\", \"80\", \"100\"]\n",
    "loc = \"/scratch/hcm7920/arcticMiddepthBI-\"\n",
    "tsSkip = 1\n",
    "\n"
   ]
  },
  {
   "cell_type": "code",
   "execution_count": 21,
   "metadata": {},
   "outputs": [],
   "source": [
    "wsChannelMean = np.zeros(shape=(nx-50,nz,len(conc)))"
   ]
  },
  {
   "cell_type": "code",
   "execution_count": 22,
   "metadata": {},
   "outputs": [
    {
     "name": "stdout",
     "output_type": "stream",
     "text": [
      "Done w level 0 Done w level 1 Done w level 2 Done w level 3 Done w level 4 Done w level 5 Done w level 6 Done w level 7 Done w level 8 Done w level 9 Done w level 10 Done w level 11 Done w level 12 Done w level 13 Done w level 14 Done w level 15 Done w level 16 Done w level 17 Done w level 18 Done w level 19 Done w level 20 Done w level 21 Done w level 22 Done w level 23 Done w level 24 Done w level 25 Done w level 26 Done w level 27 Done w level 28 Done w level 29 Done w level 30 Done w level 31 Done w level 32 Done w level 33 Done w level 34 Done w level 35 Done w level 36 Done w level 37 Done w level 38 Done w level 39 Done w level 40 Done w level 41 Done w level 42 Done w level 43 Done w level 44 Done w level 45 Done w level 46 Done w level 47 Done w level 48 Done w level 49 Done w 0\n",
      "\n",
      "Done w level 0 Done w level 1 Done w level 2 Done w level 3 Done w level 4 Done w level 5 Done w level 6 Done w level 7 Done w level 8 Done w level 9 Done w level 10 Done w level 11 Done w level 12 Done w level 13 Done w level 14 Done w level 15 Done w level 16 Done w level 17 Done w level 18 Done w level 19 Done w level 20 Done w level 21 Done w level 22 Done w level 23 Done w level 24 Done w level 25 Done w level 26 Done w level 27 Done w level 28 Done w level 29 Done w level 30 Done w level 31 Done w level 32 Done w level 33 Done w level 34 Done w level 35 Done w level 36 Done w level 37 Done w level 38 Done w level 39 Done w level 40 Done w level 41 Done w level 42 Done w level 43 Done w level 44 Done w level 45 Done w level 46 Done w level 47 Done w level 48 Done w level 49 Done w 40\n",
      "\n",
      "Done w level 0 Done w level 1 Done w level 2 Done w level 3 Done w level 4 Done w level 5 Done w level 6 Done w level 7 Done w level 8 Done w level 9 Done w level 10 Done w level 11 Done w level 12 Done w level 13 Done w level 14 Done w level 15 Done w level 16 Done w level 17 Done w level 18 Done w level 19 Done w level 20 Done w level 21 Done w level 22 Done w level 23 Done w level 24 Done w level 25 Done w level 26 Done w level 27 Done w level 28 Done w level 29 Done w level 30 Done w level 31 Done w level 32 Done w level 33 Done w level 34 Done w level 35 Done w level 36 Done w level 37 Done w level 38 Done w level 39 Done w level 40 Done w level 41 Done w level 42 Done w level 43 Done w level 44 Done w level 45 Done w level 46 Done w level 47 Done w level 48 Done w level 49 Done w 80\n",
      "\n",
      "Done w level 0 Done w level 1 Done w level 2 Done w level 3 Done w level 4 Done w level 5 Done w level 6 Done w level 7 Done w level 8 Done w level 9 Done w level 10 Done w level 11 Done w level 12 Done w level 13 Done w level 14 Done w level 15 Done w level 16 Done w level 17 Done w level 18 Done w level 19 Done w level 20 Done w level 21 Done w level 22 Done w level 23 Done w level 24 Done w level 25 Done w level 26 Done w level 27 Done w level 28 Done w level 29 Done w level 30 Done w level 31 Done w level 32 Done w level 33 Done w level 34 Done w level 35 Done w level 36 Done w level 37 Done w level 38 Done w level 39 Done w level 40 Done w level 41 Done w level 42 Done w level 43 Done w level 44 Done w level 45 Done w level 46 Done w level 47 Done w level 48 Done w level 49 Done w 100\n",
      "\n"
     ]
    }
   ],
   "source": [
    "# load and time average transport diagnostics\n",
    "\n",
    "for i in range(len(conc)):\n",
    "    \n",
    "    data = nc.Dataset(loc+conc[i]+\"/data/tave.nc\")\n",
    "    ws = data[\"WStave\"]\n",
    "    \n",
    "    for level in range(nz):\n",
    "        for yDex in range(ny):\n",
    "            wsChannelMean[:,level,i] += ws[-100:,level,yDex,25:-25].mean((0,))\n",
    "        print(f\"Done w level {level}\", end=\" \")\n",
    "        \n",
    "    wsChannelMean /= ny\n",
    "    print(f\"Done w {conc[i]}\", end=\"\\n\\n\")"
   ]
  },
  {
   "cell_type": "code",
   "execution_count": null,
   "metadata": {},
   "outputs": [],
   "source": []
  },
  {
   "cell_type": "code",
   "execution_count": 23,
   "metadata": {},
   "outputs": [],
   "source": [
    "np.save(\"/scratch/hcm7920/ambData/channelMeanWSBarSpinup.npy\",wsChannelMean)\n",
    "del wsChannelMean"
   ]
  },
  {
   "cell_type": "code",
   "execution_count": 24,
   "metadata": {},
   "outputs": [
    {
     "name": "stdout",
     "output_type": "stream",
     "text": [
      "Done w level 0 Done w level 1 Done w level 2 Done w level 3 Done w level 4 Done w level 5 Done w level 6 Done w level 7 Done w level 8 Done w level 9 Done w level 10 Done w level 11 Done w level 12 Done w level 13 Done w level 14 Done w level 15 Done w level 16 Done w level 17 Done w level 18 Done w level 19 Done w level 20 Done w level 21 Done w level 22 Done w level 23 Done w level 24 Done w level 25 Done w level 26 Done w level 27 Done w level 28 Done w level 29 Done w level 30 Done w level 31 Done w level 32 Done w level 33 Done w level 34 Done w level 35 Done w level 36 Done w level 37 Done w level 38 Done w level 39 Done w level 40 Done w level 41 Done w level 42 Done w level 43 Done w level 44 Done w level 45 Done w level 46 Done w level 47 Done w level 48 Done w level 49 Done w 0\n",
      "\n",
      "Done w level 0 Done w level 1 Done w level 2 Done w level 3 Done w level 4 Done w level 5 Done w level 6 Done w level 7 Done w level 8 Done w level 9 Done w level 10 Done w level 11 Done w level 12 Done w level 13 Done w level 14 Done w level 15 Done w level 16 Done w level 17 Done w level 18 Done w level 19 Done w level 20 Done w level 21 Done w level 22 Done w level 23 Done w level 24 Done w level 25 Done w level 26 Done w level 27 Done w level 28 Done w level 29 Done w level 30 Done w level 31 Done w level 32 Done w level 33 Done w level 34 Done w level 35 Done w level 36 Done w level 37 Done w level 38 Done w level 39 Done w level 40 Done w level 41 Done w level 42 Done w level 43 Done w level 44 Done w level 45 Done w level 46 Done w level 47 Done w level 48 Done w level 49 Done w 40\n",
      "\n",
      "Done w level 0 Done w level 1 Done w level 2 Done w level 3 Done w level 4 Done w level 5 Done w level 6 Done w level 7 Done w level 8 Done w level 9 Done w level 10 Done w level 11 Done w level 12 Done w level 13 Done w level 14 Done w level 15 Done w level 16 Done w level 17 Done w level 18 Done w level 19 Done w level 20 Done w level 21 Done w level 22 Done w level 23 Done w level 24 Done w level 25 Done w level 26 Done w level 27 Done w level 28 Done w level 29 Done w level 30 Done w level 31 Done w level 32 Done w level 33 Done w level 34 Done w level 35 Done w level 36 Done w level 37 Done w level 38 Done w level 39 Done w level 40 Done w level 41 Done w level 42 Done w level 43 Done w level 44 Done w level 45 Done w level 46 Done w level 47 Done w level 48 Done w level 49 Done w 80\n",
      "\n",
      "Done w level 0 Done w level 1 Done w level 2 Done w level 3 Done w level 4 Done w level 5 Done w level 6 Done w level 7 Done w level 8 Done w level 9 Done w level 10 Done w level 11 Done w level 12 Done w level 13 Done w level 14 Done w level 15 Done w level 16 Done w level 17 Done w level 18 Done w level 19 Done w level 20 Done w level 21 Done w level 22 Done w level 23 Done w level 24 Done w level 25 Done w level 26 Done w level 27 Done w level 28 Done w level 29 Done w level 30 Done w level 31 Done w level 32 Done w level 33 Done w level 34 Done w level 35 Done w level 36 Done w level 37 Done w level 38 Done w level 39 Done w level 40 Done w level 41 Done w level 42 Done w level 43 Done w level 44 Done w level 45 Done w level 46 Done w level 47 Done w level 48 Done w level 49 Done w 100\n",
      "\n"
     ]
    }
   ],
   "source": [
    "usChannelMean = np.zeros(shape=(nx-50,nz,len(conc)))\n",
    "for i in range(len(conc)):\n",
    "    \n",
    "    data = nc.Dataset(loc+conc[i]+\"/data/tave.nc\")\n",
    "    us = data[\"UStave\"]\n",
    "    \n",
    "    for level in range(nz):\n",
    "        for yDex in range(ny):\n",
    "            usChannelMean[:,level,i] += us[-100:,level,yDex,25:-26].mean((0,))\n",
    "        print(f\"Done w level {level}\", end=\" \")\n",
    "        \n",
    "    usChannelMean /= ny\n",
    "    print(f\"Done w {conc[i]}\", end=\"\\n\\n\")"
   ]
  },
  {
   "cell_type": "code",
   "execution_count": 25,
   "metadata": {},
   "outputs": [],
   "source": [
    "np.save(\"/scratch/hcm7920/ambData/channelMeanUSBarSpinup.npy\",usChannelMean)\n",
    "del usChannelMean"
   ]
  },
  {
   "cell_type": "code",
   "execution_count": 6,
   "metadata": {},
   "outputs": [],
   "source": [
    "uCM = np.load(\"/scratch/hcm7920/ambData/channelMeanUSpinup.npy\")\n",
    "wCM = np.load(\"/scratch/hcm7920/ambData/channelMeanWSpinup.npy\")\n",
    "sCM = np.load(\"/scratch/hcm7920/ambData/channelMeanSaltSpinup.npy\")\n"
   ]
  },
  {
   "cell_type": "code",
   "execution_count": 9,
   "metadata": {},
   "outputs": [
    {
     "data": {
      "text/plain": [
       "(200, 50, 2, 4)"
      ]
     },
     "execution_count": 9,
     "metadata": {},
     "output_type": "execute_result"
    }
   ],
   "source": [
    "sCM.shape"
   ]
  },
  {
   "cell_type": "code",
   "execution_count": 10,
   "metadata": {},
   "outputs": [
    {
     "data": {
      "text/plain": [
       "(200, 50, 2, 4)"
      ]
     },
     "execution_count": 10,
     "metadata": {},
     "output_type": "execute_result"
    }
   ],
   "source": [
    "wCM.shape"
   ]
  },
  {
   "cell_type": "code",
   "execution_count": 11,
   "metadata": {},
   "outputs": [
    {
     "ename": "NameError",
     "evalue": "name 'wsChannelMean' is not defined",
     "output_type": "error",
     "traceback": [
      "\u001b[0;31m---------------------------------------------------------------------------\u001b[0m",
      "\u001b[0;31mNameError\u001b[0m                                 Traceback (most recent call last)",
      "Cell \u001b[0;32mIn[11], line 1\u001b[0m\n\u001b[0;32m----> 1\u001b[0m wsChannelMean\u001b[38;5;241m.\u001b[39mshape\n",
      "\u001b[0;31mNameError\u001b[0m: name 'wsChannelMean' is not defined"
     ]
    }
   ],
   "source": [
    "wsChannelMean.shape"
   ]
  },
  {
   "cell_type": "code",
   "execution_count": null,
   "metadata": {},
   "outputs": [],
   "source": []
  }
 ],
 "metadata": {
  "kernelspec": {
   "display_name": "cartSing",
   "language": "python",
   "name": "cartsing"
  },
  "language_info": {
   "codemirror_mode": {
    "name": "ipython",
    "version": 3
   },
   "file_extension": ".py",
   "mimetype": "text/x-python",
   "name": "python",
   "nbconvert_exporter": "python",
   "pygments_lexer": "ipython3",
   "version": "3.11.4"
  }
 },
 "nbformat": 4,
 "nbformat_minor": 4
}
