{
 "cells": [
  {
   "cell_type": "code",
   "execution_count": 1,
   "metadata": {},
   "outputs": [],
   "source": [
    "import numpy as np\n",
    "import matplotlib.pyplot as plt\n",
    "import netCDF4 as nc\n",
    "import scipy.interpolate as terp\n",
    "import scipy.integrate as teg\n",
    "import scipy"
   ]
  },
  {
   "cell_type": "code",
   "execution_count": 2,
   "metadata": {},
   "outputs": [],
   "source": [
    "# grid constants\n",
    "nx = 500\n",
    "ny = 500\n",
    "nz = 50\n",
    "dx = 2000 # cell size in meters\n",
    "dy = 2000\n",
    "\n",
    "# physical constants\n",
    "rhoConst = 1029 # ref density\n",
    "tAlpha   = 0\n",
    "sBeta    = 7.4e-4\n",
    "g        = 9.81\n",
    "s0       = 33\n",
    "f0       = 1.4e-4\n",
    "pdelta   = 4.4e-10\n",
    "hDegLat  = 111000./2  # 0.5 deg lat in meters\n",
    "hDegLon  = hDegLat * np.cos(2*np.pi*78/360)"
   ]
  },
  {
   "cell_type": "markdown",
   "metadata": {},
   "source": [
    "## ECCO processing\n",
    "\n",
    "This section is to load the ECCO data and perform the necessary\n",
    "averaging."
   ]
  },
  {
   "cell_type": "code",
   "execution_count": 3,
   "metadata": {},
   "outputs": [],
   "source": [
    "# ecco data index constants\n",
    "dVI   = -8   # chop the deepest 8 cells\n",
    "myLat = 335 # index of southernmost latitude\n",
    "myLon = 58  # index of westernmost longitude\n",
    "monthList = list(range(1,13)) # months included in average\n",
    "\n",
    "# index range\n",
    "latRange = 8\n",
    "lonRange = 33"
   ]
  },
  {
   "cell_type": "code",
   "execution_count": 4,
   "metadata": {},
   "outputs": [],
   "source": [
    "# file i/o constants\n",
    "locLoad = \"/home/hcm7920/experiments/\" # path to experiment directory\n",
    "fname1  = \"arcticMiddepthBI/data/eccoData/OCEAN_DENS_STRAT_PRESS_mon_mean_2017-\"\n",
    "fname2  = \"_ECCO_V4r4_latlon_0p50deg.nc\""
   ]
  },
  {
   "cell_type": "code",
   "execution_count": 5,
   "metadata": {},
   "outputs": [],
   "source": [
    "# load data for selected months\n",
    "lats  = nc.Dataset(locLoad+fname1+f\"01\"+fname2)[\"latitude\"][myLat:myLat+latRange]\n",
    "lons  = nc.Dataset(locLoad+fname1+f\"01\"+fname2)[\"longitude\"][myLon:myLon+lonRange]\n",
    "depth = nc.Dataset(locLoad+fname1+f\"01\"+fname2)[\"Z\"][:dVI]\n",
    "numLevels, = depth.shape\n",
    "\n",
    "dataArray1 = np.ma.zeros(shape=(len(monthList),numLevels,latRange,lonRange))\n",
    "dataArray2 = np.ma.zeros(shape=(len(monthList),numLevels,latRange,lonRange))\n",
    "for month in range(len(monthList)):\n",
    "    dataArray1[month,:,:,:] = nc.Dataset(locLoad+fname1+f\"{month+1:02}\"+fname2\n",
    "                                     )[\"RHOAnoma\"][0,:dVI,myLat:myLat+latRange,myLon:myLon+lonRange]\n",
    "    dataArray2[month,:,:,:] = nc.Dataset(locLoad+fname1+f\"{month+1:02}\"+fname2\n",
    "                                     )[\"DRHODR\"][0,:dVI,myLat:myLat+latRange,myLon:myLon+lonRange]\n",
    "\n",
    "dataArray1.fill_value=np.nan\n",
    "dataArray2.fill_value=np.nan"
   ]
  },
  {
   "cell_type": "code",
   "execution_count": 6,
   "metadata": {},
   "outputs": [],
   "source": [
    "# time average\n",
    "dataDensities = dataArray1.mean(0)\n",
    "dataNSquares = dataArray2.mean(0) * g / rhoConst"
   ]
  },
  {
   "cell_type": "code",
   "execution_count": 7,
   "metadata": {},
   "outputs": [
    {
     "name": "stdout",
     "output_type": "stream",
     "text": [
      "Longitude ranges from -150.75 to -134.75\n",
      "Latitude ranges from 77.75 to 81.25\n"
     ]
    }
   ],
   "source": [
    "# print lat and lon ranges\n",
    "print(f\"Longitude ranges from {lons[0]} to {lons[-1]}\")\n",
    "print(f\"Latitude ranges from {lats[0]} to {lats[-1]}\")"
   ]
  },
  {
   "cell_type": "code",
   "execution_count": 8,
   "metadata": {},
   "outputs": [
    {
     "name": "stdout",
     "output_type": "stream",
     "text": [
      "(42, 8, 33)\n",
      "(42, 8, 33)\n"
     ]
    }
   ],
   "source": [
    "# an empty cell for testing\n",
    "print(dataDensities.shape)\n",
    "print(dataNSquares.shape)"
   ]
  },
  {
   "cell_type": "code",
   "execution_count": 9,
   "metadata": {},
   "outputs": [],
   "source": [
    "# generate hydrostatic pressure field\n",
    "pressure = np.zeros((nz+dVI,latRange,lonRange))\n",
    "for i in range(50+dVI):\n",
    "  pressure[i,:,:] = g * (rhoConst) * -depth[i]"
   ]
  },
  {
   "cell_type": "code",
   "execution_count": 10,
   "metadata": {},
   "outputs": [],
   "source": [
    "# convert base density profile to potential density\n",
    "dataDensities = rhoConst + dataDensities - rhoConst * pressure * pdelta"
   ]
  },
  {
   "cell_type": "code",
   "execution_count": 11,
   "metadata": {},
   "outputs": [],
   "source": [
    "# calculate horizontal density gradients\n",
    "meridGradDensities = (dataDensities[:,1:,:] - dataDensities[:,:-1,:]) / hDegLat\n",
    "zonalGradDensities = (dataDensities[:,:,1:] - dataDensities[:,:,:-1]) / hDegLon"
   ]
  },
  {
   "cell_type": "code",
   "execution_count": 12,
   "metadata": {},
   "outputs": [],
   "source": [
    "# space averages\n",
    "dataNSquare      = dataNSquares.mean((1,2))\n",
    "dataDensity      = dataDensities.mean((1,2))\n",
    "meridGradDensity = meridGradDensities.mean((1,2))\n",
    "zonalGradDensity = zonalGradDensities.mean((1,2))\n"
   ]
  },
  {
   "cell_type": "code",
   "execution_count": 15,
   "metadata": {},
   "outputs": [],
   "source": [
    "# save profiles in figData\n",
    "loc4 = \"/home/hcm7920/experiments/arcticMiddepthBI/analysis/figData/\"\n",
    "alignGradDensity = np.sqrt(meridGradDensity**2+zonalGradDensity**2)\n",
    "\n",
    "np.save(loc4+\"dataDepth\",depth.filled())\n",
    "np.save(loc4+\"dataNsquare\",dataNSquare.filled())\n",
    "np.save(loc4+\"dataDensity\",dataDensity.filled())\n",
    "np.save(loc4+\"dataMeridGradDensity\",meridGradDensity.filled())\n",
    "np.save(loc4+\"dataZonalGradDensity\",zonalGradDensity.filled())\n",
    "np.save(loc4+\"dataAlignGradDensity\",alignGradDensity.filled())"
   ]
  },
  {
   "cell_type": "code",
   "execution_count": null,
   "metadata": {},
   "outputs": [],
   "source": [
    "# prophylaxis\n",
    "dataDensity.fill_value = 0\n",
    "dataNSquare.fill_value = 0\n",
    "meridGradDensity.fill_value = 0\n",
    "zonalGradDensity.fill_value = 0"
   ]
  },
  {
   "cell_type": "code",
   "execution_count": null,
   "metadata": {},
   "outputs": [],
   "source": [
    "# plot the resulting profiles\n",
    "fig,axs = plt.subplots(1,3,figsize=(6,6),sharey=True)\n",
    "axs[0].plot(dataDensity[:30], depth[:30])\n",
    "axs[0].set_title(\"Pot dens\")\n",
    "axs[1].plot(1e3*dataNSquare[:30], depth[:30], label=\"nSquare\")\n",
    "axs[1].set_title(\"N Square e3 \")\n",
    "axs[2].plot(meridGradDensity[:30], depth[:30], label=\"Meridional derivative\")\n",
    "axs[2].plot(zonalGradDensity[:30], depth[:30], label=\"Zonal derivative\")\n",
    "axs[2].set_title(\"Grad density\")\n",
    "axs[2].legend()"
   ]
  },
  {
   "cell_type": "markdown",
   "metadata": {},
   "source": [
    "## Regridding\n",
    "\n",
    "This section is to generate the MITgcm model grid\n",
    "and interpolate the ECCO profiles onto it."
   ]
  },
  {
   "cell_type": "code",
   "execution_count": null,
   "metadata": {},
   "outputs": [],
   "source": [
    "# calculate relevant depth arrays from ECCO grid\n",
    "zDeltaData = (depth[:-1]-depth[1:])\n",
    "zHalfsData = (depth[:-1]+depth[1:])/2"
   ]
  },
  {
   "cell_type": "code",
   "execution_count": null,
   "metadata": {},
   "outputs": [],
   "source": [
    "# calculate interpolating splines from ECCO data\n",
    "meridDGSpline = terp.splrep(-depth,meridGradDensity)\n",
    "zonalDGSpline = terp.splrep(-depth,zonalGradDensity)\n",
    "nSquareSpline = terp.splrep(-depth,dataNSquare)\n",
    "baseRhoSpline = terp.splrep(-depth,dataDensity)"
   ]
  },
  {
   "cell_type": "code",
   "execution_count": null,
   "metadata": {},
   "outputs": [],
   "source": []
  },
  {
   "cell_type": "code",
   "execution_count": null,
   "metadata": {},
   "outputs": [],
   "source": [
    "# generate model grid from ECCO grid\n",
    "padSize = 50 - zDeltaData.shape[0] + 1\n",
    "dz = np.pad(zDeltaData,(padSize,0),constant_values=10.)[:-1]\n",
    "# dz.astype('>f4').tofile('eccoZCoordSpacingPadded.bin')"
   ]
  },
  {
   "cell_type": "code",
   "execution_count": null,
   "metadata": {},
   "outputs": [],
   "source": [
    "# calculate relevant depth arrays from model grid\n",
    "zCenters = np.zeros((nz,))\n",
    "zFaces   = np.zeros((nz,))\n",
    "for i in range(50):\n",
    "    zCenters[i] = dz[i]/2 + dz[:i].sum()\n",
    "    zFaces[i]   = dz[:i+1].sum()\n",
    "\n",
    "zDelta = (zCenters[1:]-zCenters[:-1])   # distance between centers\n",
    "zHalfs = (zCenters[1:]+zCenters[:-1])/2 # depth @ between cell centers"
   ]
  },
  {
   "cell_type": "code",
   "execution_count": null,
   "metadata": {},
   "outputs": [],
   "source": [
    "# use spline to interpolate onto new grid\n",
    "zonalDGHalfs  = terp.splev(zHalfs,zonalDGSpline)\n",
    "zonalDG       = terp.splev(zCenters,zonalDGSpline)\n",
    "meridDGHalfs  = terp.splev(zHalfs,meridDGSpline)\n",
    "meridDG       = terp.splev(zCenters,meridDGSpline)\n",
    "rhoProfile    = terp.splev(zCenters,baseRhoSpline)\n",
    "nSquare       = terp.splev(zCenters,nSquareSpline)"
   ]
  },
  {
   "cell_type": "markdown",
   "metadata": {},
   "source": [
    "## Model field initialization\n",
    "\n",
    "This section generates the initial model fields\n",
    "from the processed data."
   ]
  },
  {
   "cell_type": "code",
   "execution_count": null,
   "metadata": {},
   "outputs": [],
   "source": [
    "# generate bump function for density field\n",
    "\n",
    "# the conservative choice\n",
    "def myBumpSech(x):\n",
    "    center = nx / 2 # unit is grid cells\n",
    "    width  = 0.4 # nonDim parameter\n",
    "    return np.cosh((x-center) / (center*width))**(-2) # unit is grid cells\n",
    "\n",
    "# the aggressive choice\n",
    "def myBumpExp(x):\n",
    "    center = nx / 2\n",
    "    width  = 0.6\n",
    "    deg    = 2\n",
    "    \n",
    "    val = np.abs((x-center)/(center*width))\n",
    "    \n",
    "    # i apologize for this block\n",
    "    # it's necessary(?) for np.fromfunc\n",
    "    try:\n",
    "        val[val>=1] = 1-1e-4\n",
    "    except:\n",
    "        if val >= 1:\n",
    "            val = 1-1e-4\n",
    "    \n",
    "    val = val**deg\n",
    "    return np.exp(1-(1/(1-val)))\n",
    "\n",
    "# the testing choice\n",
    "def myBumpTest(x):\n",
    "    return 0*x + 1\n",
    "\n",
    "# make your choice .......................... here\n",
    "funcPrime = np.fromfunction(lambda z,y,x: myBumpExp(x), shape=(nz,ny,nx))"
   ]
  },
  {
   "cell_type": "code",
   "execution_count": null,
   "metadata": {},
   "outputs": [],
   "source": [
    "# integrate bump function for density field\n",
    "func  = teg.cumulative_trapezoid(funcPrime[0,0,:],\n",
    "                                np.linspace(0,nx-1,nx),\n",
    "                                initial=0)\n",
    "func *= dx                                           # input: grid cells\n",
    "func -= (func[int(nx/2)]+func[1+int(nx/2)])/2        # output: meters"
   ]
  },
  {
   "cell_type": "code",
   "execution_count": null,
   "metadata": {},
   "outputs": [],
   "source": []
  },
  {
   "cell_type": "code",
   "execution_count": null,
   "metadata": {},
   "outputs": [],
   "source": [
    "# determine horizontal gradient of choice\n",
    "horizDG = np.sqrt(zonalDG**2 + meridDG**2)\n",
    "horizDGHalfs = np.sqrt(zonalDGHalfs**2 + meridDGHalfs**2)"
   ]
  },
  {
   "cell_type": "code",
   "execution_count": null,
   "metadata": {},
   "outputs": [],
   "source": []
  },
  {
   "cell_type": "code",
   "execution_count": null,
   "metadata": {},
   "outputs": [],
   "source": []
  },
  {
   "cell_type": "code",
   "execution_count": null,
   "metadata": {},
   "outputs": [],
   "source": [
    "# generate density field\n",
    "rho  = np.ones((nz,ny,nx))*(rhoProfile[:,np.newaxis,np.newaxis] # for reshaping purposes\n",
    "       +(horizDG[:,np.newaxis,np.newaxis]*func[np.newaxis,np.newaxis,:]))"
   ]
  },
  {
   "cell_type": "code",
   "execution_count": null,
   "metadata": {},
   "outputs": [],
   "source": [
    "# generate stratification field\n",
    "dRhodZ = ((rho[:-1,:,:]-rho[1:,:,:])\n",
    "          / zDelta[:,np.newaxis,np.newaxis])\n",
    "\n",
    "# generate horizDG field\n",
    "dRhodX = ((rho[:,:,:-1]-rho[:,:,1:])\n",
    "         / 2000) # meters"
   ]
  },
  {
   "cell_type": "code",
   "execution_count": null,
   "metadata": {},
   "outputs": [],
   "source": [
    "# save u:\n",
    "u = np.zeros((nz,ny,nx))\n",
    "# u.astype('>f4').tofile('u-2km.bin')"
   ]
  },
  {
   "cell_type": "code",
   "execution_count": null,
   "metadata": {},
   "outputs": [],
   "source": [
    "# generate v from thermal wind balance: 0m/s at domain floor\n",
    "vertiShear = -horizDGHalfs[:,np.newaxis,np.newaxis]*funcPrime[:-1,:,:]*g/rhoConst/f0 \n",
    "velocities = np.zeros(shape=(nz,ny,nx))\n",
    "for i in range(49,0,-1):\n",
    "    velocities[i-1,:,:] = velocities[i,:,:] + vertiShear[i-1,:,:]*zDelta[i-1]\n",
    "# velocities.astype('>f4').tofile('v-2km.bin')\n"
   ]
  },
  {
   "cell_type": "code",
   "execution_count": null,
   "metadata": {},
   "outputs": [],
   "source": [
    "# generate salinity field\n",
    "salt = rho / rhoConst\n",
    "salt = (salt-1) / sBeta\n",
    "salt = salt + s0\n",
    "# salt.astype('>f4').tofile('salt-2km.bin')"
   ]
  },
  {
   "cell_type": "code",
   "execution_count": null,
   "metadata": {},
   "outputs": [],
   "source": [
    "# generate perturbed salinity field\n",
    "pSalt = salt + np.fromfunction(lambda z,y,x: 1e-4*np.sin(y/10), (nz,ny,nx))\n",
    "# pSalt.astype('>f4').tofile('perturbedSalt-2km.bin')"
   ]
  },
  {
   "cell_type": "code",
   "execution_count": null,
   "metadata": {},
   "outputs": [],
   "source": [
    "# generate temp (not evolved in model)\n",
    "temp = np.ones((nz,ny,nx))\n",
    "# temp.astype('>f4').tofile('temp-2km.bin')"
   ]
  },
  {
   "cell_type": "code",
   "execution_count": null,
   "metadata": {},
   "outputs": [],
   "source": [
    "# generate SSH\n",
    "eta  = (rho*dz[:,np.newaxis,np.newaxis]).sum(0) - rhoConst*dz.sum(0)\n",
    "eta /= -rho[0,:,:]\n",
    "eta += -eta.mean((0,1))\n",
    "# eta.astype('>f4').tofile('eta-2km.bin')"
   ]
  },
  {
   "cell_type": "code",
   "execution_count": null,
   "metadata": {},
   "outputs": [],
   "source": []
  },
  {
   "cell_type": "code",
   "execution_count": null,
   "metadata": {},
   "outputs": [],
   "source": [
    "# generate bathymetry\n",
    "bathy = -1*np.ones((ny,nx))*dz.sum()\n",
    "bathy[:,-1] = 0       # wall\n",
    "# bathy.astype('>f4').tofile('bathy-2km.bin')"
   ]
  },
  {
   "cell_type": "code",
   "execution_count": null,
   "metadata": {},
   "outputs": [],
   "source": [
    "# generate restoring mask\n",
    "mask = np.ones((nz,ny,nx))\n",
    "mask[:,:,-1] = 0 # turn off inside wall\n",
    "# mask.astype('>f4').tofile('restore.bin')"
   ]
  },
  {
   "cell_type": "code",
   "execution_count": null,
   "metadata": {},
   "outputs": [],
   "source": [
    "# generate cice\n",
    "concentration = 0.00 # float between 0 and 1\n",
    "area = concentration * np.ones((ny,nx))\n",
    "heff = area * 2 # effective thickness, (ice doesn't melt or grow!)\n",
    "# area.astype('>f4').tofile(\"iceArea2km.bin\")\n",
    "# heff.astype('>f4').tofile(\"iceHeff2km.bin\")"
   ]
  },
  {
   "cell_type": "markdown",
   "metadata": {},
   "source": [
    "## View fields\n",
    "\n",
    "This section contains some plots of the fields\n",
    "that will initialize the model."
   ]
  },
  {
   "cell_type": "code",
   "execution_count": null,
   "metadata": {},
   "outputs": [],
   "source": [
    "# view bump function\n",
    "plt.plot(funcPrime[0,0,:])"
   ]
  },
  {
   "cell_type": "code",
   "execution_count": null,
   "metadata": {},
   "outputs": [],
   "source": [
    "# view density field\n",
    "plt.figure(figsize=(8,8))\n",
    "plt.contour(np.linspace(-nx,nx,nx),-zCenters[:30],\n",
    "            rho[:30,:,:].mean(1),40)\n",
    "plt.xlabel(\"Across channel distance (km)\", size=12)\n",
    "plt.ylabel(\"Depth (m)\", size=12)\n",
    "cbar = plt.colorbar(shrink=0.9)\n",
    "cbar.ax.invert_yaxis()\n",
    "cbar.ax.tick_params(labelsize=9)\n",
    "cbar.ax.set_title(r\"$\\mathrm{kg}/\\mathrm{m}^3$\")\n",
    "# plt.title(\"Density section\", size=16)"
   ]
  },
  {
   "cell_type": "code",
   "execution_count": null,
   "metadata": {},
   "outputs": [],
   "source": [
    "# view stratification @ selected locations\n",
    "# plot the resulting profiles\n",
    "fig,axs = plt.subplots(1,3,figsize=(6,9),sharey=True)\n",
    "axs[0].plot(rho[:30,100,50], -zCenters[:30], label=\"West\")\n",
    "axs[0].plot(rho[:30,100,-50], -zCenters[:30], label=\"East\")\n",
    "axs[0].plot(rho[:30,100,nx//2], -zCenters[:30], label=\"Center\")\n",
    "axs[0].set_title(\"Pot dens\")\n",
    "axs[0].legend()\n",
    "axs[1].plot(dRhodZ[:30,100,50], -zHalfs[:30], label=\"West\")\n",
    "axs[1].plot(dRhodZ[:30,100,-50], -zHalfs[:30], label=\"East\")\n",
    "axs[1].plot(dRhodZ[:30,100,nx//2], -zHalfs[:30], label=\"Center\")\n",
    "axs[1].set_title(\"dRho / dZ\")\n",
    "axs[1].legend()\n",
    "axs[2].plot(dRhodX[:30,100,50], -zCenters[:30], label=\"West\")\n",
    "axs[2].plot(dRhodX[:30,100,-50], -zCenters[:30], label=\"East\")\n",
    "axs[2].plot(dRhodX[:30,100,nx//2], -zCenters[:30], label=\"Center\")\n",
    "axs[2].set_title(\"dRho / dX\")\n",
    "axs[2].legend()"
   ]
  },
  {
   "cell_type": "code",
   "execution_count": null,
   "metadata": {},
   "outputs": [],
   "source": [
    "# view velocity field\n",
    "plt.figure(figsize=(8,8))\n",
    "plt.contour(np.linspace(0,nx*2,nx), -zCenters,\n",
    "            100*velocities[:,:,:].mean(1), 30)\n",
    "plt.xlabel(\"Across channel distance (km)\", size=12)\n",
    "plt.ylabel(\"Depth (m)\", size=12)\n",
    "cbar = plt.colorbar(shrink=0.9)\n",
    "cbar.ax.set_title(r\"$\\mathrm{cm}/\\mathrm{s}$\")\n",
    "cbar.ax.invert_yaxis()\n",
    "cbar.ax.tick_params(labelsize=9)\n",
    "# plt.title(\"Channel velocity section\")"
   ]
  },
  {
   "cell_type": "code",
   "execution_count": null,
   "metadata": {},
   "outputs": [],
   "source": []
  },
  {
   "cell_type": "markdown",
   "metadata": {},
   "source": [
    "## Save matlab fields\n",
    "\n",
    "These blocks are to save certain fields in a matlab\n",
    "format for use in the linear stability calculation."
   ]
  },
  {
   "cell_type": "code",
   "execution_count": null,
   "metadata": {},
   "outputs": [],
   "source": [
    "# store arrays for future use\n",
    "locS = \"/home/hcm7920/experiments/arcticMiddepthBI/data/linStabData/\"\n",
    "saveDict = {}\n",
    "saveDict[\"depth\"] = zCenters\n",
    "saveDict[\"rho\"]   = rhoProfile\n",
    "saveDict[\"uVel\"]  = velocities[:, ny//2, nx//2]\n",
    "saveDict[\"vVel\"]  = velocities[:, ny//2, nx//2]*0.0\n",
    "saveDict[\"bigF\"]  = (f0**2) * rhoConst / g\n",
    "saveDict[\"beta\"]  = 0.0\n",
    "saveDict[\"betaT\"] = 0.0\n",
    "scipy.io.savemat(locS+\"modelProfilesForQgLinStab\",saveDict)\n",
    "del saveDict"
   ]
  },
  {
   "cell_type": "code",
   "execution_count": null,
   "metadata": {},
   "outputs": [],
   "source": []
  }
 ],
 "metadata": {
  "kernelspec": {
   "display_name": "cartSing",
   "language": "python",
   "name": "cartsing"
  },
  "language_info": {
   "codemirror_mode": {
    "name": "ipython",
    "version": 3
   },
   "file_extension": ".py",
   "mimetype": "text/x-python",
   "name": "python",
   "nbconvert_exporter": "python",
   "pygments_lexer": "ipython3",
   "version": "3.11.4"
  }
 },
 "nbformat": 4,
 "nbformat_minor": 4
}
