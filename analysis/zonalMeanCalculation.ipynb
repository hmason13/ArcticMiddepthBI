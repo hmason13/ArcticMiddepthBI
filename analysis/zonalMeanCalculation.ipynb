{
 "cells": [
  {
   "cell_type": "code",
   "execution_count": 1,
   "metadata": {},
   "outputs": [],
   "source": [
    "import numpy as np\n",
    "import matplotlib.pyplot as plt\n",
    "import netCDF4 as nc"
   ]
  },
  {
   "cell_type": "code",
   "execution_count": 2,
   "metadata": {},
   "outputs": [],
   "source": [
    "# params\n",
    "secondsPerDay = 86400\n",
    "nx = 250\n",
    "ny = 300\n",
    "nz = 50\n",
    "nt = 3600\n",
    "\n",
    "# io params\n",
    "conc = [\"0\", \"40\", \"80\", \"100\"]\n",
    "loc = \"/scratch/hcm7920/arcticMiddepthBI-\"\n",
    "\n"
   ]
  },
  {
   "cell_type": "code",
   "execution_count": null,
   "metadata": {},
   "outputs": [],
   "source": []
  },
  {
   "cell_type": "code",
   "execution_count": null,
   "metadata": {},
   "outputs": [],
   "source": []
  },
  {
   "cell_type": "code",
   "execution_count": 3,
   "metadata": {},
   "outputs": [],
   "source": [
    "zonalMeanRho = np.zeros(shape=(nx-50,nz,nt//100,len(conc)))\n",
    "zonalMeanN2  = np.zeros(shape=(nx-50,nz,nt//100,len(conc))) "
   ]
  },
  {
   "cell_type": "code",
   "execution_count": 24,
   "metadata": {},
   "outputs": [
    {
     "name": "stdout",
     "output_type": "stream",
     "text": [
      "Done w 0\n",
      "Done w 40\n",
      "Done w 80\n",
      "Done w 100\n"
     ]
    }
   ],
   "source": [
    "for i in range(len(conc)):\n",
    "    stateData = nc.Dataset(loc+conc[i]+\"/data/diagsState.nc\")\n",
    "    rho = stateData[\"RHOAnoma\"]\n",
    "    N2  = stateData[\"DRHODR\"]\n",
    "    \n",
    "    for tb in range(0,nt,100):\n",
    "        zonalMeanRho[:,:,tb//100,i] = rho[tb:tb+100,:,:,25:-25].mean((0,2)).T # t,z,y,x\n",
    "        zonalMeanN2[:,:,tb//100,i] = N2[tb:tb+100,:,:,25:-25].mean((0,2)).T\n",
    "    print(f\"Done w {conc[i]}\")"
   ]
  },
  {
   "cell_type": "code",
   "execution_count": 25,
   "metadata": {},
   "outputs": [],
   "source": [
    "# del stateData\n",
    "# del rho\n",
    "# del N2"
   ]
  },
  {
   "cell_type": "code",
   "execution_count": 26,
   "metadata": {},
   "outputs": [],
   "source": [
    "np.save(\"/scratch/hcm7920/ambData/zonalMeanRhoSpinUp.npy\",zonalMeanRho)\n",
    "np.save(\"/scratch/hcm7920/ambData/zonalMeanN2SpinUp.npy\",zonalMeanN2)"
   ]
  },
  {
   "cell_type": "code",
   "execution_count": 11,
   "metadata": {},
   "outputs": [],
   "source": [
    "zonalMeanU   = np.zeros(shape=(nx-50,nz,nt//100,len(conc)))\n",
    "zonalMeanV   = np.zeros(shape=(nx-50,nz,nt//100,len(conc)))\n",
    "zonalMeanW   = np.zeros(shape=(nx-50,nz,nt//100,len(conc)))"
   ]
  },
  {
   "cell_type": "code",
   "execution_count": 21,
   "metadata": {},
   "outputs": [
    {
     "name": "stderr",
     "output_type": "stream",
     "text": [
      "/ext3/miniconda3/lib/python3.11/site-packages/numpy/ma/core.py:5329: RuntimeWarning: Mean of empty slice.\n",
      "  result = super().mean(axis=axis, dtype=dtype, **kwargs)[()]\n",
      "/ext3/miniconda3/lib/python3.11/site-packages/numpy/core/_methods.py:121: RuntimeWarning: invalid value encountered in divide\n",
      "  ret = um.true_divide(\n"
     ]
    },
    {
     "name": "stdout",
     "output_type": "stream",
     "text": [
      "Done w 0\n",
      "Done w 40\n",
      "Done w 80\n",
      "Done w 100\n"
     ]
    }
   ],
   "source": [
    "for i in range(len(conc)):\n",
    "    stateData = nc.Dataset(loc+conc[i]+\"/data/state.nc\")\n",
    "    u = stateData[\"U\"]\n",
    "    v = stateData[\"V\"]\n",
    "    w = stateData[\"W\"]\n",
    "    \n",
    "    for tb in range(0,nt,100):\n",
    "        zonalMeanU[:,:,tb//100,i] = u[tb:tb+100,:,:,25:-26].mean((0,2)).T # t,z,y,x\n",
    "        zonalMeanV[:,:,tb//100,i] = v[tb:tb+100,:,:,25:-25].mean((0,2)).T\n",
    "        zonalMeanW[:,:,tb//100,i] = w[tb:tb+100,:,:,25:-25].mean((0,2)).T # t,z,y,x\n",
    "    print(f\"Done w {conc[i]}\")"
   ]
  },
  {
   "cell_type": "code",
   "execution_count": 22,
   "metadata": {},
   "outputs": [],
   "source": [
    "# del u\n",
    "# del v\n",
    "# del w"
   ]
  },
  {
   "cell_type": "code",
   "execution_count": 23,
   "metadata": {},
   "outputs": [],
   "source": [
    "np.save(\"/scratch/hcm7920/ambData/zonalMeanUSpinup.npy\",zonalMeanU)\n",
    "np.save(\"/scratch/hcm7920/ambData/zonalMeanVSpinup.npy\",zonalMeanV)\n",
    "np.save(\"/scratch/hcm7920/ambData/zonalMeanWSpinup.npy\",zonalMeanW)"
   ]
  },
  {
   "cell_type": "code",
   "execution_count": null,
   "metadata": {},
   "outputs": [],
   "source": []
  },
  {
   "cell_type": "code",
   "execution_count": null,
   "metadata": {},
   "outputs": [],
   "source": []
  },
  {
   "cell_type": "code",
   "execution_count": null,
   "metadata": {},
   "outputs": [],
   "source": []
  },
  {
   "cell_type": "code",
   "execution_count": null,
   "metadata": {},
   "outputs": [],
   "source": []
  },
  {
   "cell_type": "code",
   "execution_count": null,
   "metadata": {},
   "outputs": [],
   "source": []
  },
  {
   "cell_type": "code",
   "execution_count": null,
   "metadata": {},
   "outputs": [],
   "source": []
  },
  {
   "cell_type": "code",
   "execution_count": null,
   "metadata": {},
   "outputs": [],
   "source": []
  }
 ],
 "metadata": {
  "kernelspec": {
   "display_name": "singularityEnv",
   "language": "python",
   "name": "singularityenv"
  },
  "language_info": {
   "codemirror_mode": {
    "name": "ipython",
    "version": 3
   },
   "file_extension": ".py",
   "mimetype": "text/x-python",
   "name": "python",
   "nbconvert_exporter": "python",
   "pygments_lexer": "ipython3",
   "version": "3.11.4"
  }
 },
 "nbformat": 4,
 "nbformat_minor": 4
}
