{
 "cells": [
  {
   "cell_type": "code",
   "execution_count": null,
   "metadata": {},
   "outputs": [],
   "source": [
    "import numpy as np\n",
    "import matplotlib.pyplot as plt\n",
    "import pyqg"
   ]
  },
  {
   "cell_type": "code",
   "execution_count": null,
   "metadata": {},
   "outputs": [],
   "source": [
    "# grid constants\n",
    "nx = 64\n",
    "nz = 50\n",
    "L = 1e3\n",
    "dt = 3600"
   ]
  },
  {
   "cell_type": "code",
   "execution_count": null,
   "metadata": {},
   "outputs": [],
   "source": [
    "# planetary constants\n",
    "f0 = 1.4e-4\n",
    "beta = 0"
   ]
  },
  {
   "cell_type": "code",
   "execution_count": null,
   "metadata": {},
   "outputs": [],
   "source": [
    "# load data\n",
    "rho = np.load(\"/scratch/projects/shaferlab/hassan/rho.npy\")\n",
    "U = np.load(\"/scratch/projects/shaferlab/hassan/velocities.npy\")\n",
    "V = 0 * U\n",
    "H = np.load(\"/scratch/projects/shaferlab/hassan/dz.npy\")\n",
    "H = np.array(H.tolist()) # removes the dtype associated with the above dz.npy"
   ]
  },
  {
   "cell_type": "code",
   "execution_count": null,
   "metadata": {},
   "outputs": [],
   "source": [
    "# setup pyqg\n",
    "m = pyqg.LayeredModel(nx=nx, nz=nz, L=L, H=H, U=U, V=V,\n",
    "                      rho=rho, f=f0, beta=beta, dt=dt, tmax=dt)"
   ]
  },
  {
   "cell_type": "code",
   "execution_count": null,
   "metadata": {},
   "outputs": [],
   "source": [
    "# perform the stability calculation\n",
    "evals, evecs = m.stability_analysis()"
   ]
  },
  {
   "cell_type": "code",
   "execution_count": null,
   "metadata": {},
   "outputs": [],
   "source": [
    "# matt's data processing\n",
    "evals = np.fft.fftshift(evals.imag,axes=(0,))\n",
    "k, l = m.k * m.radii[1], np.fft.fftshift(m.l, axes=(0,)) * m.radii[1]\n",
    "argmax = evals[int(m.ny / 2),:].argmax()\n",
    "evec = np.fft.fftshift(evecs,axes=(1))[:, int(m.ny / 2), argmax]\n",
    "kmax = k[int(m.ny / 2), argmax]\n",
    "mag, phase = np.abs(evec), np.arctan2(evec.imag, evec.real)\n"
   ]
  },
  {
   "cell_type": "code",
   "execution_count": null,
   "metadata": {},
   "outputs": [],
   "source": [
    "# plot fastest growing mode\n",
    "plt.figure(figsize=(8,5))\n",
    "plt.contourf(k, l, evals, levels = 100)\n",
    "plt.colorbar()\n",
    "plt.xlabel(r’$k \\, L_d$‘); plt.ylabel(r’$l \\, L_d$‘)\n",
    "plt.title(f’fastest growing mode’)\n"
   ]
  },
  {
   "cell_type": "code",
   "execution_count": null,
   "metadata": {},
   "outputs": [],
   "source": [
    "# plot vertical structure of fastest growing mode\n",
    "zc = -np.cumsum(H)\n",
    "plt.plot(mag, zc)\n",
    "plt.grid()\n",
    "plt.xlabel(f’eigenvector amplitude $|\\psi|$’)\n",
    "plt.ylabel(‘depth (m)’)\n",
    "plt.title(‘vertical structure associated with most unstable mode’)"
   ]
  },
  {
   "cell_type": "code",
   "execution_count": null,
   "metadata": {},
   "outputs": [],
   "source": []
  },
  {
   "cell_type": "code",
   "execution_count": null,
   "metadata": {},
   "outputs": [],
   "source": []
  }
 ],
 "metadata": {
  "kernelspec": {
   "display_name": "Python 3",
   "language": "python",
   "name": "python3"
  },
  "language_info": {
   "codemirror_mode": {
    "name": "ipython",
    "version": 3
   },
   "file_extension": ".py",
   "mimetype": "text/x-python",
   "name": "python",
   "nbconvert_exporter": "python",
   "pygments_lexer": "ipython3",
   "version": "3.8.6"
  }
 },
 "nbformat": 4,
 "nbformat_minor": 4
}
