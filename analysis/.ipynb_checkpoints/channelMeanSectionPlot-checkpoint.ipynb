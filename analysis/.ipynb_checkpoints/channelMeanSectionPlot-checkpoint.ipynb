{
 "cells": [
  {
   "cell_type": "code",
   "execution_count": 1,
   "metadata": {},
   "outputs": [],
   "source": [
    "import numpy as np\n",
    "import matplotlib.pyplot as plt\n"
   ]
  },
  {
   "cell_type": "code",
   "execution_count": 1,
   "metadata": {},
   "outputs": [],
   "source": [
    "# i/o params\n",
    "loc = \"/scratch/hcm7920/ambData/\"\n",
    "conc = [0,40,80,100]\n",
    "\n",
    "# plot params\n",
    "deepIndex = 35\n",
    "\n",
    "# phys params\n",
    "g = 9.81\n",
    "rhoConst = 1029"
   ]
  },
  {
   "cell_type": "code",
   "execution_count": 3,
   "metadata": {},
   "outputs": [],
   "source": [
    "# load\n",
    "rhoSteady = np.load(loc+\"channelMeanRhoSpinup.npy\")[:,:,1,:]\n",
    "n2Steady  = np.load(loc+\"channelMeanN2Spinup.npy\")[:,:,1,:]\n",
    "uSteady   = np.load(loc+\"channelMeanUSpinup.npy\")[:,:,1,:]\n",
    "vSteady   = np.load(loc+\"channelMeanVSpinup.npy\")[:,:,1,:]\n",
    "wSteady   = np.load(loc+\"channelMeanWSpinup.npy\")[:,:,1,:]\n",
    "\n",
    "rhoTarget = np.load(loc+\"channelMeanRhoSpinup.npy\")[:,:,0,:]\n",
    "n2Target  = np.load(loc+\"channelMeanN2Spinup.npy\")[:,:,0,:]\n",
    "uTarget   = np.load(loc+\"channelMeanUSpinup.npy\")[:,:,0,:]\n",
    "vTarget   = np.load(loc+\"channelMeanVSpinup.npy\")[:,:,0,:]\n",
    "wTarget   = np.load(loc+\"channelMeanWSpinup.npy\")[:,:,0,:]\n",
    "\n",
    "levs = np.load(loc+\"gridLevs.npy\")\n",
    "\n",
    "n2Steady *= -g/rhoConst\n",
    "n2Target *= -g/rhoConst"
   ]
  },
  {
   "cell_type": "code",
   "execution_count": 4,
   "metadata": {},
   "outputs": [
    {
     "name": "stdout",
     "output_type": "stream",
     "text": [
      "(200, 50, 36, 4)\n",
      "(200, 50, 36, 4)\n"
     ]
    }
   ],
   "source": [
    "fig,axs = plt.subplots(nrows=1,ncols=2,sharey=True,figsize=(8,8))\n",
    "\n",
    "axs[0].plot(levs[:deepIndex],rhoTarget[100,:deepIndex,0],\n",
    "            label=\"Target density\",linewidth=3)\n",
    "for i in range(len(conc)):\n",
    "    axs[0].plot(levs[:deepIndex],rhoSteady[100,:deepIndex,i],\n",
    "                label=f\"Steady density: {conc[i]}\",linewidth=3)\n",
    "axs[0].set_xlabel(\"Density $(\\mathrm{kg}/\\mathrm{m^3})$\")\n",
    "axs[0].set_ylabel(\"Depth (meters)\")\n",
    "axs[0].legend()\n",
    "\n",
    "axs[1].plot(levs[:deepIndex],n2Target[100,:deepIndex,0],label=\"Target n2\",linewidth=3)\n",
    "for i in range(len(conc)):\n",
    "    axs[1].plot(levs[:deepIndex],n2Steady[100,:deepIndex,i],\n",
    "                label=f\"Steady n2: {conc[i]}\",linewidth=3)\n",
    "axs[1].set_xlabel(\"$\\mathrm{N}^2$ ($1\\\\mathrm{s}^2$)\")\n",
    "axs[1].legend()"
   ]
  },
  {
   "cell_type": "code",
   "execution_count": null,
   "metadata": {},
   "outputs": [],
   "source": []
  },
  {
   "cell_type": "code",
   "execution_count": null,
   "metadata": {},
   "outputs": [],
   "source": []
  },
  {
   "cell_type": "code",
   "execution_count": null,
   "metadata": {},
   "outputs": [],
   "source": []
  },
  {
   "cell_type": "code",
   "execution_count": null,
   "metadata": {},
   "outputs": [],
   "source": []
  }
 ],
 "metadata": {
  "kernelspec": {
   "display_name": "singularityEnv",
   "language": "python",
   "name": "singularityenv"
  },
  "language_info": {
   "codemirror_mode": {
    "name": "ipython",
    "version": 3
   },
   "file_extension": ".py",
   "mimetype": "text/x-python",
   "name": "python",
   "nbconvert_exporter": "python",
   "pygments_lexer": "ipython3",
   "version": "3.11.4"
  }
 },
 "nbformat": 4,
 "nbformat_minor": 4
}
