{
 "cells": [
  {
   "cell_type": "code",
   "execution_count": 1,
   "metadata": {},
   "outputs": [],
   "source": [
    "import numpy as np\n",
    "import matplotlib.pyplot as plt\n",
    "import netCDF4 as nc"
   ]
  },
  {
   "cell_type": "code",
   "execution_count": 43,
   "metadata": {},
   "outputs": [],
   "source": [
    "# io params\n",
    "loc = \"/scratch/hcm7920/arcticMiddepthBI-\"\n",
    "conc = \"40\"\n",
    "\n",
    "# grid params\n",
    "nx = 250\n",
    "ny = 300\n",
    "nz = 50\n",
    "\n",
    "# time params\n",
    "ts = -1 # num timesteps to evaluate\n",
    "secPerDay = 86400."
   ]
  },
  {
   "cell_type": "code",
   "execution_count": null,
   "metadata": {},
   "outputs": [],
   "source": []
  },
  {
   "cell_type": "code",
   "execution_count": 44,
   "metadata": {
    "scrolled": true
   },
   "outputs": [],
   "source": [
    "# load ocean data\n",
    "stateData = nc.Dataset(loc+conc+\"/data/state.nc\")\n",
    "oceU = stateData[\"U\"][ts,0,:,:]\n",
    "oceV = stateData[\"V\"][ts,0,:,:]\n",
    "oceT = stateData[\"T\"][ts]/secPerDay\n",
    "del stateData"
   ]
  },
  {
   "cell_type": "code",
   "execution_count": 45,
   "metadata": {},
   "outputs": [],
   "source": [
    "# load ice data\n",
    "iceData = nc.Dataset(loc+conc+\"/data/diagsIceGeneral.nc\")\n",
    "iceU = iceData[\"SIuice\"][ts,:,:]\n",
    "iceV = iceData[\"SIvice\"][ts,:,:]\n",
    "iceT = iceData[\"T\"][ts]/secPerDay\n",
    "del iceData"
   ]
  },
  {
   "cell_type": "code",
   "execution_count": 46,
   "metadata": {},
   "outputs": [
    {
     "name": "stdout",
     "output_type": "stream",
     "text": [
      "1795.5 \n",
      "\n",
      "1692.0\n"
     ]
    }
   ],
   "source": [
    "# verify model times are the same\n",
    "print(iceT,\"\\n\")\n",
    "print(oceT)"
   ]
  },
  {
   "cell_type": "code",
   "execution_count": 47,
   "metadata": {},
   "outputs": [],
   "source": [
    "# remove mean of fields\n",
    "oceU -= np.mean(oceU)\n",
    "oceV -= np.mean(oceV)\n",
    "iceU -= np.mean(iceU)\n",
    "iceV -= np.mean(iceV)"
   ]
  },
  {
   "cell_type": "code",
   "execution_count": 48,
   "metadata": {},
   "outputs": [],
   "source": [
    "# calculate inner product\n",
    "innerProd = (np.sum(oceU*iceU)\n",
    "             + np.sum(oceV*iceV))\n",
    "\n",
    "# calculate norm2\n",
    "iceNorm2 = np.sum(iceU*iceU) + np.sum(iceV*iceV)\n",
    "oceNorm2 = np.sum(oceU*oceU) + np.sum(oceV*oceV)"
   ]
  },
  {
   "cell_type": "code",
   "execution_count": 49,
   "metadata": {},
   "outputs": [],
   "source": [
    "# calculate correlation\n",
    "corCoeff = innerProd/np.sqrt(iceNorm2*oceNorm2)"
   ]
  },
  {
   "cell_type": "code",
   "execution_count": 50,
   "metadata": {},
   "outputs": [
    {
     "name": "stdout",
     "output_type": "stream",
     "text": [
      "0.21019621\n"
     ]
    }
   ],
   "source": [
    "# print result\n",
    "print(corCoeff)"
   ]
  },
  {
   "cell_type": "code",
   "execution_count": null,
   "metadata": {},
   "outputs": [],
   "source": []
  }
 ],
 "metadata": {
  "kernelspec": {
   "display_name": "singularityEnv",
   "language": "python",
   "name": "singularityenv"
  },
  "language_info": {
   "codemirror_mode": {
    "name": "ipython",
    "version": 3
   },
   "file_extension": ".py",
   "mimetype": "text/x-python",
   "name": "python",
   "nbconvert_exporter": "python",
   "pygments_lexer": "ipython3",
   "version": "3.11.4"
  }
 },
 "nbformat": 4,
 "nbformat_minor": 4
}
