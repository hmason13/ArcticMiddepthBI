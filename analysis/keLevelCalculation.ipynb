{
 "cells": [
  {
   "cell_type": "code",
   "execution_count": 1,
   "metadata": {},
   "outputs": [],
   "source": [
    "import matplotlib.pyplot as plt\n",
    "import numpy as np\n",
    "import netCDF4 as nc"
   ]
  },
  {
   "cell_type": "code",
   "execution_count": 2,
   "metadata": {},
   "outputs": [],
   "source": [
    "# params\n",
    "secondsPerDay = 86400\n",
    "\n",
    "# io params\n",
    "conc = [\"0\", \"40\", \"80\", \"100\"]\n",
    "loc = \"/scratch/hcm7920/arcticMiddepthBI-\""
   ]
  },
  {
   "cell_type": "code",
   "execution_count": null,
   "metadata": {},
   "outputs": [],
   "source": []
  },
  {
   "cell_type": "code",
   "execution_count": 3,
   "metadata": {},
   "outputs": [],
   "source": [
    "# grid\n",
    "gridData = nc.Dataset(loc+conc[0]+\"/data/grid.nc\")\n",
    "levs = gridData[\"Z\"][:]\n",
    "del gridData"
   ]
  },
  {
   "cell_type": "code",
   "execution_count": 4,
   "metadata": {},
   "outputs": [],
   "source": [
    "# data\n",
    "dynamicsData = nc.Dataset(loc+conc[0]+\"/data/diagsDynamics.nc\")\n",
    "ke = dynamicsData[\"momKE\"]\n",
    "keLevMean = np.zeros(shape=(ke.shape[0],ke.shape[1],len(conc)))\n",
    "keLevMax  = np.zeros(shape=(ke.shape[0],ke.shape[1],len(conc)))\n",
    "time = dynamicsData[\"T\"][:]/secondsPerDay\n",
    "del dynamicsData"
   ]
  },
  {
   "cell_type": "code",
   "execution_count": 6,
   "metadata": {},
   "outputs": [
    {
     "name": "stdout",
     "output_type": "stream",
     "text": [
      "0 100 200 300 400 500 600 700 800 900 1000\n",
      "1100 1200 1300 1400 1500 1600 1700 1800 1900 2000\n",
      "2100 2200 2300 2400 2500 2600 2700 2800 2900 3000\n",
      "3100 3200 3300 3400 3500 "
     ]
    }
   ],
   "source": [
    "# averaging & maxing loop (memory purposes)\n",
    "for ts in range(0,len(time),100):\n",
    "    keLevMean[ts:ts+100,:,0] = ke[ts:ts+100,:,:,:].mean((2,3))\n",
    "    keLevMax[ts:ts+100,:,0] = ke[ts:ts+100,:,:,:].max((2,3))\n",
    "    if ts%1000==0 and ts!=0:\n",
    "        print(f\"{ts}\")\n",
    "    else:\n",
    "        print(f\"{ts}\", end=\" \")"
   ]
  },
  {
   "cell_type": "code",
   "execution_count": 8,
   "metadata": {},
   "outputs": [
    {
     "name": "stdout",
     "output_type": "stream",
     "text": [
      "0 100 200 300 400 500 600 700 800 900 1000\n",
      "1100 1200 1300 1400 1500 1600 1700 1800 1900 2000\n",
      "2100 2200 2300 2400 2500 2600 2700 2800 2900 3000\n",
      "3100 3200 3300 3400 3500 0 100 200 300 400 500 600 700 800 900 1000\n",
      "1100 1200 1300 1400 1500 1600 1700 1800 1900 2000\n",
      "2100 2200 2300 2400 2500 2600 2700 2800 2900 3000\n",
      "3100 3200 3300 3400 3500 0 100 200 300 400 500 600 700 800 900 1000\n",
      "1100 1200 1300 1400 1500 1600 1700 1800 1900 2000\n",
      "2100 2200 2300 2400 2500 2600 2700 2800 2900 3000\n",
      "3100 3200 3300 3400 3500 "
     ]
    }
   ],
   "source": [
    "# averaging & maxing loop for other runs\n",
    "for i in range(len(conc)-1):\n",
    "    dynamicsData = nc.Dataset(loc+conc[i+1]+\"/data/diagsDynamics.nc\")\n",
    "    ke = dynamicsData[\"momKE\"]\n",
    "    for ts in range(0,len(time),100):\n",
    "        keLevMean[ts:ts+100,:,i+1] = ke[ts:ts+100,:,:,:].mean((2,3))\n",
    "        keLevMax[ts:ts+100,:,i+1] = ke[ts:ts+100,:,:,:].max((2,3))\n",
    "        \n",
    "        if ts%1000==0 and ts!=0:\n",
    "            print(f\"{ts}\")\n",
    "        else:\n",
    "            print(f\"{ts}\", end=\" \")"
   ]
  },
  {
   "cell_type": "code",
   "execution_count": 11,
   "metadata": {},
   "outputs": [],
   "source": [
    "np.save(\"/scratch/hcm7920/ambData/keLevMeanSpinUp.npy\",keLevMean)\n",
    "np.save(\"/scratch/hcm7920/ambData/keLevMaxSpinUp.npy\",keLevMax)\n",
    "np.save(\"/scratch/hcm7920/ambData/gridLevs.npy\",levs.data)\n",
    "np.save(\"/scratch/hcm7920/ambData/gridTimeSpinUp.npy\",time.data)"
   ]
  },
  {
   "cell_type": "code",
   "execution_count": null,
   "metadata": {},
   "outputs": [],
   "source": []
  },
  {
   "cell_type": "code",
   "execution_count": null,
   "metadata": {},
   "outputs": [],
   "source": [
    " "
   ]
  },
  {
   "cell_type": "code",
   "execution_count": null,
   "metadata": {},
   "outputs": [],
   "source": []
  },
  {
   "cell_type": "code",
   "execution_count": null,
   "metadata": {},
   "outputs": [],
   "source": []
  },
  {
   "cell_type": "code",
   "execution_count": null,
   "metadata": {},
   "outputs": [],
   "source": []
  }
 ],
 "metadata": {
  "kernelspec": {
   "display_name": "singularityEnv",
   "language": "python",
   "name": "singularityenv"
  },
  "language_info": {
   "codemirror_mode": {
    "name": "ipython",
    "version": 3
   },
   "file_extension": ".py",
   "mimetype": "text/x-python",
   "name": "python",
   "nbconvert_exporter": "python",
   "pygments_lexer": "ipython3",
   "version": "3.11.4"
  }
 },
 "nbformat": 4,
 "nbformat_minor": 4
}
