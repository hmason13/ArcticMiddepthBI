{
 "cells": [
  {
   "cell_type": "code",
   "execution_count": 34,
   "metadata": {},
   "outputs": [],
   "source": [
    "import numpy as np\n",
    "import matplotlib.pyplot as plt\n",
    "import netCDF4 as nc"
   ]
  },
  {
   "cell_type": "code",
   "execution_count": 35,
   "metadata": {},
   "outputs": [],
   "source": [
    "# params\n",
    "secondsPerDay = 86400\n",
    "nx = 500\n",
    "ny = 500\n",
    "nz = 50\n",
    "nt = 60\n",
    "savesPerYear = 6 # number of saves per year\n",
    "years = 3 # number of years to consider\n",
    "\n",
    "# io params\n",
    "conc = [\"0\", \"100\"]\n",
    "loc = \"/scratch/hcm7920/amb\"\n",
    "saveloc = \"/scratch/hcm7920/ambData/channelMeanSpinup_0-100/\"\n"
   ]
  },
  {
   "cell_type": "code",
   "execution_count": null,
   "metadata": {},
   "outputs": [],
   "source": []
  },
  {
   "cell_type": "code",
   "execution_count": null,
   "metadata": {},
   "outputs": [],
   "source": []
  },
  {
   "cell_type": "code",
   "execution_count": 36,
   "metadata": {},
   "outputs": [],
   "source": [
    "channelMeanRho  = np.zeros(shape=(nz,ny,years+1,len(conc)))\n",
    "channelMeanN2   = np.zeros(shape=(nz,ny,years+1,len(conc)))\n",
    "channelMeanSalt = np.zeros(shape=(nz,ny,years+1,len(conc)))\n",
    "channelMeanU    = np.zeros(shape=(nz,ny,years+1,len(conc)))\n",
    "channelMeanV    = np.zeros(shape=(nz,ny,years+1,len(conc)))\n",
    "channelMeanW    = np.zeros(shape=(nz,ny,years+1,len(conc)))"
   ]
  },
  {
   "cell_type": "code",
   "execution_count": null,
   "metadata": {},
   "outputs": [],
   "source": []
  },
  {
   "cell_type": "code",
   "execution_count": 37,
   "metadata": {},
   "outputs": [
    {
     "name": "stdout",
     "output_type": "stream",
     "text": [
      "Done w level 0 Done w level 1 Done w level 2 Done w level 3 Done w level 4 Done w level 5 Done w level 6 Done w level 7 Done w level 8 Done w level 9 Done w level 10 Done w level 11 Done w level 12 Done w level 13 Done w level 14 Done w level 15 Done w level 16 Done w level 17 Done w level 18 Done w level 19 Done w level 20 Done w level 21 Done w level 22 Done w level 23 Done w level 24 Done w level 25 Done w level 26 Done w level 27 Done w level 28 Done w level 29 Done w level 30 Done w level 31 Done w level 32 Done w level 33 Done w level 34 Done w level 35 Done w level 36 Done w level 37 Done w level 38 Done w level 39 Done w level 40 Done w level 41 Done w level 42 Done w level 43 Done w level 44 Done w level 45 Done w level 46 Done w level 47 Done w level 48 Done w level 49 Done w 0\n",
      "\n",
      "Done w level 0 Done w level 1 Done w level 2 Done w level 3 Done w level 4 Done w level 5 Done w level 6 Done w level 7 Done w level 8 Done w level 9 Done w level 10 Done w level 11 Done w level 12 Done w level 13 Done w level 14 Done w level 15 Done w level 16 Done w level 17 Done w level 18 Done w level 19 Done w level 20 Done w level 21 Done w level 22 Done w level 23 Done w level 24 Done w level 25 Done w level 26 Done w level 27 Done w level 28 Done w level 29 Done w level 30 Done w level 31 Done w level 32 Done w level 33 Done w level 34 Done w level 35 Done w level 36 Done w level 37 Done w level 38 Done w level 39 Done w level 40 Done w level 41 Done w level 42 Done w level 43 Done w level 44 Done w level 45 Done w level 46 Done w level 47 Done w level 48 Done w level 49 Done w 100\n",
      "\n"
     ]
    }
   ],
   "source": [
    "for i in range(len(conc)):\n",
    "    stateData = nc.Dataset(loc+conc[i]+\"/data/diagsState.nc\")\n",
    "    rho = stateData[\"RHOAnoma\"]\n",
    "    \n",
    "    for level in range(nz):\n",
    "        for yDex in range(ny):\n",
    "            for yr in range(years):\n",
    "                tsRange = np.arange(-(yr+1)*savesPerYear,-yr*savesPerYear,dtype=int)\n",
    "                channelMeanRho[level,yDex,yr,i] = rho[tsRange,level,yDex,:].mean((0,1)) # t,z,y,x\n",
    "        print(f\"Done w level {level}\", end=\" \")\n",
    "    print(f\"Done w {conc[i]}\", end=\"\\n\\n\")\n",
    "    \n",
    "    channelMeanRho[:,:,-1,i] = rho[0,:,:,:].mean((2,))\n",
    "\n",
    "np.save(saveloc+\"/channelMeanRhoSpinup.npy\",channelMeanRho)\n",
    "del rho\n",
    "del stateData"
   ]
  },
  {
   "cell_type": "code",
   "execution_count": 38,
   "metadata": {
    "scrolled": true
   },
   "outputs": [
    {
     "name": "stdout",
     "output_type": "stream",
     "text": [
      "Done w level 0 Done w level 1 Done w level 2 Done w level 3 Done w level 4 Done w level 5 Done w level 6 Done w level 7 Done w level 8 Done w level 9 Done w level 10 Done w level 11 Done w level 12 Done w level 13 Done w level 14 Done w level 15 Done w level 16 Done w level 17 Done w level 18 Done w level 19 Done w level 20 Done w level 21 Done w level 22 Done w level 23 Done w level 24 Done w level 25 Done w level 26 Done w level 27 Done w level 28 Done w level 29 Done w level 30 Done w level 31 Done w level 32 Done w level 33 Done w level 34 Done w level 35 Done w level 36 Done w level 37 Done w level 38 Done w level 39 Done w level 40 Done w level 41 Done w level 42 Done w level 43 Done w level 44 Done w level 45 Done w level 46 Done w level 47 Done w level 48 Done w level 49 Done w 0\n",
      "\n",
      "Done w level 0 Done w level 1 Done w level 2 Done w level 3 Done w level 4 Done w level 5 Done w level 6 Done w level 7 Done w level 8 Done w level 9 Done w level 10 Done w level 11 Done w level 12 Done w level 13 Done w level 14 Done w level 15 Done w level 16 Done w level 17 Done w level 18 Done w level 19 Done w level 20 Done w level 21 Done w level 22 Done w level 23 Done w level 24 Done w level 25 Done w level 26 Done w level 27 Done w level 28 Done w level 29 Done w level 30 Done w level 31 Done w level 32 Done w level 33 Done w level 34 Done w level 35 Done w level 36 Done w level 37 Done w level 38 Done w level 39 Done w level 40 Done w level 41 Done w level 42 Done w level 43 Done w level 44 Done w level 45 Done w level 46 Done w level 47 Done w level 48 Done w level 49 Done w 100\n",
      "\n"
     ]
    }
   ],
   "source": [
    "for i in range(len(conc)):\n",
    "    stateData = nc.Dataset(loc+conc[i]+\"/data/diagsState.nc\")\n",
    "    N2 = stateData[\"DRHODR\"]\n",
    "    \n",
    "    for level in range(nz):\n",
    "        for yDex in range(ny):\n",
    "            for yr in range(years):\n",
    "                tsRange = np.arange(-(yr+1)*savesPerYear,-yr*savesPerYear,dtype=int)\n",
    "                channelMeanN2[level,yDex,yr,i] = N2[tsRange,level,yDex,:].mean((0,1)) # t,z,y,x\n",
    "        print(f\"Done w level {level}\", end=\" \")\n",
    "    print(f\"Done w {conc[i]}\", end=\"\\n\\n\")\n",
    "    \n",
    "    channelMeanN2[:,:,-1,i] = N2[0,:,:,:].mean((2,))\n",
    "    \n",
    "\n",
    "np.save(saveloc+\"/channelMeanN2Spinup.npy\",channelMeanN2)\n",
    "del N2\n",
    "del stateData"
   ]
  },
  {
   "cell_type": "code",
   "execution_count": 39,
   "metadata": {},
   "outputs": [
    {
     "name": "stdout",
     "output_type": "stream",
     "text": [
      "Done w level 0 Done w level 1 Done w level 2 Done w level 3 Done w level 4 Done w level 5 Done w level 6 Done w level 7 Done w level 8 Done w level 9 Done w level 10 Done w level 11 Done w level 12 Done w level 13 Done w level 14 Done w level 15 Done w level 16 Done w level 17 Done w level 18 Done w level 19 Done w level 20 Done w level 21 Done w level 22 Done w level 23 Done w level 24 Done w level 25 Done w level 26 Done w level 27 Done w level 28 Done w level 29 Done w level 30 Done w level 31 Done w level 32 Done w level 33 Done w level 34 Done w level 35 Done w level 36 Done w level 37 Done w level 38 Done w level 39 Done w level 40 Done w level 41 Done w level 42 Done w level 43 Done w level 44 Done w level 45 Done w level 46 Done w level 47 Done w level 48 Done w level 49 Done w 0\n",
      "\n",
      "Done w level 0 Done w level 1 Done w level 2 Done w level 3 Done w level 4 Done w level 5 Done w level 6 Done w level 7 Done w level 8 Done w level 9 Done w level 10 Done w level 11 Done w level 12 Done w level 13 Done w level 14 Done w level 15 Done w level 16 Done w level 17 Done w level 18 Done w level 19 Done w level 20 Done w level 21 Done w level 22 Done w level 23 Done w level 24 Done w level 25 Done w level 26 Done w level 27 Done w level 28 Done w level 29 Done w level 30 Done w level 31 Done w level 32 Done w level 33 Done w level 34 Done w level 35 Done w level 36 Done w level 37 Done w level 38 Done w level 39 Done w level 40 Done w level 41 Done w level 42 Done w level 43 Done w level 44 Done w level 45 Done w level 46 Done w level 47 Done w level 48 Done w level 49 Done w 100\n",
      "\n"
     ]
    }
   ],
   "source": [
    "for i in range(len(conc)):\n",
    "    stateData = nc.Dataset(loc+conc[i]+\"/data/tave.nc\")\n",
    "    salt = stateData[\"Stave\"]\n",
    "    \n",
    "    for level in range(nz):\n",
    "        for yDex in range(ny):\n",
    "            for yr in range(years):\n",
    "                tsRange = np.arange(-(yr+1)*savesPerYear,-yr*savesPerYear,dtype=int)\n",
    "                channelMeanSalt[level,yDex,yr,i] = salt[tsRange,level,yDex,:].mean((0,1)) # t,z,y,x\n",
    "        print(f\"Done w level {level}\", end=\" \")\n",
    "    print(f\"Done w {conc[i]}\", end=\"\\n\\n\")\n",
    "\n",
    "    channelMeanSalt[:,:,-1,i] = salt[0,:,:,:].mean((2,))\n",
    "\n",
    "np.save(saveloc+\"/channelMeanSaltSpinup.npy\",channelMeanSalt)\n",
    "del salt\n",
    "del stateData"
   ]
  },
  {
   "cell_type": "code",
   "execution_count": 40,
   "metadata": {},
   "outputs": [
    {
     "name": "stdout",
     "output_type": "stream",
     "text": [
      "Done w level 0 Done w level 1 Done w level 2 Done w level 3 Done w level 4 Done w level 5 Done w level 6 Done w level 7 Done w level 8 Done w level 9 Done w level 10 Done w level 11 Done w level 12 Done w level 13 Done w level 14 Done w level 15 Done w level 16 Done w level 17 Done w level 18 Done w level 19 Done w level 20 Done w level 21 Done w level 22 Done w level 23 Done w level 24 Done w level 25 Done w level 26 Done w level 27 Done w level 28 Done w level 29 Done w level 30 Done w level 31 Done w level 32 Done w level 33 Done w level 34 Done w level 35 Done w level 36 Done w level 37 Done w level 38 Done w level 39 Done w level 40 Done w level 41 Done w level 42 Done w level 43 Done w level 44 Done w level 45 Done w level 46 Done w level 47 Done w level 48 Done w level 49 Done w 0\n",
      "\n",
      "Done w level 0 Done w level 1 Done w level 2 Done w level 3 Done w level 4 Done w level 5 Done w level 6 Done w level 7 Done w level 8 Done w level 9 Done w level 10 Done w level 11 Done w level 12 Done w level 13 Done w level 14 Done w level 15 Done w level 16 Done w level 17 Done w level 18 Done w level 19 Done w level 20 Done w level 21 Done w level 22 Done w level 23 Done w level 24 Done w level 25 Done w level 26 Done w level 27 Done w level 28 Done w level 29 Done w level 30 Done w level 31 Done w level 32 Done w level 33 Done w level 34 Done w level 35 Done w level 36 Done w level 37 Done w level 38 Done w level 39 Done w level 40 Done w level 41 Done w level 42 Done w level 43 Done w level 44 Done w level 45 Done w level 46 Done w level 47 Done w level 48 Done w level 49 Done w 100\n",
      "\n"
     ]
    }
   ],
   "source": [
    "for i in range(len(conc)):\n",
    "    stateData = nc.Dataset(loc+conc[i]+\"/data/tave.nc\")\n",
    "    u = stateData[\"uVeltave\"]\n",
    "    \n",
    "    for level in range(nz):\n",
    "        for yDex in range(ny):\n",
    "            for yr in range(years):\n",
    "                tsRange = np.arange(-(yr+1)*savesPerYear,-yr*savesPerYear,dtype=int)\n",
    "                channelMeanU[level,yDex,yr,i] = u[tsRange,level,yDex,:].mean((0,1)) # t,z,y,x\n",
    "        print(f\"Done w level {level}\", end=\" \")\n",
    "    print(f\"Done w {conc[i]}\", end=\"\\n\\n\")\n",
    "    \n",
    "    channelMeanU[:,:,-1,i] = u[0,:,:,:].mean((2,))\n",
    "\n",
    "np.save(saveloc+\"/channelMeanUSpinup.npy\",channelMeanU)\n",
    "del u\n",
    "del stateData"
   ]
  },
  {
   "cell_type": "code",
   "execution_count": 41,
   "metadata": {},
   "outputs": [
    {
     "name": "stdout",
     "output_type": "stream",
     "text": [
      "Done w level 0 Done w level 1 Done w level 2 Done w level 3 Done w level 4 Done w level 5 Done w level 6 Done w level 7 Done w level 8 Done w level 9 Done w level 10 Done w level 11 Done w level 12 Done w level 13 Done w level 14 Done w level 15 Done w level 16 Done w level 17 Done w level 18 Done w level 19 Done w level 20 Done w level 21 Done w level 22 Done w level 23 Done w level 24 Done w level 25 Done w level 26 Done w level 27 Done w level 28 Done w level 29 Done w level 30 Done w level 31 Done w level 32 Done w level 33 Done w level 34 Done w level 35 Done w level 36 Done w level 37 Done w level 38 Done w level 39 Done w level 40 Done w level 41 Done w level 42 Done w level 43 Done w level 44 Done w level 45 Done w level 46 Done w level 47 Done w level 48 Done w level 49 Done w 0\n",
      "\n",
      "Done w level 0 Done w level 1 Done w level 2 Done w level 3 Done w level 4 Done w level 5 Done w level 6 Done w level 7 Done w level 8 Done w level 9 Done w level 10 Done w level 11 Done w level 12 Done w level 13 Done w level 14 Done w level 15 Done w level 16 Done w level 17 Done w level 18 Done w level 19 Done w level 20 Done w level 21 Done w level 22 Done w level 23 Done w level 24 Done w level 25 Done w level 26 Done w level 27 Done w level 28 Done w level 29 Done w level 30 Done w level 31 Done w level 32 Done w level 33 Done w level 34 Done w level 35 Done w level 36 Done w level 37 Done w level 38 Done w level 39 Done w level 40 Done w level 41 Done w level 42 Done w level 43 Done w level 44 Done w level 45 Done w level 46 Done w level 47 Done w level 48 Done w level 49 Done w 100\n",
      "\n"
     ]
    }
   ],
   "source": [
    "for i in range(len(conc)):\n",
    "    stateData = nc.Dataset(loc+conc[i]+\"/data/tave.nc\")\n",
    "    v = stateData[\"vVeltave\"]\n",
    "    \n",
    "    for level in range(nz):\n",
    "        for yDex in range(ny):\n",
    "            for yr in range(years):\n",
    "                tsRange = np.arange(-(yr+1)*savesPerYear,-yr*savesPerYear,dtype=int)\n",
    "                channelMeanV[level,yDex,yr,i] = ( v[tsRange,level,yDex,:].mean((0,1))/2\n",
    "                                                + v[tsRange,level,yDex+1,:].mean((0,1))/2) # from cell faces to centers\n",
    "        print(f\"Done w level {level}\", end=\" \")\n",
    "    print(f\"Done w {conc[i]}\", end=\"\\n\\n\")\n",
    "    \n",
    "    channelMeanV[:,:,-1,i] = (v[0,:,1:,:].mean((2,))*0.5) + (v[0,:,:-1,:].mean((2,))*0.5)\n",
    "\n",
    "np.save(saveloc+\"/channelMeanVSpinup.npy\",channelMeanV)\n",
    "del v\n",
    "del stateData"
   ]
  },
  {
   "cell_type": "code",
   "execution_count": 42,
   "metadata": {},
   "outputs": [
    {
     "name": "stdout",
     "output_type": "stream",
     "text": [
      "Done w level 0 Done w level 1 Done w level 2 Done w level 3 Done w level 4 Done w level 5 Done w level 6 Done w level 7 Done w level 8 Done w level 9 Done w level 10 Done w level 11 Done w level 12 Done w level 13 Done w level 14 Done w level 15 Done w level 16 Done w level 17 Done w level 18 Done w level 19 Done w level 20 Done w level 21 Done w level 22 Done w level 23 Done w level 24 Done w level 25 Done w level 26 Done w level 27 Done w level 28 Done w level 29 Done w level 30 Done w level 31 Done w level 32 Done w level 33 Done w level 34 Done w level 35 Done w level 36 Done w level 37 Done w level 38 Done w level 39 Done w level 40 Done w level 41 Done w level 42 Done w level 43 Done w level 44 Done w level 45 Done w level 46 Done w level 47 Done w level 48 Done w level 49 Done w 0\n",
      "\n",
      "Done w level 0 Done w level 1 Done w level 2 Done w level 3 Done w level 4 Done w level 5 Done w level 6 Done w level 7 Done w level 8 Done w level 9 Done w level 10 Done w level 11 Done w level 12 Done w level 13 Done w level 14 Done w level 15 Done w level 16 Done w level 17 Done w level 18 Done w level 19 Done w level 20 Done w level 21 Done w level 22 Done w level 23 Done w level 24 Done w level 25 Done w level 26 Done w level 27 Done w level 28 Done w level 29 Done w level 30 Done w level 31 Done w level 32 Done w level 33 Done w level 34 Done w level 35 Done w level 36 Done w level 37 Done w level 38 Done w level 39 Done w level 40 Done w level 41 Done w level 42 Done w level 43 Done w level 44 Done w level 45 Done w level 46 Done w level 47 Done w level 48 Done w level 49 Done w 100\n",
      "\n"
     ]
    }
   ],
   "source": [
    "for i in range(len(conc)):\n",
    "    stateData = nc.Dataset(loc+conc[i]+\"/data/tave.nc\")\n",
    "    w = stateData[\"wVeltave\"]\n",
    "    \n",
    "    for level in range(nz):\n",
    "        for yDex in range(ny):\n",
    "            for yr in range(years):\n",
    "                tsRange = np.arange(-(yr+1)*savesPerYear,-yr*savesPerYear,dtype=int)\n",
    "                channelMeanW[level,yDex,yr,i] = w[tsRange,level,yDex,:].mean((0,1)) # t,z,y,x\n",
    "        print(f\"Done w level {level}\", end=\" \")\n",
    "    print(f\"Done w {conc[i]}\", end=\"\\n\\n\")\n",
    "    \n",
    "    channelMeanW[:,:,-1,i] = w[0,:,:,:].mean((2,))\n",
    "\n",
    "np.save(saveloc+\"/channelMeanWSpinup.npy\",channelMeanW)\n",
    "del w\n",
    "del stateData"
   ]
  },
  {
   "cell_type": "code",
   "execution_count": null,
   "metadata": {},
   "outputs": [],
   "source": []
  },
  {
   "cell_type": "code",
   "execution_count": null,
   "metadata": {},
   "outputs": [],
   "source": []
  },
  {
   "cell_type": "code",
   "execution_count": null,
   "metadata": {},
   "outputs": [],
   "source": []
  },
  {
   "cell_type": "code",
   "execution_count": null,
   "metadata": {},
   "outputs": [],
   "source": []
  },
  {
   "cell_type": "code",
   "execution_count": null,
   "metadata": {},
   "outputs": [],
   "source": []
  },
  {
   "cell_type": "code",
   "execution_count": null,
   "metadata": {},
   "outputs": [],
   "source": []
  },
  {
   "cell_type": "code",
   "execution_count": null,
   "metadata": {},
   "outputs": [],
   "source": []
  },
  {
   "cell_type": "code",
   "execution_count": null,
   "metadata": {},
   "outputs": [],
   "source": []
  },
  {
   "cell_type": "code",
   "execution_count": null,
   "metadata": {},
   "outputs": [],
   "source": []
  },
  {
   "cell_type": "code",
   "execution_count": null,
   "metadata": {},
   "outputs": [],
   "source": []
  },
  {
   "cell_type": "code",
   "execution_count": null,
   "metadata": {},
   "outputs": [],
   "source": []
  },
  {
   "cell_type": "code",
   "execution_count": null,
   "metadata": {},
   "outputs": [],
   "source": []
  },
  {
   "cell_type": "code",
   "execution_count": null,
   "metadata": {},
   "outputs": [],
   "source": []
  },
  {
   "cell_type": "code",
   "execution_count": null,
   "metadata": {},
   "outputs": [],
   "source": []
  },
  {
   "cell_type": "code",
   "execution_count": null,
   "metadata": {},
   "outputs": [],
   "source": []
  }
 ],
 "metadata": {
  "kernelspec": {
   "display_name": "singularityEnv",
   "language": "python",
   "name": "singularityenv"
  },
  "language_info": {
   "codemirror_mode": {
    "name": "ipython",
    "version": 3
   },
   "file_extension": ".py",
   "mimetype": "text/x-python",
   "name": "python",
   "nbconvert_exporter": "python",
   "pygments_lexer": "ipython3",
   "version": "3.11.4"
  }
 },
 "nbformat": 4,
 "nbformat_minor": 4
}
