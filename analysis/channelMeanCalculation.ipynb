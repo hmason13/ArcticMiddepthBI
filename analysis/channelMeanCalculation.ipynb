{
 "cells": [
  {
   "cell_type": "code",
   "execution_count": 1,
   "metadata": {},
   "outputs": [],
   "source": [
    "import numpy as np\n",
    "import matplotlib.pyplot as plt\n",
    "import netCDF4 as nc"
   ]
  },
  {
   "cell_type": "code",
   "execution_count": 2,
   "metadata": {},
   "outputs": [],
   "source": [
    "# params\n",
    "secondsPerDay = 86400\n",
    "nx = 250\n",
    "ny = 300\n",
    "nz = 50\n",
    "nt = 3600\n",
    "\n",
    "# io params\n",
    "conc = [\"0\", \"40\", \"80\", \"100\"]\n",
    "loc = \"/scratch/hcm7920/arcticMiddepthBI-\"\n",
    "tsSkip = 1\n",
    "\n"
   ]
  },
  {
   "cell_type": "code",
   "execution_count": null,
   "metadata": {},
   "outputs": [],
   "source": []
  },
  {
   "cell_type": "code",
   "execution_count": null,
   "metadata": {},
   "outputs": [],
   "source": []
  },
  {
   "cell_type": "code",
   "execution_count": 3,
   "metadata": {},
   "outputs": [],
   "source": [
    "channelMeanRho = np.zeros(shape=(nx,nz,2,len(conc)))"
   ]
  },
  {
   "cell_type": "code",
   "execution_count": null,
   "metadata": {},
   "outputs": [
    {
     "name": "stdout",
     "output_type": "stream",
     "text": [
      "Done w level 0 Done w level 1 Done w level 2 Done w level 3 Done w level 4 Done w level 5 Done w level 6 Done w level 7 Done w level 8 Done w level 9 Done w level 10 Done w level 11 Done w level 12 Done w level 13 Done w level 14 Done w level 15 Done w level 16 Done w level 17 Done w level 18 Done w level 19 Done w level 20 Done w level 21 Done w level 22 Done w level 23 Done w level 24 Done w level 25 Done w level 26 Done w level 27 Done w level 28 Done w level 29 Done w level 30 Done w level 31 Done w level 32 Done w level 33 Done w level 34 Done w level 35 Done w level 36 Done w level 37 Done w level 38 Done w level 39 Done w level 40 Done w level 41 Done w level 42 Done w level 43 Done w level 44 Done w level 45 Done w level 46 Done w level 47 Done w level 48 Done w level 49 Done w 0\n",
      "\n",
      "Done w level 0 Done w level 1 Done w level 2 Done w level 3 Done w level 4 Done w level 5 Done w level 6 Done w level 7 "
     ]
    }
   ],
   "source": [
    "for i in range(len(conc)):\n",
    "    stateData = nc.Dataset(loc+conc[i]+\"/data/diagsState.nc\")\n",
    "    rho = stateData[\"RHOAnoma\"]\n",
    "    \n",
    "    channelMeanRho[:,:,0,i] = rho[0,:,:,:].mean((1,)).T\n",
    "    \n",
    "    for level in range(nz):\n",
    "        for yDex in range(ny):\n",
    "            for tB in range(-801,-1,100):\n",
    "                channelMeanRho[:,level,1,i] += rho[tB:tB+100:tsSkip,level,yDex,:].mean((0,)) # t,z,y,x\n",
    "        channelMeanRho[:,level,1,i] /= (ny*8)\n",
    "        print(f\"Done w level {level}\", end=\" \")\n",
    "    print(f\"Done w {conc[i]}\", end=\"\\n\\n\")"
   ]
  },
  {
   "cell_type": "code",
   "execution_count": null,
   "metadata": {},
   "outputs": [],
   "source": [
    "np.save(\"/scratch/hcm7920/ambData/channelMeanRhoSpinup.npy\",channelMeanRho)\n",
    "del rho\n",
    "# del channelMeanRho"
   ]
  },
  {
   "cell_type": "code",
   "execution_count": null,
   "metadata": {},
   "outputs": [],
   "source": []
  },
  {
   "cell_type": "code",
   "execution_count": null,
   "metadata": {},
   "outputs": [],
   "source": [
    "channelMeanN2  = np.zeros(shape=(nx,nz,2,len(conc))) \n",
    "for i in range(len(conc)):\n",
    "    stateData = nc.Dataset(loc+conc[i]+\"/data/diagsState.nc\")\n",
    "    N2  = stateData[\"DRHODR\"]\n",
    "    \n",
    "    channelMeanN2[:,:,0,i] = N2[0,:,:,:].mean((1,)).T\n",
    "    \n",
    "    for level in range(nz):\n",
    "        for yDex in range(ny):\n",
    "            for tB in range(-801,-1,100):\n",
    "                channelMeanN2[:,level,1,i] += N2[tB:tB+100:tsSkip,level,yDex,:].mean((0,))\n",
    "        channelMeanN2[:,level,1,i] /= (ny*8)\n",
    "        print(f\"Done w level {level}\", end=\" \")\n",
    "    print(f\"Done w {conc[i]}\", end=\"\\n\\n\")"
   ]
  },
  {
   "cell_type": "code",
   "execution_count": null,
   "metadata": {},
   "outputs": [],
   "source": [
    "\n",
    "np.save(\"/scratch/hcm7920/ambData/channelMeanN2Spinup.npy\",channelMeanN2)\n",
    "\n",
    "del N2\n",
    "# del channelMeanN2"
   ]
  },
  {
   "cell_type": "code",
   "execution_count": null,
   "metadata": {},
   "outputs": [],
   "source": []
  },
  {
   "cell_type": "code",
   "execution_count": null,
   "metadata": {},
   "outputs": [],
   "source": [
    "channelMeanU   = np.zeros(shape=(nx+1,nz,2,len(conc)))\n"
   ]
  },
  {
   "cell_type": "code",
   "execution_count": null,
   "metadata": {},
   "outputs": [],
   "source": [
    "for i in range(len(conc)):\n",
    "    stateData = nc.Dataset(loc+conc[i]+\"/data/tave.nc\")\n",
    "    u = stateData[\"uVeltave\"]\n",
    "    \n",
    "    channelMeanU[:,:,0,i] = u[0,:,:,:].mean((1,)).T\n",
    "    \n",
    "    for level in range(nz):\n",
    "        for yDex in range(ny):\n",
    "            channelMeanU[:,level,1,i] += u[-100::tsSkip,level,yDex,:].mean((0,)) # t,z,y,x\n",
    "\n",
    "        channelMeanU[:,level,1,i] /= (ny)\n",
    "\n",
    "        print(f\"Done w level {level}\", end=\" \")\n",
    "    print(f\"Done w {conc[i]}\", end=\"\\n\\n\")"
   ]
  },
  {
   "cell_type": "code",
   "execution_count": null,
   "metadata": {},
   "outputs": [],
   "source": [
    "np.save(\"/scratch/hcm7920/ambData/channelMeanUSpinup.npy\",channelMeanU)\n",
    "# del channelMeanU\n",
    "del u\n"
   ]
  },
  {
   "cell_type": "code",
   "execution_count": null,
   "metadata": {},
   "outputs": [],
   "source": [
    "channelMeanV   = np.zeros(shape=(nx,nz,2,len(conc)))\n",
    "for i in range(len(conc)):\n",
    "    stateData = nc.Dataset(loc+conc[i]+\"/data/tave.nc\")\n",
    "    v = stateData[\"vVeltave\"]\n",
    "    \n",
    "    channelMeanV[:,:,0,i] = v[0,:,:,:].mean((1,)).T\n",
    "\n",
    "    \n",
    "    for level in range(nz):\n",
    "        for yDex in range(ny):\n",
    "            channelMeanV[:,level,1,i] += v[-100::tsSkip,level,yDex,:].mean((0,))\n",
    "\n",
    "        channelMeanV[:,level,1,i] /= (ny)\n",
    "\n",
    "        print(f\"Done w level {level}\", end=\" \")\n",
    "    print(f\"Done w {conc[i]}\", end=\"\\n\\n\")"
   ]
  },
  {
   "cell_type": "code",
   "execution_count": null,
   "metadata": {},
   "outputs": [],
   "source": [
    "np.save(\"/scratch/hcm7920/ambData/channelMeanVSpinup.npy\",channelMeanV)\n",
    "# del channelMeanV\n",
    "del v"
   ]
  },
  {
   "cell_type": "code",
   "execution_count": null,
   "metadata": {},
   "outputs": [],
   "source": [
    "channelMeanW   = np.zeros(shape=(nx,nz,2,len(conc)))\n",
    "for i in range(len(conc)):\n",
    "    stateData = nc.Dataset(loc+conc[i]+\"/data/tave.nc\")\n",
    "    w = stateData[\"wVeltave\"]\n",
    "    \n",
    "    channelMeanW[:,:,0,i] = w[0,:,:,:].mean((1,)).T\n",
    "    \n",
    "    for level in range(nz):\n",
    "        for yDex in range(ny):\n",
    "            channelMeanW[:,level,1,i] += w[-100::tsSkip,level,yDex,:].mean((0,)) # t,z,y,x\n",
    "        channelMeanW[:,level,1,i] /= (ny)\n",
    "        print(f\"Done w level {level}\", end=\" \")\n",
    "    print(f\"Done w {conc[i]}\", end=\"\\n\\n\")"
   ]
  },
  {
   "cell_type": "code",
   "execution_count": null,
   "metadata": {},
   "outputs": [],
   "source": []
  },
  {
   "cell_type": "code",
   "execution_count": null,
   "metadata": {},
   "outputs": [],
   "source": [
    "\n",
    "np.save(\"/scratch/hcm7920/ambData/channelMeanWSpinup.npy\",channelMeanW)\n",
    "# del channelMeanW\n",
    "del w"
   ]
  },
  {
   "cell_type": "code",
   "execution_count": null,
   "metadata": {},
   "outputs": [],
   "source": []
  },
  {
   "cell_type": "code",
   "execution_count": null,
   "metadata": {},
   "outputs": [],
   "source": [
    "channelMeanSalt   = np.zeros(shape=(nx,nz,2,len(conc)))\n",
    "for i in range(len(conc)):\n",
    "    stateData = nc.Dataset(loc+conc[i]+\"/data/tave.nc\")\n",
    "    s = stateData[\"Stave\"]\n",
    "    \n",
    "    channelMeanSalt[:,:,0,i] = s[0,:,:,:].mean((1,)).T\n",
    "    \n",
    "    for level in range(nz):\n",
    "        for yDex in range(ny):\n",
    "            channelMeanSalt[:,level,1,i] += s[-100::tsSkip,level,yDex,:].mean((0,)) # t,z,y,x\n",
    "        channelMeanSalt[:,level,1,i] /= (ny)\n",
    "        print(f\"Done w level {level}\", end=\" \")\n",
    "    print(f\"Done w {conc[i]}\", end=\"\\n\\n\")"
   ]
  },
  {
   "cell_type": "code",
   "execution_count": null,
   "metadata": {},
   "outputs": [],
   "source": [
    "\n",
    "np.save(\"/scratch/hcm7920/ambData/channelMeanSaltSpinup.npy\",channelMeanSalt)\n",
    "# del channelMeanW\n",
    "del s"
   ]
  },
  {
   "cell_type": "code",
   "execution_count": null,
   "metadata": {},
   "outputs": [],
   "source": []
  },
  {
   "cell_type": "code",
   "execution_count": null,
   "metadata": {},
   "outputs": [],
   "source": []
  },
  {
   "cell_type": "code",
   "execution_count": null,
   "metadata": {},
   "outputs": [],
   "source": []
  },
  {
   "cell_type": "code",
   "execution_count": null,
   "metadata": {},
   "outputs": [],
   "source": []
  }
 ],
 "metadata": {
  "kernelspec": {
   "display_name": "singularityEnv",
   "language": "python",
   "name": "singularityenv"
  },
  "language_info": {
   "codemirror_mode": {
    "name": "ipython",
    "version": 3
   },
   "file_extension": ".py",
   "mimetype": "text/x-python",
   "name": "python",
   "nbconvert_exporter": "python",
   "pygments_lexer": "ipython3",
   "version": "3.11.4"
  }
 },
 "nbformat": 4,
 "nbformat_minor": 4
}
